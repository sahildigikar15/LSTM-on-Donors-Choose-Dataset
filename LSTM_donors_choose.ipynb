{
 "cells": [
  {
   "cell_type": "code",
   "execution_count": 1,
   "metadata": {
    "colab": {
     "base_uri": "https://localhost:8080/",
     "height": 237
    },
    "colab_type": "code",
    "id": "hKqqd1BgPi-3",
    "outputId": "7b200ef7-7458-4524-853f-b55512333719"
   },
   "outputs": [
    {
     "name": "stdout",
     "output_type": "stream",
     "text": [
      "--2019-10-20 19:44:54--  https://doc-10-18-docs.googleusercontent.com/docs/securesc/kouh0dj93pg8socn3771nf3vuerbu0d0/9d1fpanrp3850oa08i7dqriia64mll26/1571572800000/00484516897554883881/03405128463857276630/1GpATd_pM4mcnWWIs28-s1lgqdAg2Wdv-?e=download&nonce=p45iagl3rnk0s&user=03405128463857276630&hash=3g7rvdnd4eps41n3k92r0jr7tdotshbv\n",
      "Resolving doc-10-18-docs.googleusercontent.com (doc-10-18-docs.googleusercontent.com)... 209.85.145.132, 2607:f8b0:4001:c1e::84\n",
      "Connecting to doc-10-18-docs.googleusercontent.com (doc-10-18-docs.googleusercontent.com)|209.85.145.132|:443... connected.\n",
      "HTTP request sent, awaiting response... 200 OK\n",
      "Length: unspecified [text/csv]\n",
      "Saving to: ‘preprocessed_data.csv’\n",
      "\n",
      "preprocessed_data.c     [     <=>            ] 118.69M  74.0MB/s    in 1.6s    \n",
      "\n",
      "2019-10-20 19:44:56 (74.0 MB/s) - ‘preprocessed_data.csv’ saved [124454659]\n",
      "\n"
     ]
    }
   ],
   "source": [
    "! wget --header=\"Host: doc-10-18-docs.googleusercontent.com\" --header=\"User-Agent: Mozilla/5.0 (Windows NT 10.0; Win64; x64) AppleWebKit/537.36 (KHTML, like Gecko) Chrome/77.0.3865.90 Safari/537.36\" --header=\"Accept: text/html,application/xhtml+xml,application/xml;q=0.9,image/webp,image/apng,*/*;q=0.8,application/signed-exchange;v=b3\" --header=\"Accept-Language: en-US,en;q=0.9\" --header=\"Referer: https://drive.google.com/drive/u/0/folders/1CJnItndeSSJu7aragQoXWZS9-0apN6pp\" --header=\"Cookie: AUTH_n6vvpd2r87sjptk2jgbojkp7vbjvha1u_nonce=p45iagl3rnk0s; NID=188=KiK_PV1aFtP2hQjMMdFB0G1BWOB_X7cDs3ISbqXmR0k3i5e7-5_fjFcc04BrYkdXsZRmuhlfOTmqeMs84shX5QWqttGVwPdvx8bameIr3ZSY2nWhgLYh0dNq2l0eG6oTKcmqqq7o8G1kxCnVFExImcu2NhJqoF1VUjg45eluHUw; _gcl_au=1.1.995756861.1564817201; _ga=GA1.2.1707750036.1564817201\" --header=\"Connection: keep-alive\" \"https://doc-10-18-docs.googleusercontent.com/docs/securesc/kouh0dj93pg8socn3771nf3vuerbu0d0/9d1fpanrp3850oa08i7dqriia64mll26/1571572800000/00484516897554883881/03405128463857276630/1GpATd_pM4mcnWWIs28-s1lgqdAg2Wdv-?e=download&nonce=p45iagl3rnk0s&user=03405128463857276630&hash=3g7rvdnd4eps41n3k92r0jr7tdotshbv\" -O \"preprocessed_data.csv\" -c"
   ]
  },
  {
   "cell_type": "code",
   "execution_count": 2,
   "metadata": {
    "colab": {
     "base_uri": "https://localhost:8080/",
     "height": 237
    },
    "colab_type": "code",
    "id": "Ag2nJKkUP6ZZ",
    "outputId": "7cca8a0f-f9e2-44e5-9789-4803b97151a3"
   },
   "outputs": [
    {
     "name": "stdout",
     "output_type": "stream",
     "text": [
      "--2019-10-20 19:45:02--  https://doc-10-18-docs.googleusercontent.com/docs/securesc/kouh0dj93pg8socn3771nf3vuerbu0d0/4ksf045cd4dc5fago6180grtk4fr1eri/1571572800000/00484516897554883881/03405128463857276630/1pGd5tLwA30M7wkbJKdXHaae9tYVDICJ_?e=download\n",
      "Resolving doc-10-18-docs.googleusercontent.com (doc-10-18-docs.googleusercontent.com)... 209.85.145.132, 2607:f8b0:4001:c1e::84\n",
      "Connecting to doc-10-18-docs.googleusercontent.com (doc-10-18-docs.googleusercontent.com)|209.85.145.132|:443... connected.\n",
      "HTTP request sent, awaiting response... 200 OK\n",
      "Length: unspecified [application/octet-stream]\n",
      "Saving to: ‘glove_vectors’\n",
      "\n",
      "glove_vectors           [     <=>            ] 121.60M   121MB/s    in 1.0s    \n",
      "\n",
      "2019-10-20 19:45:04 (121 MB/s) - ‘glove_vectors’ saved [127506004]\n",
      "\n"
     ]
    }
   ],
   "source": [
    "! wget --header=\"Host: doc-10-18-docs.googleusercontent.com\" --header=\"User-Agent: Mozilla/5.0 (Windows NT 10.0; Win64; x64) AppleWebKit/537.36 (KHTML, like Gecko) Chrome/77.0.3865.90 Safari/537.36\" --header=\"Accept: text/html,application/xhtml+xml,application/xml;q=0.9,image/webp,image/apng,*/*;q=0.8,application/signed-exchange;v=b3\" --header=\"Accept-Language: en-US,en;q=0.9\" --header=\"Referer: https://drive.google.com/drive/u/0/folders/1CJnItndeSSJu7aragQoXWZS9-0apN6pp\" --header=\"Cookie: AUTH_n6vvpd2r87sjptk2jgbojkp7vbjvha1u=03405128463857276630|1571572800000|vuhrvldq1doh1na343tnq1nfej6uel06; NID=188=KiK_PV1aFtP2hQjMMdFB0G1BWOB_X7cDs3ISbqXmR0k3i5e7-5_fjFcc04BrYkdXsZRmuhlfOTmqeMs84shX5QWqttGVwPdvx8bameIr3ZSY2nWhgLYh0dNq2l0eG6oTKcmqqq7o8G1kxCnVFExImcu2NhJqoF1VUjg45eluHUw; _gcl_au=1.1.995756861.1564817201; _ga=GA1.2.1707750036.1564817201\" --header=\"Connection: keep-alive\" \"https://doc-10-18-docs.googleusercontent.com/docs/securesc/kouh0dj93pg8socn3771nf3vuerbu0d0/4ksf045cd4dc5fago6180grtk4fr1eri/1571572800000/00484516897554883881/03405128463857276630/1pGd5tLwA30M7wkbJKdXHaae9tYVDICJ_?e=download\" -O \"glove_vectors\" -c"
   ]
  },
  {
   "cell_type": "code",
   "execution_count": 3,
   "metadata": {
    "colab": {
     "base_uri": "https://localhost:8080/",
     "height": 35
    },
    "colab_type": "code",
    "id": "PQluX0-2QB3d",
    "outputId": "5fae5057-bc40-4278-d722-9635271a3c97"
   },
   "outputs": [
    {
     "name": "stderr",
     "output_type": "stream",
     "text": [
      "Using TensorFlow backend.\n"
     ]
    }
   ],
   "source": [
    "import numpy as np\n",
    "import pandas as pd\n",
    "from keras.preprocessing.sequence import pad_sequences\n",
    "from keras.models import Sequential\n",
    "from keras.layers import Dense, Input , Dropout\n",
    "from keras.layers import Flatten\n",
    "from keras.layers import concatenate\n",
    "from keras.layers.embeddings import Embedding\n",
    "from keras.models import Model\n",
    "from keras.utils import to_categorical\n",
    "from sklearn.model_selection import train_test_split\n",
    "from keras.preprocessing.text import Tokenizer\n",
    "import matplotlib.pyplot as plt\n",
    "import pickle\n",
    "from keras.layers import LSTM\n",
    "from keras.preprocessing.text import text_to_word_sequence\n",
    "import tensorflow as tf\n",
    "from keras.callbacks import ModelCheckpoint,TensorBoard,ReduceLROnPlateau, EarlyStopping\n",
    "from keras.layers.normalization import BatchNormalization\n",
    "from sklearn.feature_extraction.text import TfidfVectorizer\n",
    "import seaborn as sns\n",
    "from keras.regularizers import l2\n",
    "from sklearn.metrics import roc_auc_score\n",
    "from keras.models import load_model\n",
    "from IPython.display import Image\n",
    "from scipy.sparse import hstack\n",
    "from keras.layers import Conv1D\n",
    "from sklearn.feature_extraction.text import CountVectorizer\n",
    "from prettytable import PrettyTable"
   ]
  },
  {
   "cell_type": "code",
   "execution_count": 4,
   "metadata": {
    "colab": {
     "base_uri": "https://localhost:8080/",
     "height": 660
    },
    "colab_type": "code",
    "id": "-QT-gcajQH7B",
    "outputId": "4b2e783c-8f2d-4742-9bbf-541f63874a8e"
   },
   "outputs": [
    {
     "data": {
      "text/html": [
       "<div>\n",
       "<style scoped>\n",
       "    .dataframe tbody tr th:only-of-type {\n",
       "        vertical-align: middle;\n",
       "    }\n",
       "\n",
       "    .dataframe tbody tr th {\n",
       "        vertical-align: top;\n",
       "    }\n",
       "\n",
       "    .dataframe thead th {\n",
       "        text-align: right;\n",
       "    }\n",
       "</style>\n",
       "<table border=\"1\" class=\"dataframe\">\n",
       "  <thead>\n",
       "    <tr style=\"text-align: right;\">\n",
       "      <th></th>\n",
       "      <th>school_state</th>\n",
       "      <th>teacher_prefix</th>\n",
       "      <th>project_grade_category</th>\n",
       "      <th>teacher_number_of_previously_posted_projects</th>\n",
       "      <th>project_is_approved</th>\n",
       "      <th>clean_categories</th>\n",
       "      <th>clean_subcategories</th>\n",
       "      <th>essay</th>\n",
       "      <th>price</th>\n",
       "    </tr>\n",
       "  </thead>\n",
       "  <tbody>\n",
       "    <tr>\n",
       "      <th>0</th>\n",
       "      <td>ca</td>\n",
       "      <td>mrs</td>\n",
       "      <td>grades_prek_2</td>\n",
       "      <td>53</td>\n",
       "      <td>1</td>\n",
       "      <td>math_science</td>\n",
       "      <td>appliedsciences health_lifescience</td>\n",
       "      <td>i fortunate enough use fairy tale stem kits cl...</td>\n",
       "      <td>725.05</td>\n",
       "    </tr>\n",
       "    <tr>\n",
       "      <th>1</th>\n",
       "      <td>ut</td>\n",
       "      <td>ms</td>\n",
       "      <td>grades_3_5</td>\n",
       "      <td>4</td>\n",
       "      <td>1</td>\n",
       "      <td>specialneeds</td>\n",
       "      <td>specialneeds</td>\n",
       "      <td>imagine 8 9 years old you third grade classroo...</td>\n",
       "      <td>213.03</td>\n",
       "    </tr>\n",
       "    <tr>\n",
       "      <th>2</th>\n",
       "      <td>ca</td>\n",
       "      <td>mrs</td>\n",
       "      <td>grades_prek_2</td>\n",
       "      <td>10</td>\n",
       "      <td>1</td>\n",
       "      <td>literacy_language</td>\n",
       "      <td>literacy</td>\n",
       "      <td>having class 24 students comes diverse learner...</td>\n",
       "      <td>329.00</td>\n",
       "    </tr>\n",
       "    <tr>\n",
       "      <th>3</th>\n",
       "      <td>ga</td>\n",
       "      <td>mrs</td>\n",
       "      <td>grades_prek_2</td>\n",
       "      <td>2</td>\n",
       "      <td>1</td>\n",
       "      <td>appliedlearning</td>\n",
       "      <td>earlydevelopment</td>\n",
       "      <td>i recently read article giving students choice...</td>\n",
       "      <td>481.04</td>\n",
       "    </tr>\n",
       "    <tr>\n",
       "      <th>4</th>\n",
       "      <td>wa</td>\n",
       "      <td>mrs</td>\n",
       "      <td>grades_3_5</td>\n",
       "      <td>2</td>\n",
       "      <td>1</td>\n",
       "      <td>literacy_language</td>\n",
       "      <td>literacy</td>\n",
       "      <td>my students crave challenge eat obstacles brea...</td>\n",
       "      <td>17.74</td>\n",
       "    </tr>\n",
       "  </tbody>\n",
       "</table>\n",
       "</div>"
      ],
      "text/plain": [
       "  school_state  ...   price\n",
       "0           ca  ...  725.05\n",
       "1           ut  ...  213.03\n",
       "2           ca  ...  329.00\n",
       "3           ga  ...  481.04\n",
       "4           wa  ...   17.74\n",
       "\n",
       "[5 rows x 9 columns]"
      ]
     },
     "execution_count": 4,
     "metadata": {
      "tags": []
     },
     "output_type": "execute_result"
    }
   ],
   "source": [
    "import pandas as pd\n",
    "\n",
    "data = pd.read_csv(\"preprocessed_data.csv\")\n",
    "data.head()"
   ]
  },
  {
   "cell_type": "code",
   "execution_count": 5,
   "metadata": {
    "colab": {
     "base_uri": "https://localhost:8080/",
     "height": 108
    },
    "colab_type": "code",
    "id": "Inn26h1wQJ1D",
    "outputId": "e21943dd-02b3-46f8-e1fd-1038456ac8c6"
   },
   "outputs": [
    {
     "name": "stdout",
     "output_type": "stream",
     "text": [
      "Index(['school_state', 'teacher_prefix', 'project_grade_category',\n",
      "       'teacher_number_of_previously_posted_projects', 'project_is_approved',\n",
      "       'clean_categories', 'clean_subcategories', 'essay', 'price'],\n",
      "      dtype='object')\n",
      "(109248, 9)\n"
     ]
    }
   ],
   "source": [
    "print(data.columns)\n",
    "print(data.shape)"
   ]
  },
  {
   "cell_type": "code",
   "execution_count": 0,
   "metadata": {
    "colab": {},
    "colab_type": "code",
    "id": "a880ztgFQL7m"
   },
   "outputs": [],
   "source": [
    "Y=data[\"project_is_approved\"].values"
   ]
  },
  {
   "cell_type": "code",
   "execution_count": 0,
   "metadata": {
    "colab": {},
    "colab_type": "code",
    "id": "jp3uySsbQNzB"
   },
   "outputs": [],
   "source": [
    "data.drop(\"project_is_approved\",axis = 1, inplace = True)"
   ]
  },
  {
   "cell_type": "code",
   "execution_count": 0,
   "metadata": {
    "colab": {},
    "colab_type": "code",
    "id": "kOMxKHJpQPYJ"
   },
   "outputs": [],
   "source": [
    "X=data"
   ]
  },
  {
   "cell_type": "code",
   "execution_count": 9,
   "metadata": {
    "colab": {
     "base_uri": "https://localhost:8080/",
     "height": 53
    },
    "colab_type": "code",
    "id": "WeBcGo8GQRPY",
    "outputId": "adf923d1-4db6-4aad-b649-0f74464fba96"
   },
   "outputs": [
    {
     "name": "stdout",
     "output_type": "stream",
     "text": [
      "(81936, 8) (81936,)\n",
      "(27312, 8) (27312,)\n"
     ]
    }
   ],
   "source": [
    "from sklearn.model_selection import train_test_split\n",
    "X_train, X_test, Y_train, Y_test = train_test_split(X, Y, test_size=0.25, stratify=Y)\n",
    "\n",
    "\n",
    "\n",
    "print(X_train.shape,Y_train.shape)\n",
    "print(X_test.shape,Y_test.shape)\n"
   ]
  },
  {
   "cell_type": "markdown",
   "metadata": {},
   "source": [
    "### Tokenizing the text:"
   ]
  },
  {
   "cell_type": "code",
   "execution_count": 0,
   "metadata": {
    "colab": {},
    "colab_type": "code",
    "id": "GPNZD0ylQTIS"
   },
   "outputs": [],
   "source": [
    "from keras.preprocessing.text import Tokenizer\n",
    "tokenizer = Tokenizer(num_words= 100000 )\n",
    "tokenizer.fit_on_texts(X_train[\"essay\"])\n"
   ]
  },
  {
   "cell_type": "code",
   "execution_count": 11,
   "metadata": {
    "colab": {
     "base_uri": "https://localhost:8080/",
     "height": 235
    },
    "colab_type": "code",
    "id": "vfrlFyObRWGM",
    "outputId": "97cd0b81-74fc-46ff-dc78-7ae333d6c769"
   },
   "outputs": [
    {
     "name": "stderr",
     "output_type": "stream",
     "text": [
      "/usr/local/lib/python3.6/dist-packages/ipykernel_launcher.py:1: SettingWithCopyWarning: \n",
      "A value is trying to be set on a copy of a slice from a DataFrame.\n",
      "Try using .loc[row_indexer,col_indexer] = value instead\n",
      "\n",
      "See the caveats in the documentation: http://pandas.pydata.org/pandas-docs/stable/indexing.html#indexing-view-versus-copy\n",
      "  \"\"\"Entry point for launching an IPython kernel.\n",
      "/usr/local/lib/python3.6/dist-packages/ipykernel_launcher.py:3: SettingWithCopyWarning: \n",
      "A value is trying to be set on a copy of a slice from a DataFrame.\n",
      "Try using .loc[row_indexer,col_indexer] = value instead\n",
      "\n",
      "See the caveats in the documentation: http://pandas.pydata.org/pandas-docs/stable/indexing.html#indexing-view-versus-copy\n",
      "  This is separate from the ipykernel package so we can avoid doing imports until\n"
     ]
    }
   ],
   "source": [
    "X_train['essay_tok']  = tokenizer.texts_to_sequences(X_train['essay'].values)\n",
    "\n",
    "X_test['essay_tok']   = tokenizer.texts_to_sequences(X_test['essay'].values)"
   ]
  },
  {
   "cell_type": "code",
   "execution_count": 12,
   "metadata": {
    "colab": {
     "base_uri": "https://localhost:8080/",
     "height": 591
    },
    "colab_type": "code",
    "id": "mKyqnt80RY2F",
    "outputId": "ca970f47-95eb-4b4f-c3d0-de6d8af0e80a",
    "scrolled": false
   },
   "outputs": [
    {
     "data": {
      "text/html": [
       "<div>\n",
       "<style scoped>\n",
       "    .dataframe tbody tr th:only-of-type {\n",
       "        vertical-align: middle;\n",
       "    }\n",
       "\n",
       "    .dataframe tbody tr th {\n",
       "        vertical-align: top;\n",
       "    }\n",
       "\n",
       "    .dataframe thead th {\n",
       "        text-align: right;\n",
       "    }\n",
       "</style>\n",
       "<table border=\"1\" class=\"dataframe\">\n",
       "  <thead>\n",
       "    <tr style=\"text-align: right;\">\n",
       "      <th></th>\n",
       "      <th>school_state</th>\n",
       "      <th>teacher_prefix</th>\n",
       "      <th>project_grade_category</th>\n",
       "      <th>teacher_number_of_previously_posted_projects</th>\n",
       "      <th>clean_categories</th>\n",
       "      <th>clean_subcategories</th>\n",
       "      <th>essay</th>\n",
       "      <th>price</th>\n",
       "      <th>essay_tok</th>\n",
       "    </tr>\n",
       "  </thead>\n",
       "  <tbody>\n",
       "    <tr>\n",
       "      <th>56366</th>\n",
       "      <td>ca</td>\n",
       "      <td>ms</td>\n",
       "      <td>grades_prek_2</td>\n",
       "      <td>2</td>\n",
       "      <td>literacy_language</td>\n",
       "      <td>literacy literature_writing</td>\n",
       "      <td>my first grade students respectful enthusiasti...</td>\n",
       "      <td>650.19</td>\n",
       "      <td>[4, 72, 39, 1, 1535, 562, 360, 55, 9, 89, 22, ...</td>\n",
       "    </tr>\n",
       "    <tr>\n",
       "      <th>86385</th>\n",
       "      <td>sc</td>\n",
       "      <td>mrs</td>\n",
       "      <td>grades_6_8</td>\n",
       "      <td>3</td>\n",
       "      <td>math_science specialneeds</td>\n",
       "      <td>mathematics specialneeds</td>\n",
       "      <td>i teach classroom 18 students multi categorica...</td>\n",
       "      <td>288.88</td>\n",
       "      <td>[2, 49, 6, 1524, 1, 1161, 8199, 300, 25, 1, 8,...</td>\n",
       "    </tr>\n",
       "    <tr>\n",
       "      <th>29117</th>\n",
       "      <td>in</td>\n",
       "      <td>mr</td>\n",
       "      <td>grades_6_8</td>\n",
       "      <td>0</td>\n",
       "      <td>math_science</td>\n",
       "      <td>appliedsciences</td>\n",
       "      <td>my students come variety locations around city...</td>\n",
       "      <td>338.96</td>\n",
       "      <td>[4, 1, 22, 117, 3182, 109, 283, 1364, 3, 705, ...</td>\n",
       "    </tr>\n",
       "    <tr>\n",
       "      <th>575</th>\n",
       "      <td>mo</td>\n",
       "      <td>mrs</td>\n",
       "      <td>grades_3_5</td>\n",
       "      <td>0</td>\n",
       "      <td>literacy_language math_science</td>\n",
       "      <td>literacy mathematics</td>\n",
       "      <td>flexible seating wonderful way create independ...</td>\n",
       "      <td>268.99</td>\n",
       "      <td>[248, 113, 230, 58, 57, 333, 55, 29, 2363, 43,...</td>\n",
       "    </tr>\n",
       "    <tr>\n",
       "      <th>36194</th>\n",
       "      <td>ca</td>\n",
       "      <td>mrs</td>\n",
       "      <td>grades_prek_2</td>\n",
       "      <td>0</td>\n",
       "      <td>specialneeds health_sports</td>\n",
       "      <td>specialneeds teamsports</td>\n",
       "      <td>my vibrant young students eager learn explore ...</td>\n",
       "      <td>648.39</td>\n",
       "      <td>[4, 1623, 216, 1, 95, 10, 150, 48, 109, 8, 123...</td>\n",
       "    </tr>\n",
       "  </tbody>\n",
       "</table>\n",
       "</div>"
      ],
      "text/plain": [
       "      school_state  ...                                          essay_tok\n",
       "56366           ca  ...  [4, 72, 39, 1, 1535, 562, 360, 55, 9, 89, 22, ...\n",
       "86385           sc  ...  [2, 49, 6, 1524, 1, 1161, 8199, 300, 25, 1, 8,...\n",
       "29117           in  ...  [4, 1, 22, 117, 3182, 109, 283, 1364, 3, 705, ...\n",
       "575             mo  ...  [248, 113, 230, 58, 57, 333, 55, 29, 2363, 43,...\n",
       "36194           ca  ...  [4, 1623, 216, 1, 95, 10, 150, 48, 109, 8, 123...\n",
       "\n",
       "[5 rows x 9 columns]"
      ]
     },
     "execution_count": 12,
     "metadata": {
      "tags": []
     },
     "output_type": "execute_result"
    }
   ],
   "source": [
    "X_train.head()"
   ]
  },
  {
   "cell_type": "markdown",
   "metadata": {},
   "source": [
    "### Padding:"
   ]
  },
  {
   "cell_type": "code",
   "execution_count": 0,
   "metadata": {
    "colab": {},
    "colab_type": "code",
    "id": "lQqFCKN6RcoY"
   },
   "outputs": [],
   "source": [
    "from keras.preprocessing import sequence\n",
    "max_review_length = 300\n",
    "X_train_pad = sequence.pad_sequences(X_train['essay_tok'].values, maxlen=max_review_length , padding='post' )\n",
    "\n",
    "X_test_pad  = sequence.pad_sequences(X_test['essay_tok'].values, maxlen=max_review_length , padding='post')\n",
    "\n"
   ]
  },
  {
   "cell_type": "code",
   "execution_count": 14,
   "metadata": {
    "colab": {
     "base_uri": "https://localhost:8080/",
     "height": 471
    },
    "colab_type": "code",
    "id": "oYz0hYPzRheK",
    "outputId": "8872c308-28e6-449e-98ee-b08d5ea5678e"
   },
   "outputs": [
    {
     "name": "stdout",
     "output_type": "stream",
     "text": [
      "[  770    17    72   118  1814   205    19    17  1277   770  1550   127\n",
      "   188    41   577    23     4     1    37  2577  5455  2949   780    44\n",
      "    20   357  2443  3037   314  2166   307    12     3   197   105     2\n",
      "    16  1258  2070    48    37    83    44    20   677   123   197   119\n",
      "   150    48   109     6  6102  2577    37  3407  2949    97     3  1430\n",
      "   197    63   105    25   331   117  1643   362    94    46   157    63\n",
      "    61   346   178  3881    63    11  3483   843   702   811   678   396\n",
      "    75   879   107   152    78   153  1165   577   468   127    63   901\n",
      "  2793  5562    84   202   271    60   350  2451  2793    32    17    32\n",
      "   577  1067   825   202  8788  1617   613  2451  1202   901  1447   892\n",
      "    23    78   153    97    50   876    26   226   613  2451  4568     1\n",
      "    15  1302    32 11752  6445 24085   352   573 11752     7  4078  3379\n",
      "    67    32 11752  4078  3379 11752  6445    13     0     0     0     0\n",
      "     0     0     0     0     0     0     0     0     0     0     0     0\n",
      "     0     0     0     0     0     0     0     0     0     0     0     0\n",
      "     0     0     0     0     0     0     0     0     0     0     0     0\n",
      "     0     0     0     0     0     0     0     0     0     0     0     0\n",
      "     0     0     0     0     0     0     0     0     0     0     0     0\n",
      "     0     0     0     0     0     0     0     0     0     0     0     0\n",
      "     0     0     0     0     0     0     0     0     0     0     0     0\n",
      "     0     0     0     0     0     0     0     0     0     0     0     0\n",
      "     0     0     0     0     0     0     0     0     0     0     0     0\n",
      "     0     0     0     0     0     0     0     0     0     0     0     0\n",
      "     0     0     0     0     0     0     0     0     0     0     0     0\n",
      "     0     0     0     0     0     0     0     0     0     0     0     0]\n"
     ]
    }
   ],
   "source": [
    "print(X_test_pad[0])"
   ]
  },
  {
   "cell_type": "code",
   "execution_count": 0,
   "metadata": {
    "colab": {},
    "colab_type": "code",
    "id": "gIxUByCIRjsN"
   },
   "outputs": [],
   "source": [
    "import pickle\n",
    "with open('glove_vectors', 'rb') as f:\n",
    "    glove = pickle.load(f)\n",
    "    glove_words =  set(glove.keys())"
   ]
  },
  {
   "cell_type": "code",
   "execution_count": 0,
   "metadata": {
    "colab": {},
    "colab_type": "code",
    "id": "mi8eKuA0Rl4n"
   },
   "outputs": [],
   "source": [
    "from numpy import zeros\n",
    "max_vocabulary = len(tokenizer.word_index)\n",
    "# create a weight matrix for words in training docs\n",
    "embedding_matrix = zeros((max_vocabulary+1, 300))\n",
    "for word, i in tokenizer.word_index.items():\n",
    "  \n",
    "  \n",
    "  if word in glove_words:\n",
    "    \n",
    "    \n",
    "    embedding_vector = glove[word]\n",
    "    embedding_matrix[i] = embedding_vector"
   ]
  },
  {
   "cell_type": "code",
   "execution_count": 17,
   "metadata": {
    "colab": {
     "base_uri": "https://localhost:8080/",
     "height": 944
    },
    "colab_type": "code",
    "id": "CrkZRhmURn1k",
    "outputId": "b65eaee8-d075-404a-8b25-475479ba6dd6"
   },
   "outputs": [
    {
     "name": "stdout",
     "output_type": "stream",
     "text": [
      "(300,)\n",
      "[ 1.5243e-01 -1.6945e-01 -2.2748e-02 -2.5051e-01 -1.5213e-01 -2.0300e-01\n",
      " -3.3534e+00 -2.6162e-01  1.2675e-01  9.0183e-01  1.3074e-02  3.7517e-01\n",
      " -7.6090e-02 -6.2058e-01 -4.0122e-01 -6.7986e-02  3.6276e-01 -1.9572e-01\n",
      "  3.7641e-01 -4.7978e-02  6.5122e-03  2.6432e-01 -5.2387e-02 -5.1525e-02\n",
      " -3.0775e-01  6.3784e-02  5.6517e-01 -2.2021e-01 -5.2199e-01 -3.5600e-01\n",
      " -4.4535e-01 -6.5147e-01 -1.9593e-01  3.2336e-01 -2.9516e-01  2.3886e-01\n",
      " -1.8961e-01  1.0907e-01 -2.4158e-01  4.1535e-02  7.9857e-02  4.4682e-02\n",
      "  2.6472e-01 -6.6871e-01  1.0028e-01 -4.5726e-01  5.1603e-01  3.8309e-02\n",
      "  2.3472e-01 -2.4350e-01 -2.8054e-01  2.9672e-01  3.9380e-01  2.5832e-01\n",
      "  1.9966e-01 -3.8862e-01  2.4473e-01  3.6665e-01 -4.4643e-01  5.4612e-02\n",
      " -4.3967e-01  2.8433e-01  5.1575e-01 -2.0117e-01 -3.3626e-01  7.1260e-01\n",
      "  3.3023e-02 -3.6070e-01  7.8828e-01 -5.4928e-01 -7.0503e-01 -2.6041e-01\n",
      " -1.7760e-01 -6.2402e-01  7.3210e-02 -7.2140e-01 -2.4133e-01 -3.0226e-02\n",
      " -5.0257e-02  3.3103e-01  2.3232e-01 -4.7033e-01  3.8886e-01 -4.0306e-01\n",
      " -2.9306e-01  1.6082e-01  5.9278e-01 -4.3758e-01  1.0430e+00  4.7843e-01\n",
      "  3.1376e-01 -9.7232e-02 -4.7624e-01 -2.6231e-01 -1.2472e-01  1.4626e-01\n",
      " -3.0539e+00  2.7329e-01  5.1819e-01  6.5193e-01 -6.2277e-01 -3.2342e-01\n",
      "  4.6050e-01 -4.9187e-01  1.9491e-01  2.0300e-01  6.8973e-01 -5.1836e-01\n",
      "  5.4692e-02  2.6443e-01 -4.6905e-01  1.7857e-01  3.3002e-01  7.6405e-01\n",
      "  5.0110e-01  1.7678e-01 -1.2562e+00  1.6654e-01  5.2280e-01 -1.9164e-02\n",
      " -2.0966e-01  4.6096e-02 -6.1923e-04 -2.1292e-01  2.0175e-01 -1.2897e-02\n",
      "  6.0529e-01 -4.4746e-02  1.8558e-02  1.0948e+00  9.3996e-01 -2.2076e-01\n",
      "  2.1465e-01  3.2904e-02  1.0028e-01 -3.8381e-01  5.4592e-01  6.2795e-02\n",
      "  2.6534e-01  3.7005e-01 -9.9533e-02 -3.0415e-01 -1.2319e-01 -7.3927e-02\n",
      " -2.1446e-01 -1.2887e-01  4.0041e-01 -2.4905e-01 -1.8930e-01 -3.3936e-01\n",
      "  5.6388e-02 -7.7492e-02  5.7682e-01 -1.6637e-01 -2.9399e-01  1.7524e-01\n",
      "  5.9433e-01 -2.5548e-01 -2.0096e-01  2.7077e-02 -3.9692e-01 -2.1046e-02\n",
      " -2.6920e-01 -6.4063e-01 -4.1650e-01  1.4620e-02 -9.9762e-02  3.9734e-01\n",
      "  4.5282e-02  3.4553e-01 -8.5477e-02 -1.9403e-02 -4.0236e-01 -3.8962e-01\n",
      " -9.1023e-02 -2.1431e-02 -2.6191e-02  1.1751e-01 -4.1328e-01  3.5515e-02\n",
      "  7.5164e-02  1.1228e+00  3.3584e-01  1.2485e-01 -3.4496e-01 -1.9958e-02\n",
      " -2.0669e-01 -5.3119e-01 -2.7743e-02 -6.8806e-02 -1.1321e-01 -2.8332e-02\n",
      " -5.4524e-01  2.8887e-02 -7.9270e-02 -4.5202e-01 -3.8577e-01  2.6746e-01\n",
      "  2.0565e-01  4.0441e-02  2.4957e-01  1.4708e-01  1.4228e-01  2.3737e-01\n",
      " -5.0964e-01 -1.4892e-02  3.5762e-01 -1.4090e-01  5.6286e-01  1.7347e-02\n",
      " -1.1425e-02  1.1381e-01  5.3750e-02 -6.8724e-01 -2.8357e-01  4.8783e-02\n",
      " -3.8335e-01 -4.5458e-01 -2.7152e-02  2.8938e-01 -5.7306e-01 -2.3033e-01\n",
      " -5.7904e-01 -5.0492e-02 -2.0284e+00 -1.4418e-02 -3.6295e-01 -1.3242e-01\n",
      " -2.7659e-01 -3.7399e-01 -1.0796e-01  2.8634e-01 -1.8938e-02 -2.8452e-01\n",
      " -8.1156e-02 -3.4697e-01  1.8248e-01 -2.7992e-01  1.5089e-01  6.2534e-01\n",
      " -6.5873e-01  1.3013e-01 -2.6317e-02  8.5661e-02 -1.5141e-01  2.2956e-01\n",
      "  2.2711e-02 -5.5303e-01 -3.6312e-01 -4.5843e-01 -1.4317e-01  8.1640e-02\n",
      "  3.4238e-01 -4.0742e-01  1.3583e-01  3.7978e-01  1.6655e-01 -2.4479e-01\n",
      "  8.1674e-01 -5.2003e-01 -2.4184e-01  3.9024e-01 -9.2827e-02  4.5020e-01\n",
      "  1.6203e-01 -5.2172e-02 -3.0403e-01 -1.8206e-01  2.9206e-01  2.4290e-01\n",
      "  1.1419e-01 -2.0715e-02 -3.4237e-01  5.6683e-01 -1.6686e-02  1.9142e-01\n",
      "  2.3149e-01 -2.8463e-01 -6.3282e-02  5.9963e-01 -6.3530e-01  1.6831e-01\n",
      "  5.7076e-02  8.5078e-02 -4.2394e-02  6.5239e-01 -2.2988e-01 -8.2786e-02\n",
      "  2.3448e-01  3.3696e-01  1.6948e-01  9.1196e-02 -9.3316e-02 -2.7831e-01\n",
      "  2.5325e-01  2.7602e-01 -2.7795e-01  6.1801e-01  4.1281e-01  1.0077e-03]\n"
     ]
    }
   ],
   "source": [
    "print(embedding_matrix[1].shape)\n",
    "print(embedding_matrix[1])"
   ]
  },
  {
   "cell_type": "markdown",
   "metadata": {},
   "source": [
    "### Encoding the categorical features:"
   ]
  },
  {
   "cell_type": "code",
   "execution_count": 0,
   "metadata": {
    "colab": {},
    "colab_type": "code",
    "id": "Et7rX2RGRp1N"
   },
   "outputs": [],
   "source": [
    "from sklearn.preprocessing import LabelEncoder\n",
    "labele = LabelEncoder()\n",
    "labele.fit(X['school_state'].values)\n",
    "\n",
    "\n",
    "X_train_school_state = labele.transform(X_train['school_state'].values)\n",
    "\n",
    "X_test_school_state = labele.transform(X_test['school_state'].values)\n",
    "\n"
   ]
  },
  {
   "cell_type": "code",
   "execution_count": 19,
   "metadata": {
    "colab": {
     "base_uri": "https://localhost:8080/",
     "height": 53
    },
    "colab_type": "code",
    "id": "aHWHJF8rRsme",
    "outputId": "05f103cf-c355-430a-8889-696d39d16a1c"
   },
   "outputs": [
    {
     "name": "stdout",
     "output_type": "stream",
     "text": [
      "Number of unique school state=  51\n",
      "Embedding size =  26\n"
     ]
    }
   ],
   "source": [
    "import numpy as np\n",
    "no_of_unique_states = X_train['school_state'].nunique()\n",
    "print(\"Number of unique school state= \",no_of_unique_states)\n",
    "\n",
    "\n",
    "\n",
    "embedding_size_school_state = min(np.ceil((no_of_unique_states)/2), 50 )\n",
    "embedding_size_school_state = int(embedding_size_school_state)\n",
    "print('Embedding size = ',embedding_size_school_state)"
   ]
  },
  {
   "cell_type": "code",
   "execution_count": 0,
   "metadata": {
    "colab": {},
    "colab_type": "code",
    "id": "57ZhYVwRRuaN"
   },
   "outputs": [],
   "source": [
    "from sklearn.preprocessing import LabelEncoder\n",
    "labele = LabelEncoder()\n",
    "labele.fit(X['teacher_prefix'].values)\n",
    "\n",
    "\n",
    "X_train_teacher_prefix = labele.transform(X_train['teacher_prefix'].values)\n",
    "\n",
    "X_test_teacher_prefix = labele.transform(X_test['teacher_prefix'].values)\n",
    "\n"
   ]
  },
  {
   "cell_type": "code",
   "execution_count": 21,
   "metadata": {
    "colab": {
     "base_uri": "https://localhost:8080/",
     "height": 53
    },
    "colab_type": "code",
    "id": "-e4Yp5M_Rwpq",
    "outputId": "8cf48429-4c06-4438-a364-47f605334125"
   },
   "outputs": [
    {
     "name": "stdout",
     "output_type": "stream",
     "text": [
      "Number of unique teacher_prefix=  5\n",
      "Embedding size =  3\n"
     ]
    }
   ],
   "source": [
    "import numpy as np\n",
    "no_of_unique_teacher_prefix = X_train['teacher_prefix'].nunique()\n",
    "print(\"Number of unique teacher_prefix= \",no_of_unique_teacher_prefix)\n",
    "\n",
    "\n",
    "\n",
    "embedding_size_teacher_prefix = min(np.ceil((no_of_unique_teacher_prefix)/2), 50 )\n",
    "embedding_size_teacher_prefix = int(embedding_size_teacher_prefix)\n",
    "print('Embedding size = ',embedding_size_teacher_prefix)"
   ]
  },
  {
   "cell_type": "code",
   "execution_count": 0,
   "metadata": {
    "colab": {},
    "colab_type": "code",
    "id": "fQX6AK8TR6IH"
   },
   "outputs": [],
   "source": [
    "from sklearn.preprocessing import LabelEncoder\n",
    "labele = LabelEncoder()\n",
    "labele.fit(X['clean_categories'].values)\n",
    "\n",
    "\n",
    "X_train_clean_categories = labele.transform(X_train['clean_categories'].values)\n",
    "\n",
    "X_test_clean_categories = labele.transform(X_test['clean_categories'].values)"
   ]
  },
  {
   "cell_type": "code",
   "execution_count": 23,
   "metadata": {
    "colab": {
     "base_uri": "https://localhost:8080/",
     "height": 53
    },
    "colab_type": "code",
    "id": "O19DV1PjR8Ap",
    "outputId": "63e5a085-7e77-4612-9ffb-65a82544d95d"
   },
   "outputs": [
    {
     "name": "stdout",
     "output_type": "stream",
     "text": [
      "Number of unique clean_categories=  50\n",
      "Embedding size =  25\n"
     ]
    }
   ],
   "source": [
    "import numpy as np\n",
    "no_of_unique_clean_categories = X_train['clean_categories'].nunique()\n",
    "print(\"Number of unique clean_categories= \",no_of_unique_clean_categories)\n",
    "\n",
    "\n",
    "\n",
    "embedding_size_clean_categories = min(np.ceil((no_of_unique_clean_categories)/2), 50 )\n",
    "embedding_size_clean_categories = int(embedding_size_clean_categories)\n",
    "print('Embedding size = ',embedding_size_clean_categories)"
   ]
  },
  {
   "cell_type": "code",
   "execution_count": 0,
   "metadata": {
    "colab": {},
    "colab_type": "code",
    "id": "7Jo5mpUeR-CW"
   },
   "outputs": [],
   "source": [
    "from sklearn.preprocessing import LabelEncoder\n",
    "labele = LabelEncoder()\n",
    "labele.fit(X['clean_subcategories'].values)\n",
    "\n",
    "\n",
    "X_train_clean_subcategories = labele.transform(X_train['clean_subcategories'].values)\n",
    "\n",
    "X_test_clean_subcategories = labele.transform(X_test['clean_subcategories'].values)"
   ]
  },
  {
   "cell_type": "code",
   "execution_count": 25,
   "metadata": {
    "colab": {
     "base_uri": "https://localhost:8080/",
     "height": 53
    },
    "colab_type": "code",
    "id": "qEe_TKeWSAdD",
    "outputId": "818da888-0356-4e3e-efcf-de6d22536bdc"
   },
   "outputs": [
    {
     "name": "stdout",
     "output_type": "stream",
     "text": [
      "Number of unique clean_subcategories=  396\n",
      "Embedding size =  50\n"
     ]
    }
   ],
   "source": [
    "import numpy as np\n",
    "no_of_unique_clean_subcategories = X_train['clean_subcategories'].nunique()\n",
    "print(\"Number of unique clean_subcategories= \",no_of_unique_clean_subcategories)\n",
    "\n",
    "\n",
    "\n",
    "embedding_size_clean_subcategories = min(np.ceil((no_of_unique_clean_subcategories)/2), 50 )\n",
    "embedding_size_clean_subcategories = int(embedding_size_clean_subcategories)\n",
    "print('Embedding size = ',embedding_size_clean_subcategories)"
   ]
  },
  {
   "cell_type": "code",
   "execution_count": 0,
   "metadata": {
    "colab": {},
    "colab_type": "code",
    "id": "4LXsJSb1SCcd"
   },
   "outputs": [],
   "source": [
    "from sklearn.preprocessing import LabelEncoder\n",
    "labele = LabelEncoder()\n",
    "labele.fit(X['project_grade_category'].values)\n",
    "\n",
    "\n",
    "X_train_project_grade_category = labele.transform(X_train['project_grade_category'].values)\n",
    "\n",
    "X_test_project_grade_category = labele.transform(X_test['project_grade_category'].values)"
   ]
  },
  {
   "cell_type": "code",
   "execution_count": 27,
   "metadata": {
    "colab": {
     "base_uri": "https://localhost:8080/",
     "height": 53
    },
    "colab_type": "code",
    "id": "swEFqModSEgt",
    "outputId": "bc03f654-ca2d-4db2-de31-d910f02fb5d4"
   },
   "outputs": [
    {
     "name": "stdout",
     "output_type": "stream",
     "text": [
      "Number of unique project_grade_category=  4\n",
      "Embedding size =  2\n"
     ]
    }
   ],
   "source": [
    "import numpy as np\n",
    "no_of_unique_project_grade_category = X_train['project_grade_category'].nunique()\n",
    "print(\"Number of unique project_grade_category= \",no_of_unique_project_grade_category)\n",
    "\n",
    "\n",
    "\n",
    "embedding_size_project_grade_category = min(np.ceil((no_of_unique_project_grade_category)/2), 50 )\n",
    "embedding_size_project_grade_category = int(embedding_size_project_grade_category)\n",
    "print('Embedding size = ',embedding_size_project_grade_category)"
   ]
  },
  {
   "cell_type": "markdown",
   "metadata": {},
   "source": [
    "### Standardizing the numerical features:"
   ]
  },
  {
   "cell_type": "code",
   "execution_count": 0,
   "metadata": {
    "colab": {},
    "colab_type": "code",
    "id": "qgeTOTX3SGUj"
   },
   "outputs": [],
   "source": [
    "from sklearn.preprocessing import StandardScaler\n",
    "Sscaler=StandardScaler()\n",
    "Sscaler.fit(X_train['teacher_number_of_previously_posted_projects'].values.reshape(-1,1))\n",
    "\n",
    "\n",
    "X_train_num_projects=Sscaler.transform(X_train['teacher_number_of_previously_posted_projects'].values.reshape(-1,1))\n",
    "\n",
    "X_test_num_projects=Sscaler.transform(X_test['teacher_number_of_previously_posted_projects'].values.reshape(-1,1))\n"
   ]
  },
  {
   "cell_type": "code",
   "execution_count": 0,
   "metadata": {
    "colab": {},
    "colab_type": "code",
    "id": "59HuC6QUSIju"
   },
   "outputs": [],
   "source": [
    "Sscaler.fit(X_train['price'].values.reshape(-1,1))\n",
    "\n",
    "X_train_price = Sscaler.transform(X_train['price'].values.reshape(-1,1))\n",
    "\n",
    "X_test_price = Sscaler.transform(X_test['price'].values.reshape(-1,1))\n"
   ]
  },
  {
   "cell_type": "code",
   "execution_count": 30,
   "metadata": {
    "colab": {
     "base_uri": "https://localhost:8080/",
     "height": 35
    },
    "colab_type": "code",
    "id": "YRer_MmnSKtO",
    "outputId": "9e64bc2e-e1ac-4e09-8395-abb33ed53146"
   },
   "outputs": [
    {
     "name": "stdout",
     "output_type": "stream",
     "text": [
      "(81936, 2) (27312, 2)\n"
     ]
    }
   ],
   "source": [
    "X_train_numeric_features = np.concatenate((X_train_num_projects , X_train_price) , axis = 1)\n",
    "\n",
    "X_test_numeric_features= np.concatenate((X_test_num_projects , X_test_price) , axis = 1)\n",
    "\n",
    "print(X_train_numeric_features.shape ,X_test_numeric_features.shape)"
   ]
  },
  {
   "cell_type": "code",
   "execution_count": 0,
   "metadata": {
    "colab": {},
    "colab_type": "code",
    "id": "j4y6Ll9USMj3"
   },
   "outputs": [],
   "source": [
    "def auc1(y_true, y_pred):\n",
    "    if len(np.unique(y_true[:,1])) == 1:\n",
    "        return 0.5\n",
    "    else:\n",
    "        return roc_auc_score(y_true, y_pred)\n",
    "\n",
    "def auroc(y_true, y_pred):\n",
    "    return tf.py_func(auc1, (y_true, y_pred), tf.double)"
   ]
  },
  {
   "cell_type": "markdown",
   "metadata": {},
   "source": [
    "## MODEL 1: "
   ]
  },
  {
   "cell_type": "code",
   "execution_count": 0,
   "metadata": {
    "colab": {
     "base_uri": "https://localhost:8080/",
     "height": 1000
    },
    "colab_type": "code",
    "id": "bOxqlCDbSOwo",
    "outputId": "92d28707-61d3-4059-dbb7-463c94162210"
   },
   "outputs": [
    {
     "name": "stdout",
     "output_type": "stream",
     "text": [
      "Model: \"model_3\"\n",
      "__________________________________________________________________________________________________\n",
      "Layer (type)                    Output Shape         Param #     Connected to                     \n",
      "==================================================================================================\n",
      "essay_input (InputLayer)        (None, 300)          0                                            \n",
      "__________________________________________________________________________________________________\n",
      "embedding_13 (Embedding)        (None, 300, 300)     15125100    essay_input[0][0]                \n",
      "__________________________________________________________________________________________________\n",
      "school_state (InputLayer)       (None, 1)            0                                            \n",
      "__________________________________________________________________________________________________\n",
      "teacher_prefix (InputLayer)     (None, 1)            0                                            \n",
      "__________________________________________________________________________________________________\n",
      "clean_categories (InputLayer)   (None, 1)            0                                            \n",
      "__________________________________________________________________________________________________\n",
      "clean_subcategories (InputLayer (None, 1)            0                                            \n",
      "__________________________________________________________________________________________________\n",
      "project_grade_category (InputLa (None, 1)            0                                            \n",
      "__________________________________________________________________________________________________\n",
      "lstm_3 (LSTM)                   (None, 300, 100)     160400      embedding_13[0][0]               \n",
      "__________________________________________________________________________________________________\n",
      "embedding_14 (Embedding)        (None, 1, 26)        1326        school_state[0][0]               \n",
      "__________________________________________________________________________________________________\n",
      "embedding_15 (Embedding)        (None, 1, 3)         15          teacher_prefix[0][0]             \n",
      "__________________________________________________________________________________________________\n",
      "embedding_16 (Embedding)        (None, 1, 26)        1326        clean_categories[0][0]           \n",
      "__________________________________________________________________________________________________\n",
      "embedding_17 (Embedding)        (None, 1, 50)        19800       clean_subcategories[0][0]        \n",
      "__________________________________________________________________________________________________\n",
      "embedding_18 (Embedding)        (None, 1, 2)         8           project_grade_category[0][0]     \n",
      "__________________________________________________________________________________________________\n",
      "numerical_features (InputLayer) (None, 2)            0                                            \n",
      "__________________________________________________________________________________________________\n",
      "flatten_13 (Flatten)            (None, 30000)        0           lstm_3[0][0]                     \n",
      "__________________________________________________________________________________________________\n",
      "flatten_14 (Flatten)            (None, 26)           0           embedding_14[0][0]               \n",
      "__________________________________________________________________________________________________\n",
      "flatten_15 (Flatten)            (None, 3)            0           embedding_15[0][0]               \n",
      "__________________________________________________________________________________________________\n",
      "flatten_16 (Flatten)            (None, 26)           0           embedding_16[0][0]               \n",
      "__________________________________________________________________________________________________\n",
      "flatten_17 (Flatten)            (None, 50)           0           embedding_17[0][0]               \n",
      "__________________________________________________________________________________________________\n",
      "flatten_18 (Flatten)            (None, 2)            0           embedding_18[0][0]               \n",
      "__________________________________________________________________________________________________\n",
      "dense_9 (Dense)                 (None, 128)          384         numerical_features[0][0]         \n",
      "__________________________________________________________________________________________________\n",
      "concatenate_3 (Concatenate)     (None, 30235)        0           flatten_13[0][0]                 \n",
      "                                                                 flatten_14[0][0]                 \n",
      "                                                                 flatten_15[0][0]                 \n",
      "                                                                 flatten_16[0][0]                 \n",
      "                                                                 flatten_17[0][0]                 \n",
      "                                                                 flatten_18[0][0]                 \n",
      "                                                                 dense_9[0][0]                    \n",
      "__________________________________________________________________________________________________\n",
      "dense_10 (Dense)                (None, 300)          9070800     concatenate_3[0][0]              \n",
      "__________________________________________________________________________________________________\n",
      "dropout_5 (Dropout)             (None, 300)          0           dense_10[0][0]                   \n",
      "__________________________________________________________________________________________________\n",
      "dense_11 (Dense)                (None, 200)          60200       dropout_5[0][0]                  \n",
      "__________________________________________________________________________________________________\n",
      "batch_normalization_3 (BatchNor (None, 200)          800         dense_11[0][0]                   \n",
      "__________________________________________________________________________________________________\n",
      "dropout_6 (Dropout)             (None, 200)          0           batch_normalization_3[0][0]      \n",
      "__________________________________________________________________________________________________\n",
      "dense_12 (Dense)                (None, 80)           16080       dropout_6[0][0]                  \n",
      "__________________________________________________________________________________________________\n",
      "output (Dense)                  (None, 2)            162         dense_12[0][0]                   \n",
      "==================================================================================================\n",
      "Total params: 24,456,401\n",
      "Trainable params: 24,456,001\n",
      "Non-trainable params: 400\n",
      "__________________________________________________________________________________________________\n",
      "None\n"
     ]
    }
   ],
   "source": [
    "from keras.models import Model\n",
    "from keras.layers import Input\n",
    "from keras.layers import LSTM\n",
    "from keras.layers.embeddings import Embedding\n",
    "from keras import regularizers\n",
    "from keras.regularizers import l2\n",
    "from keras.layers import Flatten\n",
    "from keras.layers import Dense, Input , Dropout\n",
    "from keras.layers import concatenate\n",
    "from keras.layers.normalization import BatchNormalization\n",
    "from keras.callbacks import TensorBoard\n",
    "\n",
    "\n",
    "essay = Input(shape=(300,), name='essay_input')\n",
    "\n",
    "X = Embedding(output_dim=300, input_dim=max_vocabulary+1, input_length=300 , weights=[embedding_matrix])(essay)\n",
    "lstm_essay = LSTM(100,recurrent_dropout=0.5,kernel_regularizer=regularizers.l2(0.001),return_sequences=True)(X)\n",
    "flatten_1 = Flatten()(lstm_essay)\n",
    "\n",
    "\n",
    "\n",
    "school_state = Input(shape=(1,), name='school_state')\n",
    "X_school_state = Embedding(output_dim=embedding_size_school_state , input_dim=no_of_unique_states, input_length=1)(school_state)\n",
    "flatten_2 = Flatten()(X_school_state)\n",
    "\n",
    "\n",
    "\n",
    "teacher_prefix = Input(shape=(1,), name='teacher_prefix')\n",
    "X_teacher_prefix = Embedding(output_dim=embedding_size_teacher_prefix , input_dim=no_of_unique_teacher_prefix, input_length=1)(teacher_prefix)\n",
    "flatten_3 = Flatten()(X_teacher_prefix)\n",
    "\n",
    "\n",
    "\n",
    "clean_categories = Input(shape=(1,), name='clean_categories')\n",
    "X_clean_categories = Embedding(output_dim=embedding_size_clean_categories, input_dim=no_of_unique_clean_categories, input_length=1)(clean_categories)\n",
    "flatten_4 = Flatten()(X_clean_categories)\n",
    "\n",
    "\n",
    "\n",
    "clean_subcategories = Input(shape=(1,), name='clean_subcategories')\n",
    "X_clean_subcategories = Embedding(output_dim=embedding_size_clean_subcategories, input_dim=no_of_unique_clean_subcategories, input_length=1)(clean_subcategories)\n",
    "flatten_5 = Flatten()(X_clean_subcategories)\n",
    "\n",
    "\n",
    "\n",
    "\n",
    "project_grade_category = Input(shape=(1,), name='project_grade_category')\n",
    "X_project_grade_category = Embedding(output_dim=embedding_size_project_grade_category, input_dim=no_of_unique_project_grade_category, input_length=1)(project_grade_category)\n",
    "flatten_6 = Flatten()(X_project_grade_category)\n",
    "\n",
    "\n",
    "numeric_features = Input(shape=(2,) , name=\"numerical_features\")\n",
    "numeric_dense = Dense(128, activation='relu' , kernel_initializer='he_normal',kernel_regularizer=l2(0.001))(numeric_features )\n",
    "\n",
    "\n",
    "X_concat = concatenate([flatten_1 , flatten_2 , flatten_3 ,flatten_4 , flatten_5 , flatten_6 , numeric_dense])\n",
    "model = Dense(300, activation=\"relu\", kernel_initializer=\"he_normal\" ,kernel_regularizer=regularizers.l2(0.001))(X_concat)\n",
    "\n",
    "model = Dropout(0.5)(model)\n",
    "\n",
    "model = Dense(200,activation=\"relu\",kernel_initializer=\"glorot_normal\" ,kernel_regularizer=regularizers.l2(0.001))(model)\n",
    "\n",
    "model = BatchNormalization()(model)\n",
    "\n",
    "model = Dropout(0.5)(model)\n",
    "\n",
    "model = Dense(80,activation=\"relu\", kernel_initializer=\"glorot_normal\" ,kernel_regularizer=regularizers.l2(0.001))(model)\n",
    "\n",
    "\n",
    "output = Dense(2, activation='softmax', name='output')(model)\n",
    "\n",
    "model_1 = Model(inputs=[essay, school_state ,teacher_prefix,clean_categories,\n",
    "                       clean_subcategories ,project_grade_category ,numeric_features ],outputs=[output])\n",
    "\n",
    "\n",
    "\n",
    "print(model_1.summary())\n"
   ]
  },
  {
   "cell_type": "code",
   "execution_count": 0,
   "metadata": {
    "colab": {},
    "colab_type": "code",
    "id": "tYiJ1mP4SRcL"
   },
   "outputs": [],
   "source": [
    "checkpoint1 = ModelCheckpoint(\"model_1.h5\",\n",
    "                             monitor=\"val_auroc\",\n",
    "                             mode=\"max\",\n",
    "                             save_best_only = True,\n",
    "                             verbose=1)\n",
    "earlystop1 = EarlyStopping(monitor = 'val_auroc', \n",
    "                            mode=\"max\",\n",
    "                            min_delta = 0, \n",
    "                            patience = 3,\n",
    "                            verbose = 1)\n",
    "\n",
    "tensorboard1 = TensorBoard(log_dir='Model1_visualization')\n",
    "\n",
    "callbacks_1 = [checkpoint1,earlystop1,tensorboard1]"
   ]
  },
  {
   "cell_type": "code",
   "execution_count": 0,
   "metadata": {
    "colab": {},
    "colab_type": "code",
    "id": "KPJ18aH7SV9B"
   },
   "outputs": [],
   "source": [
    "train_all = [X_train_pad,X_train_school_state,X_train_teacher_prefix,X_train_clean_categories,X_train_clean_subcategories,X_train_project_grade_category,X_train_numeric_features]\n",
    "\n",
    "test_all = [X_test_pad,X_test_school_state,X_test_teacher_prefix,X_test_clean_categories,X_test_clean_subcategories,X_test_project_grade_category,X_test_numeric_features]"
   ]
  },
  {
   "cell_type": "code",
   "execution_count": 0,
   "metadata": {
    "colab": {},
    "colab_type": "code",
    "id": "k97zWgu7Uh9U"
   },
   "outputs": [],
   "source": [
    "\n",
    "from keras.utils import np_utils\n",
    "\n",
    "y_train = np_utils.to_categorical(Y_train, 2) \n",
    "y_test = np_utils.to_categorical(Y_test, 2)\n"
   ]
  },
  {
   "cell_type": "code",
   "execution_count": 0,
   "metadata": {
    "colab": {
     "base_uri": "https://localhost:8080/",
     "height": 618
    },
    "colab_type": "code",
    "id": "3lFo_fzYUkXI",
    "outputId": "44b83e48-8168-40e6-f9c2-397d6569178b"
   },
   "outputs": [
    {
     "name": "stdout",
     "output_type": "stream",
     "text": [
      "Train on 81936 samples, validate on 27312 samples\n",
      "WARNING:tensorflow:From /usr/local/lib/python3.6/dist-packages/keras/callbacks.py:1122: The name tf.summary.merge_all is deprecated. Please use tf.compat.v1.summary.merge_all instead.\n",
      "\n",
      "WARNING:tensorflow:From /usr/local/lib/python3.6/dist-packages/keras/callbacks.py:1125: The name tf.summary.FileWriter is deprecated. Please use tf.compat.v1.summary.FileWriter instead.\n",
      "\n",
      "Epoch 1/10\n",
      "81936/81936 [==============================] - 140s 2ms/step - loss: 1.4278 - auroc: 0.5691 - val_loss: 1.0481 - val_auroc: 0.6934\n",
      "\n",
      "Epoch 00001: val_auroc improved from -inf to 0.69342, saving model to model_1.h5\n",
      "WARNING:tensorflow:From /usr/local/lib/python3.6/dist-packages/keras/callbacks.py:1265: The name tf.Summary is deprecated. Please use tf.compat.v1.Summary instead.\n",
      "\n",
      "Epoch 2/10\n",
      "81936/81936 [==============================] - 138s 2ms/step - loss: 0.8861 - auroc: 0.6989 - val_loss: 0.8768 - val_auroc: 0.7451\n",
      "\n",
      "Epoch 00002: val_auroc improved from 0.69342 to 0.74506, saving model to model_1.h5\n",
      "Epoch 3/10\n",
      "81936/81936 [==============================] - 138s 2ms/step - loss: 0.7173 - auroc: 0.7420 - val_loss: 0.7030 - val_auroc: 0.7591\n",
      "\n",
      "Epoch 00003: val_auroc improved from 0.74506 to 0.75905, saving model to model_1.h5\n",
      "Epoch 4/10\n",
      "81936/81936 [==============================] - 138s 2ms/step - loss: 0.6145 - auroc: 0.7739 - val_loss: 0.6164 - val_auroc: 0.7547\n",
      "\n",
      "Epoch 00004: val_auroc did not improve from 0.75905\n",
      "Epoch 5/10\n",
      "81936/81936 [==============================] - 138s 2ms/step - loss: 0.5463 - auroc: 0.8056 - val_loss: 0.6100 - val_auroc: 0.7506\n",
      "\n",
      "Epoch 00005: val_auroc did not improve from 0.75905\n",
      "Epoch 6/10\n",
      "81936/81936 [==============================] - 138s 2ms/step - loss: 0.4785 - auroc: 0.8451 - val_loss: 0.5573 - val_auroc: 0.7334\n",
      "\n",
      "Epoch 00006: val_auroc did not improve from 0.75905\n",
      "Epoch 00006: early stopping\n"
     ]
    }
   ],
   "source": [
    "model_1.compile(optimizer='adam', loss='categorical_crossentropy', metrics=[auroc])\n",
    "history = model_1.fit(train_all, y_train, batch_size=512, epochs=10, verbose=1,callbacks=callbacks_1, validation_data=(test_all, y_test))"
   ]
  },
  {
   "cell_type": "code",
   "execution_count": 0,
   "metadata": {
    "colab": {},
    "colab_type": "code",
    "id": "iVKjq-kTUqNV"
   },
   "outputs": [],
   "source": [
    "%matplotlib notebook\n",
    "import matplotlib.pyplot as plt\n",
    "import numpy as np\n",
    "import time\n",
    "\n",
    "def plt_dynamic(x, vy, ty, ax, colors=['b']):\n",
    "    ax.plot(x, vy, 'b', label=\"Validation Loss\")\n",
    "    ax.plot(x, ty, 'r', label=\"Train Loss\")\n",
    "    plt.legend()\n",
    "    plt.grid()\n",
    "    fig.canvas.draw()"
   ]
  },
  {
   "cell_type": "code",
   "execution_count": 0,
   "metadata": {
    "colab": {
     "base_uri": "https://localhost:8080/",
     "height": 283
    },
    "colab_type": "code",
    "id": "HsdCLyn-Yg0G",
    "outputId": "60e359d7-9fe8-4e06-96af-995405bfa9f9"
   },
   "outputs": [
    {
     "data": {
      "image/png": "[encoded data removed]",
      "text/plain": [
       "<Figure size 432x288 with 1 Axes>"
      ]
     },
     "metadata": {
      "tags": []
     },
     "output_type": "display_data"
    }
   ],
   "source": [
    "%matplotlib inline\n",
    "fig,ax = plt.subplots(1,1)\n",
    "ax.set_xlabel('epoch') ; ax.set_ylabel('Categorical Crossentropy Loss')\n",
    "x = list(range(1,7))\n",
    "vy = history.history['val_loss']\n",
    "ty = history.history['loss']\n",
    "plt_dynamic(x, vy, ty, ax)"
   ]
  },
  {
   "cell_type": "code",
   "execution_count": 16,
   "metadata": {
    "colab": {
     "base_uri": "https://localhost:8080/",
     "height": 52
    },
    "colab_type": "code",
    "id": "h_KxtSIEZ2kG",
    "outputId": "bb1ac62f-f290-429c-fd8a-b10de0701aeb"
   },
   "outputs": [
    {
     "data": {
      "image/png": "[encoded data removed]",
      "text/plain": [
       "<IPython.core.display.Image object>"
      ]
     },
     "metadata": {},
     "output_type": "display_data"
    },
    {
     "data": {
      "image/png": "[encoded data removed]",
      "text/plain": [
       "<IPython.core.display.Image object>"
      ]
     },
     "metadata": {},
     "output_type": "display_data"
    },
    {
     "data": {
      "image/png": "[encoded data removed]",
      "text/plain": [
       "<IPython.core.display.Image object>"
      ]
     },
     "metadata": {},
     "output_type": "display_data"
    },
    {
     "data": {
      "image/png": "[encoded data removed]",
      "text/plain": [
       "<IPython.core.display.Image object>"
      ]
     },
     "metadata": {},
     "output_type": "display_data"
    }
   ],
   "source": [
    "from IPython.display import Image, display\n",
    "display(Image(\"loss.png\"))\n",
    "display(Image('auroc.png'))\n",
    "display(Image('val_auroc.png'))\n",
    "display(Image('val_loss.png'))"
   ]
  },
  {
   "cell_type": "markdown",
   "metadata": {},
   "source": [
    "## MODEL 1.1"
   ]
  },
  {
   "cell_type": "code",
   "execution_count": 0,
   "metadata": {
    "colab": {
     "base_uri": "https://localhost:8080/",
     "height": 1000
    },
    "colab_type": "code",
    "id": "aLNoomwlh-1B",
    "outputId": "a65360d7-dbe9-4af0-d866-6b69c21b094d"
   },
   "outputs": [
    {
     "name": "stdout",
     "output_type": "stream",
     "text": [
      "Model: \"model_5\"\n",
      "__________________________________________________________________________________________________\n",
      "Layer (type)                    Output Shape         Param #     Connected to                     \n",
      "==================================================================================================\n",
      "essay_input (InputLayer)        (None, 300)          0                                            \n",
      "__________________________________________________________________________________________________\n",
      "embedding_25 (Embedding)        (None, 300, 300)     15125100    essay_input[0][0]                \n",
      "__________________________________________________________________________________________________\n",
      "school_state (InputLayer)       (None, 1)            0                                            \n",
      "__________________________________________________________________________________________________\n",
      "teacher_prefix (InputLayer)     (None, 1)            0                                            \n",
      "__________________________________________________________________________________________________\n",
      "clean_categories (InputLayer)   (None, 1)            0                                            \n",
      "__________________________________________________________________________________________________\n",
      "clean_subcategories (InputLayer (None, 1)            0                                            \n",
      "__________________________________________________________________________________________________\n",
      "project_grade_category (InputLa (None, 1)            0                                            \n",
      "__________________________________________________________________________________________________\n",
      "lstm_5 (LSTM)                   (None, 300, 100)     160400      embedding_25[0][0]               \n",
      "__________________________________________________________________________________________________\n",
      "embedding_26 (Embedding)        (None, 1, 26)        1326        school_state[0][0]               \n",
      "__________________________________________________________________________________________________\n",
      "embedding_27 (Embedding)        (None, 1, 3)         15          teacher_prefix[0][0]             \n",
      "__________________________________________________________________________________________________\n",
      "embedding_28 (Embedding)        (None, 1, 26)        1326        clean_categories[0][0]           \n",
      "__________________________________________________________________________________________________\n",
      "embedding_29 (Embedding)        (None, 1, 50)        19800       clean_subcategories[0][0]        \n",
      "__________________________________________________________________________________________________\n",
      "embedding_30 (Embedding)        (None, 1, 2)         8           project_grade_category[0][0]     \n",
      "__________________________________________________________________________________________________\n",
      "numerical_features (InputLayer) (None, 2)            0                                            \n",
      "__________________________________________________________________________________________________\n",
      "flatten_25 (Flatten)            (None, 30000)        0           lstm_5[0][0]                     \n",
      "__________________________________________________________________________________________________\n",
      "flatten_26 (Flatten)            (None, 26)           0           embedding_26[0][0]               \n",
      "__________________________________________________________________________________________________\n",
      "flatten_27 (Flatten)            (None, 3)            0           embedding_27[0][0]               \n",
      "__________________________________________________________________________________________________\n",
      "flatten_28 (Flatten)            (None, 26)           0           embedding_28[0][0]               \n",
      "__________________________________________________________________________________________________\n",
      "flatten_29 (Flatten)            (None, 50)           0           embedding_29[0][0]               \n",
      "__________________________________________________________________________________________________\n",
      "flatten_30 (Flatten)            (None, 2)            0           embedding_30[0][0]               \n",
      "__________________________________________________________________________________________________\n",
      "dense_17 (Dense)                (None, 128)          384         numerical_features[0][0]         \n",
      "__________________________________________________________________________________________________\n",
      "concatenate_5 (Concatenate)     (None, 30235)        0           flatten_25[0][0]                 \n",
      "                                                                 flatten_26[0][0]                 \n",
      "                                                                 flatten_27[0][0]                 \n",
      "                                                                 flatten_28[0][0]                 \n",
      "                                                                 flatten_29[0][0]                 \n",
      "                                                                 flatten_30[0][0]                 \n",
      "                                                                 dense_17[0][0]                   \n",
      "__________________________________________________________________________________________________\n",
      "dense_18 (Dense)                (None, 300)          9070800     concatenate_5[0][0]              \n",
      "__________________________________________________________________________________________________\n",
      "dropout_9 (Dropout)             (None, 300)          0           dense_18[0][0]                   \n",
      "__________________________________________________________________________________________________\n",
      "dense_19 (Dense)                (None, 200)          60200       dropout_9[0][0]                  \n",
      "__________________________________________________________________________________________________\n",
      "batch_normalization_5 (BatchNor (None, 200)          800         dense_19[0][0]                   \n",
      "__________________________________________________________________________________________________\n",
      "dropout_10 (Dropout)            (None, 200)          0           batch_normalization_5[0][0]      \n",
      "__________________________________________________________________________________________________\n",
      "dense_20 (Dense)                (None, 80)           16080       dropout_10[0][0]                 \n",
      "__________________________________________________________________________________________________\n",
      "output (Dense)                  (None, 2)            162         dense_20[0][0]                   \n",
      "==================================================================================================\n",
      "Total params: 24,456,401\n",
      "Trainable params: 24,456,001\n",
      "Non-trainable params: 400\n",
      "__________________________________________________________________________________________________\n",
      "None\n"
     ]
    }
   ],
   "source": [
    "from keras.models import Model\n",
    "from keras.layers import Input\n",
    "from keras.layers import LSTM\n",
    "from keras.layers.embeddings import Embedding\n",
    "from keras import regularizers\n",
    "from keras.regularizers import l2\n",
    "from keras.layers import Flatten\n",
    "from keras.layers import Dense, Input , Dropout\n",
    "from keras.layers import concatenate\n",
    "from keras.layers.normalization import BatchNormalization\n",
    "\n",
    "\n",
    "essay = Input(shape=(300,), name='essay_input')\n",
    "\n",
    "X = Embedding(output_dim=300, input_dim=max_vocabulary+1, input_length=300 , weights=[embedding_matrix])(essay)\n",
    "lstm_essay = LSTM(100,recurrent_dropout=0.3,kernel_regularizer=regularizers.l2(0.001),return_sequences=True)(X)\n",
    "flatten_1 = Flatten()(lstm_essay)\n",
    "\n",
    "\n",
    "\n",
    "school_state = Input(shape=(1,), name='school_state')\n",
    "X_school_state = Embedding(output_dim=embedding_size_school_state , input_dim=no_of_unique_states, input_length=1)(school_state)\n",
    "flatten_2 = Flatten()(X_school_state)\n",
    "\n",
    "\n",
    "\n",
    "teacher_prefix = Input(shape=(1,), name='teacher_prefix')\n",
    "X_teacher_prefix = Embedding(output_dim=embedding_size_teacher_prefix , input_dim=no_of_unique_teacher_prefix, input_length=1)(teacher_prefix)\n",
    "flatten_3 = Flatten()(X_teacher_prefix)\n",
    "\n",
    "\n",
    "\n",
    "clean_categories = Input(shape=(1,), name='clean_categories')\n",
    "X_clean_categories = Embedding(output_dim=embedding_size_clean_categories, input_dim=no_of_unique_clean_categories, input_length=1)(clean_categories)\n",
    "flatten_4 = Flatten()(X_clean_categories)\n",
    "\n",
    "\n",
    "\n",
    "clean_subcategories = Input(shape=(1,), name='clean_subcategories')\n",
    "X_clean_subcategories = Embedding(output_dim=embedding_size_clean_subcategories, input_dim=no_of_unique_clean_subcategories, input_length=1)(clean_subcategories)\n",
    "flatten_5 = Flatten()(X_clean_subcategories)\n",
    "\n",
    "\n",
    "\n",
    "\n",
    "project_grade_category = Input(shape=(1,), name='project_grade_category')\n",
    "X_project_grade_category = Embedding(output_dim=embedding_size_project_grade_category, input_dim=no_of_unique_project_grade_category, input_length=1)(project_grade_category)\n",
    "flatten_6 = Flatten()(X_project_grade_category)\n",
    "\n",
    "\n",
    "numeric_features = Input(shape=(2,) , name=\"numerical_features\")\n",
    "numeric_dense = Dense(128, activation='relu' , kernel_initializer='he_normal',kernel_regularizer=l2(0.001))(numeric_features )\n",
    "\n",
    "\n",
    "X_concat = concatenate([flatten_1 , flatten_2 , flatten_3 ,flatten_4 , flatten_5 , flatten_6 , numeric_dense])\n",
    "model = Dense(300, activation=\"relu\", kernel_initializer=\"he_normal\" ,kernel_regularizer=regularizers.l2(0.001))(X_concat)\n",
    "\n",
    "model = Dropout(0.5)(model)\n",
    "\n",
    "model = Dense(200,activation=\"relu\",kernel_initializer=\"glorot_normal\" ,kernel_regularizer=regularizers.l2(0.001))(model)\n",
    "\n",
    "model = BatchNormalization()(model)\n",
    "\n",
    "model = Dropout(0.5)(model)\n",
    "\n",
    "model = Dense(80,activation=\"sigmoid\", kernel_initializer=\"glorot_normal\" ,kernel_regularizer=regularizers.l2(0.001))(model)\n",
    "\n",
    "\n",
    "output = Dense(2, activation='softmax', name='output')(model)\n",
    "\n",
    "model_1_2 = Model(inputs=[essay, school_state ,teacher_prefix,clean_categories,\n",
    "                       clean_subcategories ,project_grade_category ,numeric_features ],outputs=[output])\n",
    "\n",
    "\n",
    "\n",
    "print(model_1_2.summary())\n"
   ]
  },
  {
   "cell_type": "code",
   "execution_count": 0,
   "metadata": {
    "colab": {},
    "colab_type": "code",
    "id": "_tuyevu3iQTl"
   },
   "outputs": [],
   "source": [
    "checkpoint1_2 = ModelCheckpoint(\"model_1.2.h5\",\n",
    "                             monitor=\"val_auroc\",\n",
    "                             mode=\"max\",\n",
    "                             save_best_only = True,\n",
    "                             verbose=1)\n",
    "earlystop1_2 = EarlyStopping(monitor = 'val_auroc', \n",
    "                            mode=\"max\",\n",
    "                            min_delta = 0, \n",
    "                            patience = 3,\n",
    "                            verbose = 1)\n",
    "\n",
    "tensorboard1_2 = TensorBoard(log_dir='Model1.2_visualization')\n",
    "\n",
    "callbacks_1_2 = [checkpoint1_2,earlystop1_2,tensorboard1_2]"
   ]
  },
  {
   "cell_type": "code",
   "execution_count": 0,
   "metadata": {
    "colab": {
     "base_uri": "https://localhost:8080/",
     "height": 509
    },
    "colab_type": "code",
    "id": "TkMGxnckim9Z",
    "outputId": "06b2fb4c-03a5-4771-b86f-5db1270bd527"
   },
   "outputs": [
    {
     "name": "stdout",
     "output_type": "stream",
     "text": [
      "Train on 81936 samples, validate on 27312 samples\n",
      "Epoch 1/10\n",
      "81936/81936 [==============================] - 112s 1ms/step - loss: 1.0861 - auroc: 0.6478 - val_loss: 0.7507 - val_auroc: 0.7420\n",
      "\n",
      "Epoch 00001: val_auroc improved from -inf to 0.74205, saving model to model_1.2.h5\n",
      "Epoch 2/10\n",
      "81936/81936 [==============================] - 111s 1ms/step - loss: 0.6621 - auroc: 0.7490 - val_loss: 0.6165 - val_auroc: 0.7624\n",
      "\n",
      "Epoch 00002: val_auroc improved from 0.74205 to 0.76244, saving model to model_1.2.h5\n",
      "Epoch 3/10\n",
      "81936/81936 [==============================] - 110s 1ms/step - loss: 0.5679 - auroc: 0.7801 - val_loss: 0.5613 - val_auroc: 0.7632\n",
      "\n",
      "Epoch 00003: val_auroc improved from 0.76244 to 0.76323, saving model to model_1.2.h5\n",
      "Epoch 4/10\n",
      "81936/81936 [==============================] - 110s 1ms/step - loss: 0.5125 - auroc: 0.8040 - val_loss: 0.5427 - val_auroc: 0.7531\n",
      "\n",
      "Epoch 00004: val_auroc did not improve from 0.76323\n",
      "Epoch 5/10\n",
      "81936/81936 [==============================] - 111s 1ms/step - loss: 0.4642 - auroc: 0.8331 - val_loss: 0.5199 - val_auroc: 0.7461\n",
      "\n",
      "Epoch 00005: val_auroc did not improve from 0.76323\n",
      "Epoch 6/10\n",
      "81936/81936 [==============================] - 111s 1ms/step - loss: 0.4182 - auroc: 0.8596 - val_loss: 0.5378 - val_auroc: 0.7251\n",
      "\n",
      "Epoch 00006: val_auroc did not improve from 0.76323\n",
      "Epoch 00006: early stopping\n"
     ]
    }
   ],
   "source": [
    "model_1_2.compile(optimizer='adam', loss='binary_crossentropy', metrics=[auroc])\n",
    "history1_2= model_1_2.fit(train_all, y_train, batch_size=850, epochs=10, verbose=1,callbacks=callbacks_1_2, validation_data=(test_all, y_test))"
   ]
  },
  {
   "cell_type": "markdown",
   "metadata": {},
   "source": [
    "## MODEL 1.3"
   ]
  },
  {
   "cell_type": "code",
   "execution_count": 0,
   "metadata": {
    "colab": {
     "base_uri": "https://localhost:8080/",
     "height": 1000
    },
    "colab_type": "code",
    "id": "0_xV6nLEmz2v",
    "outputId": "14306dbc-8434-4120-88ed-8ef1f95f5bfd"
   },
   "outputs": [
    {
     "name": "stdout",
     "output_type": "stream",
     "text": [
      "Model: \"model_6\"\n",
      "__________________________________________________________________________________________________\n",
      "Layer (type)                    Output Shape         Param #     Connected to                     \n",
      "==================================================================================================\n",
      "essay_input (InputLayer)        (None, 300)          0                                            \n",
      "__________________________________________________________________________________________________\n",
      "embedding_31 (Embedding)        (None, 300, 300)     15125100    essay_input[0][0]                \n",
      "__________________________________________________________________________________________________\n",
      "spatial_dropout1d_1 (SpatialDro (None, 300, 300)     0           embedding_31[0][0]               \n",
      "__________________________________________________________________________________________________\n",
      "school_state (InputLayer)       (None, 1)            0                                            \n",
      "__________________________________________________________________________________________________\n",
      "teacher_prefix (InputLayer)     (None, 1)            0                                            \n",
      "__________________________________________________________________________________________________\n",
      "clean_categories (InputLayer)   (None, 1)            0                                            \n",
      "__________________________________________________________________________________________________\n",
      "clean_subcategories (InputLayer (None, 1)            0                                            \n",
      "__________________________________________________________________________________________________\n",
      "project_grade_category (InputLa (None, 1)            0                                            \n",
      "__________________________________________________________________________________________________\n",
      "bidirectional_1 (Bidirectional) (None, 300, 200)     241200      spatial_dropout1d_1[0][0]        \n",
      "__________________________________________________________________________________________________\n",
      "embedding_32 (Embedding)        (None, 1, 26)        1326        school_state[0][0]               \n",
      "__________________________________________________________________________________________________\n",
      "embedding_33 (Embedding)        (None, 1, 3)         15          teacher_prefix[0][0]             \n",
      "__________________________________________________________________________________________________\n",
      "embedding_34 (Embedding)        (None, 1, 26)        1326        clean_categories[0][0]           \n",
      "__________________________________________________________________________________________________\n",
      "embedding_35 (Embedding)        (None, 1, 50)        19800       clean_subcategories[0][0]        \n",
      "__________________________________________________________________________________________________\n",
      "embedding_36 (Embedding)        (None, 1, 2)         8           project_grade_category[0][0]     \n",
      "__________________________________________________________________________________________________\n",
      "numerical_features (InputLayer) (None, 2)            0                                            \n",
      "__________________________________________________________________________________________________\n",
      "flatten_31 (Flatten)            (None, 60000)        0           bidirectional_1[0][0]            \n",
      "__________________________________________________________________________________________________\n",
      "flatten_32 (Flatten)            (None, 26)           0           embedding_32[0][0]               \n",
      "__________________________________________________________________________________________________\n",
      "flatten_33 (Flatten)            (None, 3)            0           embedding_33[0][0]               \n",
      "__________________________________________________________________________________________________\n",
      "flatten_34 (Flatten)            (None, 26)           0           embedding_34[0][0]               \n",
      "__________________________________________________________________________________________________\n",
      "flatten_35 (Flatten)            (None, 50)           0           embedding_35[0][0]               \n",
      "__________________________________________________________________________________________________\n",
      "flatten_36 (Flatten)            (None, 2)            0           embedding_36[0][0]               \n",
      "__________________________________________________________________________________________________\n",
      "dense_21 (Dense)                (None, 50)           150         numerical_features[0][0]         \n",
      "__________________________________________________________________________________________________\n",
      "concatenate_6 (Concatenate)     (None, 60157)        0           flatten_31[0][0]                 \n",
      "                                                                 flatten_32[0][0]                 \n",
      "                                                                 flatten_33[0][0]                 \n",
      "                                                                 flatten_34[0][0]                 \n",
      "                                                                 flatten_35[0][0]                 \n",
      "                                                                 flatten_36[0][0]                 \n",
      "                                                                 dense_21[0][0]                   \n",
      "__________________________________________________________________________________________________\n",
      "dense_22 (Dense)                (None, 50)           3007900     concatenate_6[0][0]              \n",
      "__________________________________________________________________________________________________\n",
      "dropout_11 (Dropout)            (None, 50)           0           dense_22[0][0]                   \n",
      "__________________________________________________________________________________________________\n",
      "dense_23 (Dense)                (None, 200)          10200       dropout_11[0][0]                 \n",
      "__________________________________________________________________________________________________\n",
      "batch_normalization_6 (BatchNor (None, 200)          800         dense_23[0][0]                   \n",
      "__________________________________________________________________________________________________\n",
      "dropout_12 (Dropout)            (None, 200)          0           batch_normalization_6[0][0]      \n",
      "__________________________________________________________________________________________________\n",
      "dense_24 (Dense)                (None, 80)           16080       dropout_12[0][0]                 \n",
      "__________________________________________________________________________________________________\n",
      "output (Dense)                  (None, 2)            162         dense_24[0][0]                   \n",
      "==================================================================================================\n",
      "Total params: 18,424,067\n",
      "Trainable params: 18,423,667\n",
      "Non-trainable params: 400\n",
      "__________________________________________________________________________________________________\n",
      "None\n"
     ]
    }
   ],
   "source": [
    "from keras.models import Model\n",
    "from keras.layers import Input\n",
    "from keras.layers import LSTM\n",
    "from keras.layers.embeddings import Embedding\n",
    "from keras import regularizers\n",
    "from keras.regularizers import l2\n",
    "from keras.layers import Flatten\n",
    "from keras.layers import Dense, Input , Dropout\n",
    "from keras.layers import concatenate\n",
    "from keras.layers.normalization import BatchNormalization\n",
    "from keras.layers import Input, Dense, Embedding, Flatten, concatenate, Dropout, Convolution1D, \\\n",
    "    GlobalMaxPool1D, SpatialDropout1D, CuDNNGRU, Bidirectional, PReLU, GRU,LSTM\n",
    "from keras.models import Model\n",
    "from keras import optimizers\n",
    "\n",
    "\n",
    "essay = Input(shape=(300,), name='essay_input')\n",
    "\n",
    "X = Embedding(output_dim=300, input_dim=max_vocabulary+1, input_length=300 , weights=[embedding_matrix])(essay)\n",
    "x_words = SpatialDropout1D(0.3)(X)\n",
    "x_words = Bidirectional(CuDNNGRU(100, return_sequences=True))(x_words)\n",
    "\n",
    "flatten_1 = Flatten()(x_words)\n",
    "\n",
    "\n",
    "\n",
    "school_state = Input(shape=(1,), name='school_state')\n",
    "X_school_state = Embedding(output_dim=embedding_size_school_state , input_dim=no_of_unique_states,trainable=True)(school_state)\n",
    "flatten_2 = Flatten()(X_school_state)\n",
    "\n",
    "\n",
    "\n",
    "teacher_prefix = Input(shape=(1,), name='teacher_prefix')\n",
    "X_teacher_prefix = Embedding(output_dim=embedding_size_teacher_prefix , input_dim=no_of_unique_teacher_prefix, trainable=True)(teacher_prefix)\n",
    "flatten_3 = Flatten()(X_teacher_prefix)\n",
    "\n",
    "\n",
    "\n",
    "clean_categories = Input(shape=(1,), name='clean_categories')\n",
    "X_clean_categories = Embedding(output_dim=embedding_size_clean_categories, input_dim=no_of_unique_clean_categories, trainable=True)(clean_categories)\n",
    "flatten_4 = Flatten()(X_clean_categories)\n",
    "\n",
    "\n",
    "\n",
    "clean_subcategories = Input(shape=(1,), name='clean_subcategories')\n",
    "X_clean_subcategories = Embedding(output_dim = embedding_size_clean_subcategories, input_dim=no_of_unique_clean_subcategories, trainable=True)(clean_subcategories)\n",
    "flatten_5 = Flatten()(X_clean_subcategories)\n",
    "\n",
    "\n",
    "\n",
    "\n",
    "project_grade_category = Input(shape=(1,), name='project_grade_category')\n",
    "X_project_grade_category = Embedding(output_dim=embedding_size_project_grade_category, input_dim=no_of_unique_project_grade_category,trainable=True)(project_grade_category)\n",
    "flatten_6 = Flatten()(X_project_grade_category)\n",
    "\n",
    "\n",
    "numeric_features = Input(shape=(2,) , name=\"numerical_features\")\n",
    "numeric_dense = Dense(50, activation='relu' , kernel_initializer='he_normal',kernel_regularizer=l2(0.001))(numeric_features )\n",
    "\n",
    "\n",
    "X_concat = concatenate([flatten_1 , flatten_2 , flatten_3 ,flatten_4 , flatten_5 , flatten_6 , numeric_dense])\n",
    "model = Dense(50, activation=\"relu\", kernel_initializer=\"he_normal\" ,kernel_regularizer=regularizers.l2(0.001))(X_concat)\n",
    "\n",
    "model = Dropout(0.25)(model)\n",
    "\n",
    "model = Dense(200,activation=\"relu\",kernel_initializer=\"glorot_normal\" ,kernel_regularizer=regularizers.l2(0.001))(model)\n",
    "\n",
    "model = BatchNormalization()(model)\n",
    "\n",
    "model = Dropout(0.5)(model)\n",
    "\n",
    "model = Dense(80,activation=\"sigmoid\", kernel_initializer=\"glorot_normal\" ,kernel_regularizer=regularizers.l2(0.001))(model)\n",
    "\n",
    "\n",
    "output = Dense(2, activation='softmax', name='output')(model)\n",
    "\n",
    "model1_3 = Model(inputs=[essay, school_state ,teacher_prefix,clean_categories,\n",
    "                       clean_subcategories ,project_grade_category ,numeric_features ],outputs=[output])\n",
    "\n",
    "\n",
    "\n",
    "print(model1_3.summary())\n"
   ]
  },
  {
   "cell_type": "code",
   "execution_count": 0,
   "metadata": {
    "colab": {},
    "colab_type": "code",
    "id": "UizrTuGOpEBX"
   },
   "outputs": [],
   "source": [
    "checkpoint1_3 = ModelCheckpoint(\"model_1.3.h5\",\n",
    "                             monitor=\"val_auroc\",\n",
    "                             mode=\"max\",\n",
    "                             save_best_only = True,\n",
    "                             verbose=1)\n",
    "earlystop1_3 = EarlyStopping(monitor = 'val_auroc', \n",
    "                            mode=\"max\",\n",
    "                            min_delta = 0, \n",
    "                            patience = 2,\n",
    "                            verbose = 1)\n",
    "\n",
    "tensorboard1_3 = TensorBoard(log_dir='Model1.3_visualization')\n",
    "\n",
    "callbacks_1_3 = [checkpoint1_3,earlystop1_3,tensorboard1_3]"
   ]
  },
  {
   "cell_type": "code",
   "execution_count": 0,
   "metadata": {
    "colab": {
     "base_uri": "https://localhost:8080/",
     "height": 582
    },
    "colab_type": "code",
    "id": "lewqhHS4pVPD",
    "outputId": "472f2b6c-c05d-4a19-dd08-b44887d8715c"
   },
   "outputs": [
    {
     "name": "stdout",
     "output_type": "stream",
     "text": [
      "Train on 81936 samples, validate on 27312 samples\n",
      "Epoch 1/10\n",
      "81936/81936 [==============================] - 61s 750us/step - loss: 0.7927 - auroc: 0.5183 - val_loss: 0.6620 - val_auroc: 0.5858\n",
      "\n",
      "Epoch 00001: val_auroc improved from -inf to 0.58581, saving model to model_1.3.h5\n",
      "Epoch 2/10\n",
      "81936/81936 [==============================] - 59s 716us/step - loss: 0.6153 - auroc: 0.6226 - val_loss: 0.5635 - val_auroc: 0.7258\n",
      "\n",
      "Epoch 00002: val_auroc improved from 0.58581 to 0.72578, saving model to model_1.3.h5\n",
      "Epoch 3/10\n",
      "81936/81936 [==============================] - 58s 714us/step - loss: 0.5377 - auroc: 0.7292 - val_loss: 0.5256 - val_auroc: 0.7516\n",
      "\n",
      "Epoch 00003: val_auroc improved from 0.72578 to 0.75164, saving model to model_1.3.h5\n",
      "Epoch 4/10\n",
      "81936/81936 [==============================] - 59s 714us/step - loss: 0.4951 - auroc: 0.7571 - val_loss: 0.4899 - val_auroc: 0.7624\n",
      "\n",
      "Epoch 00004: val_auroc improved from 0.75164 to 0.76243, saving model to model_1.3.h5\n",
      "Epoch 5/10\n",
      "81936/81936 [==============================] - 59s 716us/step - loss: 0.4681 - auroc: 0.7809 - val_loss: 0.4777 - val_auroc: 0.7679\n",
      "\n",
      "Epoch 00005: val_auroc improved from 0.76243 to 0.76785, saving model to model_1.3.h5\n",
      "Epoch 6/10\n",
      "81936/81936 [==============================] - 59s 715us/step - loss: 0.4503 - auroc: 0.7967 - val_loss: 0.4756 - val_auroc: 0.7676\n",
      "\n",
      "Epoch 00006: val_auroc did not improve from 0.76785\n",
      "Epoch 7/10\n",
      "81936/81936 [==============================] - 59s 716us/step - loss: 0.4345 - auroc: 0.8186 - val_loss: 0.4762 - val_auroc: 0.7653\n",
      "\n",
      "Epoch 00007: val_auroc did not improve from 0.76785\n",
      "Epoch 00007: early stopping\n"
     ]
    }
   ],
   "source": [
    "\n",
    "model1_3.compile(optimizer=optimizers.Adam(0.0005, decay=1e-6), loss='binary_crossentropy', metrics=[auroc])\n",
    "history1_3= model1_3.fit(train_all, y_train, batch_size=850, epochs=10, verbose=1,callbacks=callbacks_1_3, validation_data=(test_all, y_test))"
   ]
  },
  {
   "cell_type": "code",
   "execution_count": 0,
   "metadata": {
    "colab": {
     "base_uri": "https://localhost:8080/",
     "height": 283
    },
    "colab_type": "code",
    "id": "DxdO6Y2Kpoox",
    "outputId": "6c1c7e7b-abbf-4ee3-85f8-2ab21537ff84"
   },
   "outputs": [
    {
     "data": {
      "image/png": "[encoded data removed]",
      "text/plain": [
       "<Figure size 432x288 with 1 Axes>"
      ]
     },
     "metadata": {
      "tags": []
     },
     "output_type": "display_data"
    }
   ],
   "source": [
    "%matplotlib inline\n",
    "fig,ax = plt.subplots(1,1)\n",
    "ax.set_xlabel('epoch') ; ax.set_ylabel('Binary Crossentropy Loss')\n",
    "x = list(range(1,8))\n",
    "vy = history1_3.history['val_loss']\n",
    "ty = history1_3.history['loss']\n",
    "plt_dynamic(x, vy, ty, ax)"
   ]
  },
  {
   "cell_type": "markdown",
   "metadata": {},
   "source": [
    "## MODEL 1.4"
   ]
  },
  {
   "cell_type": "code",
   "execution_count": 0,
   "metadata": {
    "colab": {
     "base_uri": "https://localhost:8080/",
     "height": 1000
    },
    "colab_type": "code",
    "id": "tH7qgoCKrZf_",
    "outputId": "aba45ac2-d3b0-4cee-c204-285706aceaa9"
   },
   "outputs": [
    {
     "name": "stdout",
     "output_type": "stream",
     "text": [
      "Model: \"model_7\"\n",
      "__________________________________________________________________________________________________\n",
      "Layer (type)                    Output Shape         Param #     Connected to                     \n",
      "==================================================================================================\n",
      "essay_input (InputLayer)        (None, 300)          0                                            \n",
      "__________________________________________________________________________________________________\n",
      "embedding_37 (Embedding)        (None, 300, 300)     15125100    essay_input[0][0]                \n",
      "__________________________________________________________________________________________________\n",
      "school_state (InputLayer)       (None, 1)            0                                            \n",
      "__________________________________________________________________________________________________\n",
      "teacher_prefix (InputLayer)     (None, 1)            0                                            \n",
      "__________________________________________________________________________________________________\n",
      "clean_categories (InputLayer)   (None, 1)            0                                            \n",
      "__________________________________________________________________________________________________\n",
      "clean_subcategories (InputLayer (None, 1)            0                                            \n",
      "__________________________________________________________________________________________________\n",
      "project_grade_category (InputLa (None, 1)            0                                            \n",
      "__________________________________________________________________________________________________\n",
      "bidirectional_2 (Bidirectional) (None, 300, 200)     241200      embedding_37[0][0]               \n",
      "__________________________________________________________________________________________________\n",
      "embedding_38 (Embedding)        (None, 1, 26)        1326        school_state[0][0]               \n",
      "__________________________________________________________________________________________________\n",
      "embedding_39 (Embedding)        (None, 1, 3)         15          teacher_prefix[0][0]             \n",
      "__________________________________________________________________________________________________\n",
      "embedding_40 (Embedding)        (None, 1, 26)        1326        clean_categories[0][0]           \n",
      "__________________________________________________________________________________________________\n",
      "embedding_41 (Embedding)        (None, 1, 50)        19800       clean_subcategories[0][0]        \n",
      "__________________________________________________________________________________________________\n",
      "embedding_42 (Embedding)        (None, 1, 2)         8           project_grade_category[0][0]     \n",
      "__________________________________________________________________________________________________\n",
      "numerical_features (InputLayer) (None, 2)            0                                            \n",
      "__________________________________________________________________________________________________\n",
      "flatten_37 (Flatten)            (None, 60000)        0           bidirectional_2[0][0]            \n",
      "__________________________________________________________________________________________________\n",
      "flatten_38 (Flatten)            (None, 26)           0           embedding_38[0][0]               \n",
      "__________________________________________________________________________________________________\n",
      "flatten_39 (Flatten)            (None, 3)            0           embedding_39[0][0]               \n",
      "__________________________________________________________________________________________________\n",
      "flatten_40 (Flatten)            (None, 26)           0           embedding_40[0][0]               \n",
      "__________________________________________________________________________________________________\n",
      "flatten_41 (Flatten)            (None, 50)           0           embedding_41[0][0]               \n",
      "__________________________________________________________________________________________________\n",
      "flatten_42 (Flatten)            (None, 2)            0           embedding_42[0][0]               \n",
      "__________________________________________________________________________________________________\n",
      "dense_25 (Dense)                (None, 128)          384         numerical_features[0][0]         \n",
      "__________________________________________________________________________________________________\n",
      "concatenate_7 (Concatenate)     (None, 60235)        0           flatten_37[0][0]                 \n",
      "                                                                 flatten_38[0][0]                 \n",
      "                                                                 flatten_39[0][0]                 \n",
      "                                                                 flatten_40[0][0]                 \n",
      "                                                                 flatten_41[0][0]                 \n",
      "                                                                 flatten_42[0][0]                 \n",
      "                                                                 dense_25[0][0]                   \n",
      "__________________________________________________________________________________________________\n",
      "dense_26 (Dense)                (None, 300)          18070800    concatenate_7[0][0]              \n",
      "__________________________________________________________________________________________________\n",
      "dropout_13 (Dropout)            (None, 300)          0           dense_26[0][0]                   \n",
      "__________________________________________________________________________________________________\n",
      "dense_27 (Dense)                (None, 200)          60200       dropout_13[0][0]                 \n",
      "__________________________________________________________________________________________________\n",
      "batch_normalization_7 (BatchNor (None, 200)          800         dense_27[0][0]                   \n",
      "__________________________________________________________________________________________________\n",
      "dropout_14 (Dropout)            (None, 200)          0           batch_normalization_7[0][0]      \n",
      "__________________________________________________________________________________________________\n",
      "dense_28 (Dense)                (None, 80)           16080       dropout_14[0][0]                 \n",
      "__________________________________________________________________________________________________\n",
      "output (Dense)                  (None, 2)            162         dense_28[0][0]                   \n",
      "==================================================================================================\n",
      "Total params: 33,537,201\n",
      "Trainable params: 33,536,801\n",
      "Non-trainable params: 400\n",
      "__________________________________________________________________________________________________\n",
      "None\n"
     ]
    }
   ],
   "source": [
    "from keras.models import Model\n",
    "from keras.layers import Input\n",
    "from keras.layers import LSTM\n",
    "from keras.layers.embeddings import Embedding\n",
    "from keras import regularizers\n",
    "from keras.regularizers import l2\n",
    "from keras.layers import Flatten\n",
    "from keras.layers import Dense, Input , Dropout\n",
    "from keras.layers import concatenate\n",
    "from keras.layers.normalization import BatchNormalization\n",
    "\n",
    "\n",
    "essay = Input(shape=(300,), name='essay_input')\n",
    "\n",
    "X = Embedding(output_dim=300, input_dim=max_vocabulary+1, input_length=300 , weights=[embedding_matrix])(essay)\n",
    "x_words = Bidirectional(CuDNNGRU(100, return_sequences=True))(X)\n",
    "flatten_1 = Flatten()(x_words)\n",
    "\n",
    "\n",
    "\n",
    "school_state = Input(shape=(1,), name='school_state')\n",
    "X_school_state = Embedding(output_dim=embedding_size_school_state , input_dim=no_of_unique_states, input_length=1)(school_state)\n",
    "flatten_2 = Flatten()(X_school_state)\n",
    "\n",
    "\n",
    "\n",
    "teacher_prefix = Input(shape=(1,), name='teacher_prefix')\n",
    "X_teacher_prefix = Embedding(output_dim=embedding_size_teacher_prefix , input_dim=no_of_unique_teacher_prefix, input_length=1)(teacher_prefix)\n",
    "flatten_3 = Flatten()(X_teacher_prefix)\n",
    "\n",
    "\n",
    "\n",
    "clean_categories = Input(shape=(1,), name='clean_categories')\n",
    "X_clean_categories = Embedding(output_dim=embedding_size_clean_categories, input_dim=no_of_unique_clean_categories, input_length=1)(clean_categories)\n",
    "flatten_4 = Flatten()(X_clean_categories)\n",
    "\n",
    "\n",
    "\n",
    "clean_subcategories = Input(shape=(1,), name='clean_subcategories')\n",
    "X_clean_subcategories = Embedding(output_dim=embedding_size_clean_subcategories, input_dim=no_of_unique_clean_subcategories, input_length=1)(clean_subcategories)\n",
    "flatten_5 = Flatten()(X_clean_subcategories)\n",
    "\n",
    "\n",
    "\n",
    "\n",
    "project_grade_category = Input(shape=(1,), name='project_grade_category')\n",
    "X_project_grade_category = Embedding(output_dim=embedding_size_project_grade_category, input_dim=no_of_unique_project_grade_category, input_length=1)(project_grade_category)\n",
    "flatten_6 = Flatten()(X_project_grade_category)\n",
    "\n",
    "\n",
    "numeric_features = Input(shape=(2,) , name=\"numerical_features\")\n",
    "numeric_dense = Dense(128, activation='relu' , kernel_initializer='he_normal',kernel_regularizer=l2(0.001))(numeric_features )\n",
    "\n",
    "\n",
    "X_concat = concatenate([flatten_1 , flatten_2 , flatten_3 ,flatten_4 , flatten_5 , flatten_6 , numeric_dense])\n",
    "model = Dense(300, activation=\"relu\", kernel_initializer=\"he_normal\" ,kernel_regularizer=regularizers.l2(0.001))(X_concat)\n",
    "\n",
    "model = Dropout(0.5)(model)\n",
    "\n",
    "model = Dense(200,activation=\"relu\",kernel_initializer=\"glorot_normal\" ,kernel_regularizer=regularizers.l2(0.001))(model)\n",
    "\n",
    "model = BatchNormalization()(model)\n",
    "\n",
    "model = Dropout(0.5)(model)\n",
    "\n",
    "model = Dense(80,activation=\"sigmoid\", kernel_initializer=\"glorot_normal\" ,kernel_regularizer=regularizers.l2(0.001))(model)\n",
    "\n",
    "\n",
    "output = Dense(2, activation='softmax', name='output')(model)\n",
    "\n",
    "model1_4 = Model(inputs=[essay, school_state ,teacher_prefix,clean_categories,\n",
    "                       clean_subcategories ,project_grade_category ,numeric_features ],outputs=[output])\n",
    "\n",
    "\n",
    "\n",
    "print(model1_4.summary())\n"
   ]
  },
  {
   "cell_type": "code",
   "execution_count": 0,
   "metadata": {
    "colab": {},
    "colab_type": "code",
    "id": "w9vqJXUbvDs0"
   },
   "outputs": [],
   "source": [
    "checkpoint1_4 = ModelCheckpoint(\"model_1.4.h5\",\n",
    "                             monitor=\"val_auroc\",\n",
    "                             mode=\"max\",\n",
    "                             save_best_only = True,\n",
    "                             verbose=1)\n",
    "earlystop1_4 = EarlyStopping(monitor = 'val_auroc', \n",
    "                            mode=\"max\",\n",
    "                            min_delta = 0, \n",
    "                            patience = 2,\n",
    "                            verbose = 1)\n",
    "\n",
    "tensorboard1_4 = TensorBoard(log_dir='Model1.4_visualization')\n",
    "\n",
    "callbacks_1_4 = [checkpoint1_4,earlystop1_4,tensorboard1_4]"
   ]
  },
  {
   "cell_type": "code",
   "execution_count": 0,
   "metadata": {
    "colab": {
     "base_uri": "https://localhost:8080/",
     "height": 437
    },
    "colab_type": "code",
    "id": "zOqUN-I-vTw_",
    "outputId": "ada89360-ae48-437e-ea11-3ab788179547"
   },
   "outputs": [
    {
     "name": "stdout",
     "output_type": "stream",
     "text": [
      "Train on 81936 samples, validate on 27312 samples\n",
      "Epoch 1/10\n",
      "81936/81936 [==============================] - 62s 762us/step - loss: 1.1001 - auroc: 0.6254 - val_loss: 0.8358 - val_auroc: 0.7448\n",
      "\n",
      "Epoch 00001: val_auroc improved from -inf to 0.74479, saving model to model_1.4.h5\n",
      "Epoch 2/10\n",
      "81936/81936 [==============================] - 61s 748us/step - loss: 0.7414 - auroc: 0.7548 - val_loss: 0.6852 - val_auroc: 0.7588\n",
      "\n",
      "Epoch 00002: val_auroc improved from 0.74479 to 0.75876, saving model to model_1.4.h5\n",
      "Epoch 3/10\n",
      "81936/81936 [==============================] - 61s 749us/step - loss: 0.6423 - auroc: 0.7877 - val_loss: 0.6375 - val_auroc: 0.7625\n",
      "\n",
      "Epoch 00003: val_auroc improved from 0.75876 to 0.76249, saving model to model_1.4.h5\n",
      "Epoch 4/10\n",
      "81936/81936 [==============================] - 61s 746us/step - loss: 0.5841 - auroc: 0.8224 - val_loss: 0.6301 - val_auroc: 0.7495\n",
      "\n",
      "Epoch 00004: val_auroc did not improve from 0.76249\n",
      "Epoch 5/10\n",
      "81936/81936 [==============================] - 61s 748us/step - loss: 0.5209 - auroc: 0.8670 - val_loss: 0.6082 - val_auroc: 0.7344\n",
      "\n",
      "Epoch 00005: val_auroc did not improve from 0.76249\n",
      "Epoch 00005: early stopping\n"
     ]
    }
   ],
   "source": [
    "model1_4.compile(optimizer='adam', loss='binary_crossentropy', metrics=[auroc])\n",
    "history1_4= model1_4.fit(train_all, y_train, batch_size=850, epochs=10, verbose=1,callbacks=callbacks_1_4, validation_data=(test_all, y_test))"
   ]
  },
  {
   "cell_type": "code",
   "execution_count": 0,
   "metadata": {
    "colab": {
     "base_uri": "https://localhost:8080/",
     "height": 283
    },
    "colab_type": "code",
    "id": "WYIKyscfvi7x",
    "outputId": "e747a0b1-61ae-4bc5-e14c-30c9089be6b4"
   },
   "outputs": [
    {
     "data": {
      "image/png": "[encoded data removed]",
      "text/plain": [
       "<Figure size 432x288 with 1 Axes>"
      ]
     },
     "metadata": {
      "tags": []
     },
     "output_type": "display_data"
    }
   ],
   "source": [
    "%matplotlib inline\n",
    "fig,ax = plt.subplots(1,1)\n",
    "ax.set_xlabel('epoch') ; ax.set_ylabel('Binary Crossentropy Loss')\n",
    "x = list(range(1,6))\n",
    "vy = history1_4.history['val_loss']\n",
    "ty = history1_4.history['loss']\n",
    "plt_dynamic(x, vy, ty, ax)"
   ]
  },
  {
   "cell_type": "markdown",
   "metadata": {
    "colab": {},
    "colab_type": "code",
    "id": "UgMXMMBKxBAC"
   },
   "source": [
    "## MODEL 2"
   ]
  },
  {
   "cell_type": "code",
   "execution_count": 0,
   "metadata": {
    "colab": {},
    "colab_type": "code",
    "id": "GtTo3f5lzgMI"
   },
   "outputs": [],
   "source": [
    "vectorizer = TfidfVectorizer()\n",
    "tfidf = vectorizer.fit_transform(X_train[\"essay\"])\n"
   ]
  },
  {
   "cell_type": "code",
   "execution_count": 0,
   "metadata": {
    "colab": {},
    "colab_type": "code",
    "id": "C3PvyjUV1eJF"
   },
   "outputs": [],
   "source": [
    "data = {'word': vectorizer.get_feature_names() , 'idf_value': vectorizer.idf_}"
   ]
  },
  {
   "cell_type": "code",
   "execution_count": 0,
   "metadata": {
    "colab": {},
    "colab_type": "code",
    "id": "lAJsSQMp1znO"
   },
   "outputs": [],
   "source": [
    "tfidf_df = pd.DataFrame(data=data)"
   ]
  },
  {
   "cell_type": "code",
   "execution_count": 54,
   "metadata": {
    "colab": {
     "base_uri": "https://localhost:8080/",
     "height": 53
    },
    "colab_type": "code",
    "id": "OTOdioLj18Ko",
    "outputId": "6a29d4cb-af44-40cf-b196-98b5e1a4754e"
   },
   "outputs": [
    {
     "name": "stdout",
     "output_type": "stream",
     "text": [
      "Min tf-idf value is:  1.007620157912837\n",
      "Max tf-idf value is:  11.62055875771544\n"
     ]
    }
   ],
   "source": [
    "print(\"Min tf-idf value is: \",min(tfidf_df['idf_value']))\n",
    "\n",
    "print(\"Max tf-idf value is: \",max(tfidf_df['idf_value']))"
   ]
  },
  {
   "cell_type": "code",
   "execution_count": 56,
   "metadata": {
    "colab": {
     "base_uri": "https://localhost:8080/",
     "height": 273
    },
    "colab_type": "code",
    "id": "kS7Kx6-R2EEg",
    "outputId": "31fe283a-cffc-46c0-81b5-95d550764306"
   },
   "outputs": [
    {
     "data": {
      "image/png": "[encoded data removed]",
      "text/plain": [
       "<Figure size 432x288 with 1 Axes>"
      ]
     },
     "metadata": {
      "tags": []
     },
     "output_type": "display_data"
    }
   ],
   "source": [
    "%matplotlib inline\n",
    "import seaborn as sns\n",
    "\n",
    "fig , ax = plt.subplots()\n",
    "\n",
    "ax = sns.violinplot(y=tfidf_df['idf_value'],color='b')\n",
    "ax.set_xlabel(\"violin plot of IDF values\")\n",
    "\n",
    "\n",
    "plt.show()"
   ]
  },
  {
   "cell_type": "code",
   "execution_count": 57,
   "metadata": {
    "colab": {
     "base_uri": "https://localhost:8080/",
     "height": 90
    },
    "colab_type": "code",
    "id": "kRdDhCNG2HyP",
    "outputId": "4714a49d-bc8a-4d86-82bd-32bba4fcd987"
   },
   "outputs": [
    {
     "name": "stdout",
     "output_type": "stream",
     "text": [
      "Quantiles: 0-10-20-30-40-50-60-70-80-90-100\n",
      "[ 1.00762016  7.56011575  9.0556094  10.01112085 10.70426803 11.21509365\n",
      " 11.21509365 11.62055876 11.62055876 11.62055876]\n",
      "11.62055875771544\n"
     ]
    }
   ],
   "source": [
    "print(\"Quantiles: 0-10-20-30-40-50-60-70-80-90-100\")\n",
    "print(np.percentile(tfidf_df['idf_value'],np.arange(0, 100, 10)))\n",
    "\n",
    "print(np.percentile(tfidf_df['idf_value'] , 100))"
   ]
  },
  {
   "cell_type": "code",
   "execution_count": 58,
   "metadata": {
    "colab": {
     "base_uri": "https://localhost:8080/",
     "height": 35
    },
    "colab_type": "code",
    "id": "ybz8-x_i3Gdv",
    "outputId": "76a5b3a8-8eea-4ac9-80d3-85241e6ed16b"
   },
   "outputs": [
    {
     "name": "stdout",
     "output_type": "stream",
     "text": [
      "(24973, 2)\n"
     ]
    }
   ],
   "source": [
    "filter =   (tfidf_df['idf_value']>=2) & (tfidf_df['idf_value'] <=11.21)\n",
    "\n",
    "tfidf_best = tfidf_df[filter]\n",
    "\n",
    "print(tfidf_best.shape)"
   ]
  },
  {
   "cell_type": "code",
   "execution_count": 0,
   "metadata": {
    "colab": {},
    "colab_type": "code",
    "id": "kcKyLXD94l2f"
   },
   "outputs": [],
   "source": [
    "Best_tfidf = tfidf_best['word'].tolist()"
   ]
  },
  {
   "cell_type": "code",
   "execution_count": 0,
   "metadata": {
    "colab": {},
    "colab_type": "code",
    "id": "uz4WpOT14qpi"
   },
   "outputs": [],
   "source": [
    "tokenizer = Tokenizer(num_words= 100000 )\n",
    "tokenizer.fit_on_texts(Best_tfidf)\n",
    "\n",
    "X_train['essay_tok_2']  = tokenizer.texts_to_sequences(X_train['essay'].values)\n",
    "\n",
    "X_test['essay_tok_2']   = tokenizer.texts_to_sequences(X_test['essay'].values)"
   ]
  },
  {
   "cell_type": "code",
   "execution_count": 61,
   "metadata": {
    "colab": {
     "base_uri": "https://localhost:8080/",
     "height": 92
    },
    "colab_type": "code",
    "id": "xXAwrM-wDMps",
    "outputId": "94df81bf-3728-42e1-800f-0bf62ac5e017"
   },
   "outputs": [
    {
     "name": "stdout",
     "output_type": "stream",
     "text": [
      "There are 24973 number of unique words in the entire text corpus\n",
      "[8830, 9931, 18679, 7819, 14522, 12888, 8177, 20033, 12886, 20377, 22766, 8522, 7364, 10668, 23756, 8150, 10357, 24707, 21728, 15946, 4715, 6012, 22099, 21414, 17497, 14853, 22679, 21581, 10351, 14551, 20001, 22472, 17378, 20381, 2868, 5723, 17378, 20213, 6285, 5284, 19207, 5066, 9682, 23538, 23013, 16727, 8097, 2868, 5066, 685, 2811, 17378, 11178, 12109, 9363, 6474, 810, 8830, 9936, 16699, 17378, 5809, 793, 5730, 24748, 23006, 5809, 2807, 17378, 11178, 5809, 10455, 22143, 1270, 3941, 9682, 2868, 20033, 5518, 24270, 17139, 21059, 2627, 3941, 13759, 11809, 9501, 12424, 7714, 12428, 9394, 12428, 14522, 8177]\n",
      "94\n"
     ]
    }
   ],
   "source": [
    "\n",
    "max_vocabulary1 = len(tokenizer.word_index)\n",
    "print(\"There are {} number of unique words in the entire text corpus\".format(max_vocabulary1))\n",
    "\n",
    "print(X_train['essay_tok_2'].values[0])\n",
    "print(len(X_train['essay_tok_2'].values[0]))"
   ]
  },
  {
   "cell_type": "code",
   "execution_count": 0,
   "metadata": {
    "colab": {},
    "colab_type": "code",
    "id": "V14pAeI-IMVT"
   },
   "outputs": [],
   "source": [
    "from keras.preprocessing import sequence\n",
    "max_review_length = 300\n",
    "X_train_pad1 = sequence.pad_sequences(X_train['essay_tok_2'].values, maxlen=max_review_length , padding='post' )\n",
    "\n",
    "X_test_pad1  = sequence.pad_sequences(X_test['essay_tok_2'].values, maxlen=max_review_length , padding='post' )\n"
   ]
  },
  {
   "cell_type": "code",
   "execution_count": 63,
   "metadata": {
    "colab": {
     "base_uri": "https://localhost:8080/",
     "height": 635
    },
    "colab_type": "code",
    "id": "OBpzrExcIcIL",
    "outputId": "cafb6ed1-c264-48a0-acff-add10ae96763"
   },
   "outputs": [
    {
     "data": {
      "text/plain": [
       "array([ 8830,  9931, 18679,  7819, 14522, 12888,  8177, 20033, 12886,\n",
       "       20377, 22766,  8522,  7364, 10668, 23756,  8150, 10357, 24707,\n",
       "       21728, 15946,  4715,  6012, 22099, 21414, 17497, 14853, 22679,\n",
       "       21581, 10351, 14551, 20001, 22472, 17378, 20381,  2868,  5723,\n",
       "       17378, 20213,  6285,  5284, 19207,  5066,  9682, 23538, 23013,\n",
       "       16727,  8097,  2868,  5066,   685,  2811, 17378, 11178, 12109,\n",
       "        9363,  6474,   810,  8830,  9936, 16699, 17378,  5809,   793,\n",
       "        5730, 24748, 23006,  5809,  2807, 17378, 11178,  5809, 10455,\n",
       "       22143,  1270,  3941,  9682,  2868, 20033,  5518, 24270, 17139,\n",
       "       21059,  2627,  3941, 13759, 11809,  9501, 12424,  7714, 12428,\n",
       "        9394, 12428, 14522,  8177,     0,     0,     0,     0,     0,\n",
       "           0,     0,     0,     0,     0,     0,     0,     0,     0,\n",
       "           0,     0,     0,     0,     0,     0,     0,     0,     0,\n",
       "           0,     0,     0,     0,     0,     0,     0,     0,     0,\n",
       "           0,     0,     0,     0,     0,     0,     0,     0,     0,\n",
       "           0,     0,     0,     0,     0,     0,     0,     0,     0,\n",
       "           0,     0,     0,     0,     0,     0,     0,     0,     0,\n",
       "           0,     0,     0,     0,     0,     0,     0,     0,     0,\n",
       "           0,     0,     0,     0,     0,     0,     0,     0,     0,\n",
       "           0,     0,     0,     0,     0,     0,     0,     0,     0,\n",
       "           0,     0,     0,     0,     0,     0,     0,     0,     0,\n",
       "           0,     0,     0,     0,     0,     0,     0,     0,     0,\n",
       "           0,     0,     0,     0,     0,     0,     0,     0,     0,\n",
       "           0,     0,     0,     0,     0,     0,     0,     0,     0,\n",
       "           0,     0,     0,     0,     0,     0,     0,     0,     0,\n",
       "           0,     0,     0,     0,     0,     0,     0,     0,     0,\n",
       "           0,     0,     0,     0,     0,     0,     0,     0,     0,\n",
       "           0,     0,     0,     0,     0,     0,     0,     0,     0,\n",
       "           0,     0,     0,     0,     0,     0,     0,     0,     0,\n",
       "           0,     0,     0,     0,     0,     0,     0,     0,     0,\n",
       "           0,     0,     0,     0,     0,     0,     0,     0,     0,\n",
       "           0,     0,     0,     0,     0,     0,     0,     0,     0,\n",
       "           0,     0,     0,     0,     0,     0,     0,     0,     0,\n",
       "           0,     0,     0], dtype=int32)"
      ]
     },
     "execution_count": 63,
     "metadata": {
      "tags": []
     },
     "output_type": "execute_result"
    }
   ],
   "source": [
    "X_train_pad1[0]"
   ]
  },
  {
   "cell_type": "code",
   "execution_count": 0,
   "metadata": {
    "colab": {},
    "colab_type": "code",
    "id": "ixKhGL-RIlKv"
   },
   "outputs": [],
   "source": [
    "import pickle\n",
    "with open('glove_vectors', 'rb') as f:\n",
    "    glove = pickle.load(f)\n",
    "    glove_words =  set(glove.keys())"
   ]
  },
  {
   "cell_type": "code",
   "execution_count": 0,
   "metadata": {
    "colab": {},
    "colab_type": "code",
    "id": "FrZDCNRGJpSu"
   },
   "outputs": [],
   "source": [
    "from numpy import zeros\n",
    "\n",
    "# create a weight matrix for words in training docs\n",
    "embedding_matrix1 = zeros((max_vocabulary1+1, 300))\n",
    "for word, i in tokenizer.word_index.items():\n",
    "  \n",
    "  \n",
    "    if word in glove_words:\n",
    "    \n",
    "        embedding_vector1 = glove[word]\n",
    "        embedding_matrix1[i] = embedding_vector"
   ]
  },
  {
   "cell_type": "code",
   "execution_count": 69,
   "metadata": {
    "colab": {
     "base_uri": "https://localhost:8080/",
     "height": 944
    },
    "colab_type": "code",
    "id": "za9i1wg_J4oP",
    "outputId": "072480a3-fc6f-4317-8eff-fac33c826c35"
   },
   "outputs": [
    {
     "name": "stdout",
     "output_type": "stream",
     "text": [
      "(300,)\n",
      "[ 2.0068e-01  1.5822e-01  3.6722e-02  7.5548e-02  2.0737e-02  1.0723e-02\n",
      "  3.4510e-01 -4.4551e-01  1.9836e-01  1.7209e-01 -2.8839e-02 -3.9688e-01\n",
      " -6.0002e-03 -1.1679e-01  1.4462e-01  4.9014e-03  2.3345e-01 -1.6316e-01\n",
      "  3.9680e-01  3.3683e-01  1.5139e-01 -2.5796e-03  3.4465e-02 -3.7172e-02\n",
      "  1.1644e-02  1.5214e-01  2.6567e-01 -1.3735e-01  1.7322e-01 -2.3644e-01\n",
      " -1.5454e-01 -1.1626e-02 -1.3897e-02 -1.6366e-01 -8.1539e-02 -3.4026e-01\n",
      "  3.1486e-01 -2.5372e-01  3.0421e-01  1.0210e-01 -3.3919e-01 -7.2153e-02\n",
      "  1.7949e-01 -4.3227e-02 -4.6427e-01  2.8360e-01 -1.1425e-01  1.3057e-01\n",
      "  2.1379e-01 -8.0684e-02 -4.2406e-01 -3.8866e-02  4.2685e-01  1.6603e-01\n",
      " -2.8568e-01 -4.6460e-02 -3.4131e-01 -1.6387e-01  4.1073e-01 -4.5219e-02\n",
      "  8.8993e-02  2.6906e-01  4.8372e-02 -1.7188e-01 -7.8795e-03  9.0109e-02\n",
      "  8.0156e-02  1.1585e-01  7.9520e-02  6.2517e-02 -1.0539e-01 -1.2554e-01\n",
      "  1.9966e-01  4.0654e-02  1.7260e-01  7.2246e-02  1.7946e-01 -3.0463e-01\n",
      " -1.3575e-01  3.2732e-01 -9.7769e-02 -3.8718e-02 -2.4229e-01 -4.0356e-01\n",
      " -1.1627e-01 -2.1828e-01 -4.0411e-01 -5.9367e-02 -9.5257e-02 -1.9573e-01\n",
      " -1.5883e-01  1.0455e-01  1.6539e-01 -1.6738e-01 -1.5068e-01  3.6819e-01\n",
      "  6.3812e-01 -5.2925e-02  1.5358e-01 -1.8523e-01 -1.8947e-01  2.2707e-01\n",
      " -9.5914e-02 -1.0343e-01  1.1309e-01  3.2272e-01 -1.3083e-02 -1.3653e-02\n",
      "  2.1348e-01 -2.2140e-01 -3.1597e-02  3.9301e-02 -2.1831e-01  2.9706e-01\n",
      " -1.1628e-01  4.3871e-02 -1.0818e-01  3.6365e-03 -6.2780e-02 -1.1669e-01\n",
      "  1.4508e-02  3.3786e-02 -4.1450e-01  2.5080e-01  4.6866e-01  1.2147e-01\n",
      "  9.3575e-02 -2.8979e-01 -2.1930e-01  3.4681e-01 -2.6878e-01 -3.2228e-01\n",
      "  1.2225e-01  1.3039e-01  5.1700e-02 -4.6115e-01 -2.9898e-01  1.6922e-01\n",
      "  1.5393e-02 -8.9827e-01  3.2908e-01  3.1645e-02 -4.2886e-02 -4.3909e-01\n",
      "  4.2378e-01  5.8613e-02 -7.6603e-02  7.0578e-02  1.2354e-04  3.0714e-01\n",
      "  2.9468e-01  3.4335e-01 -2.0191e-01 -6.6998e-02 -7.1312e-02  3.0593e-01\n",
      "  1.0567e-01  9.6392e-02 -1.2753e-01  1.5957e-01 -2.7399e-01  6.0840e-02\n",
      " -2.1189e-02  4.3298e-01  2.0552e-01  4.9633e-02 -1.3251e-01 -4.4370e-01\n",
      " -6.8278e-02 -6.2122e-01 -1.3083e-01 -1.1047e-01  2.3241e-02  7.1674e-01\n",
      " -1.8659e-01  2.0794e-01 -5.5578e-02  8.6516e-02  1.1309e-02 -8.1122e-03\n",
      " -5.2922e-02  1.8666e-01 -8.5280e-02  1.0719e-02 -4.0297e-01 -7.9230e-02\n",
      " -1.3100e-01  2.2687e-01 -8.2625e-02 -2.9694e-01 -2.4409e-01  1.6588e-01\n",
      "  2.0146e-01  1.0137e-01 -5.5336e-02  2.4006e-01  3.9750e-01  1.7729e-01\n",
      " -2.1663e-01 -4.8954e-01  7.2144e-02 -1.5817e-01  8.8364e-02 -2.0306e-01\n",
      "  1.3722e-01  2.7296e-01  2.2739e-01  3.0557e-02  7.5477e-02 -1.3868e-01\n",
      "  2.5489e-01  1.5051e-01  8.9716e-02 -8.3283e-02  1.2277e-01 -1.2642e-01\n",
      " -1.3567e-01  6.5450e-02  1.5932e-01 -9.2798e-02  5.2298e-01 -1.8180e-01\n",
      "  5.2568e-01  6.4589e-02  9.5389e-01  3.8743e-02  2.5086e-01 -9.8389e-02\n",
      "  1.5914e-01 -2.7751e-01 -1.9894e-01 -4.9675e-01 -2.4987e-01 -4.3411e-02\n",
      " -2.4514e-01 -2.2965e-01  1.9110e-01 -1.5452e-01 -2.3190e-01  1.9275e-01\n",
      " -1.0648e-01  2.5178e-01 -3.6450e-01 -6.9026e-01 -1.3533e-01  3.6019e-01\n",
      " -2.8280e-01  1.1204e-01  1.9934e-01 -1.5186e-01  1.4658e-01  3.0183e-01\n",
      "  4.3058e-01 -2.4802e-01  3.0052e-01 -1.6212e-01  4.9838e-01 -1.9394e-01\n",
      " -2.4307e-01  6.2043e-02  1.6996e-01 -8.0746e-02 -4.8261e-02  1.0834e-03\n",
      "  2.2939e-01 -1.8216e-01 -1.0608e-01 -2.6148e-01 -7.2004e-02 -3.6981e-01\n",
      "  1.8038e-02 -3.5581e-01  2.4663e-01 -1.4547e-01 -7.8987e-02  3.4633e-01\n",
      " -5.8107e-01 -1.5309e-01  4.1510e-01  3.1172e-01  9.2421e-02  2.4751e-01\n",
      " -9.0918e-02  3.2534e-01  8.1613e-02 -1.9214e-01  4.1453e-01 -3.6467e-01\n",
      "  7.3575e-02  5.4857e-02 -1.2927e-01 -3.6182e-01  1.3288e-01 -7.3407e-01\n",
      "  2.0467e-02 -4.6957e-02  2.1597e-01 -2.8101e-01  6.6496e-02  2.4029e-01]\n"
     ]
    }
   ],
   "source": [
    "print(embedding_matrix1[1].shape)\n",
    "print(embedding_matrix1[1])"
   ]
  },
  {
   "cell_type": "code",
   "execution_count": 0,
   "metadata": {
    "colab": {},
    "colab_type": "code",
    "id": "Jw1kq36PuGwp"
   },
   "outputs": [],
   "source": [
    "from keras.models import Model\n",
    "from keras.layers import Input\n",
    "from keras.layers import LSTM\n",
    "from keras.layers.embeddings import Embedding\n",
    "from keras import regularizers\n",
    "from keras.regularizers import l2\n",
    "from keras.layers import Flatten\n",
    "from keras.layers import Dense, Input , Dropout\n",
    "from keras.layers import concatenate\n",
    "from keras.layers.normalization import BatchNormalization"
   ]
  },
  {
   "cell_type": "code",
   "execution_count": 72,
   "metadata": {
    "colab": {
     "base_uri": "https://localhost:8080/",
     "height": 128
    },
    "colab_type": "code",
    "id": "Vc1RSdE5KFaO",
    "outputId": "157d17bc-82e6-4d26-a278-f094e045a3e0"
   },
   "outputs": [
    {
     "name": "stdout",
     "output_type": "stream",
     "text": [
      "WARNING:tensorflow:From /usr/local/lib/python3.6/dist-packages/keras/backend/tensorflow_backend.py:148: The name tf.placeholder_with_default is deprecated. Please use tf.compat.v1.placeholder_with_default instead.\n",
      "\n",
      "WARNING:tensorflow:From /usr/local/lib/python3.6/dist-packages/keras/backend/tensorflow_backend.py:3733: calling dropout (from tensorflow.python.ops.nn_ops) with keep_prob is deprecated and will be removed in a future version.\n",
      "Instructions for updating:\n",
      "Please use `rate` instead of `keep_prob`. Rate should be set to `rate = 1 - keep_prob`.\n"
     ]
    }
   ],
   "source": [
    "essay1 = Input(shape=(300,), name='essay_input1')\n",
    "\n",
    "X1 = Embedding(output_dim=300, input_dim=max_vocabulary1+1, input_length=300 , weights=[embedding_matrix1])(essay1)\n",
    "lstm_essay1 = LSTM(100,recurrent_dropout=0.5,kernel_regularizer=regularizers.l2(0.001),return_sequences=True)(X1)\n",
    "flatten_new = Flatten()(lstm_essay1)\n"
   ]
  },
  {
   "cell_type": "code",
   "execution_count": 0,
   "metadata": {
    "colab": {},
    "colab_type": "code",
    "id": "E5nDRy0GMYTh"
   },
   "outputs": [],
   "source": [
    "X_concat = concatenate([flatten_new , flatten_2 , flatten_3 ,flatten_4 , flatten_5 , flatten_6 , numeric_dense])"
   ]
  },
  {
   "cell_type": "code",
   "execution_count": 0,
   "metadata": {
    "colab": {
     "base_uri": "https://localhost:8080/",
     "height": 1000
    },
    "colab_type": "code",
    "id": "3SVdOFMwMglb",
    "outputId": "6515a58d-5070-436a-9bb5-ceac9b055c50"
   },
   "outputs": [
    {
     "name": "stdout",
     "output_type": "stream",
     "text": [
      "Model: \"model_32\"\n",
      "__________________________________________________________________________________________________\n",
      "Layer (type)                    Output Shape         Param #     Connected to                     \n",
      "==================================================================================================\n",
      "essay_input (InputLayer)        (None, 300)          0                                            \n",
      "__________________________________________________________________________________________________\n",
      "embedding_58 (Embedding)        (None, 300, 300)     7481100     essay_input[0][0]                \n",
      "__________________________________________________________________________________________________\n",
      "school_state (InputLayer)       (None, 1)            0                                            \n",
      "__________________________________________________________________________________________________\n",
      "teacher_prefix (InputLayer)     (None, 1)            0                                            \n",
      "__________________________________________________________________________________________________\n",
      "clean_categories (InputLayer)   (None, 1)            0                                            \n",
      "__________________________________________________________________________________________________\n",
      "clean_subcategories (InputLayer (None, 1)            0                                            \n",
      "__________________________________________________________________________________________________\n",
      "project_grade_category (InputLa (None, 1)            0                                            \n",
      "__________________________________________________________________________________________________\n",
      "lstm_21 (LSTM)                  (None, 300, 100)     160400      embedding_58[0][0]               \n",
      "__________________________________________________________________________________________________\n",
      "embedding_38 (Embedding)        (None, 1, 26)        1326        school_state[0][0]               \n",
      "__________________________________________________________________________________________________\n",
      "embedding_39 (Embedding)        (None, 1, 3)         15          teacher_prefix[0][0]             \n",
      "__________________________________________________________________________________________________\n",
      "embedding_40 (Embedding)        (None, 1, 26)        1326        clean_categories[0][0]           \n",
      "__________________________________________________________________________________________________\n",
      "embedding_41 (Embedding)        (None, 1, 50)        19800       clean_subcategories[0][0]        \n",
      "__________________________________________________________________________________________________\n",
      "embedding_42 (Embedding)        (None, 1, 2)         8           project_grade_category[0][0]     \n",
      "__________________________________________________________________________________________________\n",
      "numerical_features (InputLayer) (None, 2)            0                                            \n",
      "__________________________________________________________________________________________________\n",
      "flatten_58 (Flatten)            (None, 30000)        0           lstm_21[0][0]                    \n",
      "__________________________________________________________________________________________________\n",
      "flatten_38 (Flatten)            (None, 26)           0           embedding_38[0][0]               \n",
      "__________________________________________________________________________________________________\n",
      "flatten_39 (Flatten)            (None, 3)            0           embedding_39[0][0]               \n",
      "__________________________________________________________________________________________________\n",
      "flatten_40 (Flatten)            (None, 26)           0           embedding_40[0][0]               \n",
      "__________________________________________________________________________________________________\n",
      "flatten_41 (Flatten)            (None, 50)           0           embedding_41[0][0]               \n",
      "__________________________________________________________________________________________________\n",
      "flatten_42 (Flatten)            (None, 2)            0           embedding_42[0][0]               \n",
      "__________________________________________________________________________________________________\n",
      "dense_25 (Dense)                (None, 128)          384         numerical_features[0][0]         \n",
      "__________________________________________________________________________________________________\n",
      "concatenate_26 (Concatenate)    (None, 30235)        0           flatten_58[0][0]                 \n",
      "                                                                 flatten_38[0][0]                 \n",
      "                                                                 flatten_39[0][0]                 \n",
      "                                                                 flatten_40[0][0]                 \n",
      "                                                                 flatten_41[0][0]                 \n",
      "                                                                 flatten_42[0][0]                 \n",
      "                                                                 dense_25[0][0]                   \n",
      "__________________________________________________________________________________________________\n",
      "dense_101 (Dense)               (None, 100)          3023600     concatenate_26[0][0]             \n",
      "__________________________________________________________________________________________________\n",
      "dropout_63 (Dropout)            (None, 100)          0           dense_101[0][0]                  \n",
      "__________________________________________________________________________________________________\n",
      "dense_102 (Dense)               (None, 200)          20200       dropout_63[0][0]                 \n",
      "__________________________________________________________________________________________________\n",
      "batch_normalization_32 (BatchNo (None, 200)          800         dense_102[0][0]                  \n",
      "__________________________________________________________________________________________________\n",
      "dropout_64 (Dropout)            (None, 200)          0           batch_normalization_32[0][0]     \n",
      "__________________________________________________________________________________________________\n",
      "dense_103 (Dense)               (None, 80)           16080       dropout_64[0][0]                 \n",
      "__________________________________________________________________________________________________\n",
      "output (Dense)                  (None, 2)            162         dense_103[0][0]                  \n",
      "==================================================================================================\n",
      "Total params: 10,725,201\n",
      "Trainable params: 10,724,801\n",
      "Non-trainable params: 400\n",
      "__________________________________________________________________________________________________\n",
      "None\n"
     ]
    }
   ],
   "source": [
    "model = Dense(100, activation=\"relu\", kernel_initializer=\"he_normal\" ,kernel_regularizer=regularizers.l2(0.001))(X_concat)\n",
    "\n",
    "model = Dropout(0.5)(model)\n",
    "\n",
    "model = Dense(200,activation=\"relu\",kernel_initializer=\"glorot_normal\" ,kernel_regularizer=regularizers.l2(0.001))(model)\n",
    "\n",
    "model = BatchNormalization()(model)\n",
    "\n",
    "model = Dropout(0.5)(model)\n",
    "\n",
    "model = Dense(80,activation=\"relu\", kernel_initializer=\"glorot_normal\" ,kernel_regularizer=regularizers.l2(0.001))(model)\n",
    "\n",
    "\n",
    "output = Dense(2, activation='softmax', name='output')(model)\n",
    "\n",
    "model_2 = Model(inputs=[essay1, school_state ,teacher_prefix,clean_categories,\n",
    "                       clean_subcategories ,project_grade_category ,numeric_features ],outputs=[output])\n",
    "\n",
    "\n",
    "\n",
    "print(model_2.summary())"
   ]
  },
  {
   "cell_type": "code",
   "execution_count": 0,
   "metadata": {
    "colab": {},
    "colab_type": "code",
    "id": "gi4M9xxpN0ob"
   },
   "outputs": [],
   "source": [
    "train_all = [X_train_pad1,X_train_school_state,X_train_teacher_prefix,X_train_clean_categories,X_train_clean_subcategories,X_train_project_grade_category,X_train_numeric_features]\n",
    "test_all = [X_test_pad1,X_test_school_state,X_test_teacher_prefix,X_test_clean_categories,X_test_clean_subcategories,X_test_project_grade_category,X_test_numeric_features]"
   ]
  },
  {
   "cell_type": "code",
   "execution_count": 0,
   "metadata": {
    "colab": {},
    "colab_type": "code",
    "id": "DoaRLSaQOOBd"
   },
   "outputs": [],
   "source": [
    "checkpoint2 = ModelCheckpoint(\"model_2.h5\",\n",
    "                             monitor=\"val_auroc\",\n",
    "                             mode=\"max\",\n",
    "                             save_best_only = True,\n",
    "                             verbose=1)\n",
    "earlystop2 = EarlyStopping(monitor = 'val_auroc', \n",
    "                            mode=\"max\",\n",
    "                            min_delta = 0, \n",
    "                            patience = 2,\n",
    "                            verbose = 1)\n",
    "\n",
    "tensorboard2 = TensorBoard(log_dir='Model2_visualization')\n",
    "\n",
    "callbacks_2 = [checkpoint2,earlystop2,tensorboard2]"
   ]
  },
  {
   "cell_type": "code",
   "execution_count": 0,
   "metadata": {
    "colab": {
     "base_uri": "https://localhost:8080/",
     "height": 437
    },
    "colab_type": "code",
    "id": "OrbL9Q-MOhK-",
    "outputId": "fee44d93-08d8-4860-b10d-da36b733908b"
   },
   "outputs": [
    {
     "name": "stdout",
     "output_type": "stream",
     "text": [
      "Train on 81936 samples, validate on 27312 samples\n",
      "Epoch 1/10\n",
      "81936/81936 [==============================] - 142s 2ms/step - loss: 0.9667 - auroc: 0.5571 - val_loss: 0.7543 - val_auroc: 0.6760\n",
      "\n",
      "Epoch 00001: val_auroc improved from -inf to 0.67600, saving model to model_2.h5\n",
      "Epoch 2/10\n",
      "81936/81936 [==============================] - 139s 2ms/step - loss: 0.6331 - auroc: 0.6721 - val_loss: 0.7184 - val_auroc: 0.7364\n",
      "\n",
      "Epoch 00002: val_auroc improved from 0.67600 to 0.73635, saving model to model_2.h5\n",
      "Epoch 3/10\n",
      "81936/81936 [==============================] - 139s 2ms/step - loss: 0.5244 - auroc: 0.7354 - val_loss: 0.6602 - val_auroc: 0.7518\n",
      "\n",
      "Epoch 00003: val_auroc improved from 0.73635 to 0.75177, saving model to model_2.h5\n",
      "Epoch 4/10\n",
      "81936/81936 [==============================] - 139s 2ms/step - loss: 0.4771 - auroc: 0.7695 - val_loss: 0.5371 - val_auroc: 0.7475\n",
      "\n",
      "Epoch 00004: val_auroc did not improve from 0.75177\n",
      "Epoch 5/10\n",
      "81936/81936 [==============================] - 140s 2ms/step - loss: 0.4358 - auroc: 0.7994 - val_loss: 0.5795 - val_auroc: 0.7418\n",
      "\n",
      "Epoch 00005: val_auroc did not improve from 0.75177\n",
      "Epoch 00005: early stopping\n"
     ]
    }
   ],
   "source": [
    "model_2.compile(optimizer='adam', loss='categorical_crossentropy', metrics=[auroc])\n",
    "history2 = model_2.fit(train_all, y_train, batch_size=512, epochs=10, verbose=1,callbacks=callbacks_2, validation_data=(test_all, y_test))"
   ]
  },
  {
   "cell_type": "markdown",
   "metadata": {},
   "source": [
    "## MODEL 2.1"
   ]
  },
  {
   "cell_type": "code",
   "execution_count": 0,
   "metadata": {
    "colab": {
     "base_uri": "https://localhost:8080/",
     "height": 1000
    },
    "colab_type": "code",
    "id": "faosfT9tOxZJ",
    "outputId": "88f82e37-1638-4452-82d1-24a9185f47b6"
   },
   "outputs": [
    {
     "name": "stdout",
     "output_type": "stream",
     "text": [
      "Model: \"model_18\"\n",
      "__________________________________________________________________________________________________\n",
      "Layer (type)                    Output Shape         Param #     Connected to                     \n",
      "==================================================================================================\n",
      "essay_input (InputLayer)        (None, 300)          0                                            \n",
      "__________________________________________________________________________________________________\n",
      "embedding_49 (Embedding)        (None, 300, 300)     7482300     essay_input[0][0]                \n",
      "__________________________________________________________________________________________________\n",
      "school_state (InputLayer)       (None, 1)            0                                            \n",
      "__________________________________________________________________________________________________\n",
      "teacher_prefix (InputLayer)     (None, 1)            0                                            \n",
      "__________________________________________________________________________________________________\n",
      "clean_categories (InputLayer)   (None, 1)            0                                            \n",
      "__________________________________________________________________________________________________\n",
      "clean_subcategories (InputLayer (None, 1)            0                                            \n",
      "__________________________________________________________________________________________________\n",
      "project_grade_category (InputLa (None, 1)            0                                            \n",
      "__________________________________________________________________________________________________\n",
      "lstm_12 (LSTM)                  (None, 300, 100)     160400      embedding_49[0][0]               \n",
      "__________________________________________________________________________________________________\n",
      "embedding_38 (Embedding)        (None, 1, 26)        1326        school_state[0][0]               \n",
      "__________________________________________________________________________________________________\n",
      "embedding_39 (Embedding)        (None, 1, 3)         15          teacher_prefix[0][0]             \n",
      "__________________________________________________________________________________________________\n",
      "embedding_40 (Embedding)        (None, 1, 26)        1326        clean_categories[0][0]           \n",
      "__________________________________________________________________________________________________\n",
      "embedding_41 (Embedding)        (None, 1, 50)        19800       clean_subcategories[0][0]        \n",
      "__________________________________________________________________________________________________\n",
      "embedding_42 (Embedding)        (None, 1, 2)         8           project_grade_category[0][0]     \n",
      "__________________________________________________________________________________________________\n",
      "numerical_features (InputLayer) (None, 2)            0                                            \n",
      "__________________________________________________________________________________________________\n",
      "flatten_49 (Flatten)            (None, 30000)        0           lstm_12[0][0]                    \n",
      "__________________________________________________________________________________________________\n",
      "flatten_38 (Flatten)            (None, 26)           0           embedding_38[0][0]               \n",
      "__________________________________________________________________________________________________\n",
      "flatten_39 (Flatten)            (None, 3)            0           embedding_39[0][0]               \n",
      "__________________________________________________________________________________________________\n",
      "flatten_40 (Flatten)            (None, 26)           0           embedding_40[0][0]               \n",
      "__________________________________________________________________________________________________\n",
      "flatten_41 (Flatten)            (None, 50)           0           embedding_41[0][0]               \n",
      "__________________________________________________________________________________________________\n",
      "flatten_42 (Flatten)            (None, 2)            0           embedding_42[0][0]               \n",
      "__________________________________________________________________________________________________\n",
      "dense_25 (Dense)                (None, 128)          384         numerical_features[0][0]         \n",
      "__________________________________________________________________________________________________\n",
      "concatenate_14 (Concatenate)    (None, 30235)        0           flatten_49[0][0]                 \n",
      "                                                                 flatten_38[0][0]                 \n",
      "                                                                 flatten_39[0][0]                 \n",
      "                                                                 flatten_40[0][0]                 \n",
      "                                                                 flatten_41[0][0]                 \n",
      "                                                                 flatten_42[0][0]                 \n",
      "                                                                 dense_25[0][0]                   \n",
      "__________________________________________________________________________________________________\n",
      "dense_59 (Dense)                (None, 50)           1511800     concatenate_14[0][0]             \n",
      "__________________________________________________________________________________________________\n",
      "dropout_35 (Dropout)            (None, 50)           0           dense_59[0][0]                   \n",
      "__________________________________________________________________________________________________\n",
      "dense_60 (Dense)                (None, 200)          10200       dropout_35[0][0]                 \n",
      "__________________________________________________________________________________________________\n",
      "batch_normalization_18 (BatchNo (None, 200)          800         dense_60[0][0]                   \n",
      "__________________________________________________________________________________________________\n",
      "dropout_36 (Dropout)            (None, 200)          0           batch_normalization_18[0][0]     \n",
      "__________________________________________________________________________________________________\n",
      "dense_61 (Dense)                (None, 80)           16080       dropout_36[0][0]                 \n",
      "__________________________________________________________________________________________________\n",
      "output (Dense)                  (None, 2)            162         dense_61[0][0]                   \n",
      "==================================================================================================\n",
      "Total params: 9,204,601\n",
      "Trainable params: 9,204,201\n",
      "Non-trainable params: 400\n",
      "__________________________________________________________________________________________________\n",
      "None\n"
     ]
    }
   ],
   "source": [
    "essay1 = Input(shape=(300,), name='essay_input')\n",
    "\n",
    "X = Embedding(output_dim=300, input_dim=max_vocabulary+1, input_length=300 , weights=[embedding_matrix])(essay1)\n",
    "lstm_essay = LSTM(100,recurrent_dropout=0.5,kernel_regularizer=regularizers.l2(0.001),return_sequences=True)(X)\n",
    "flatten_new = Flatten()(lstm_essay)\n",
    "\n",
    "X_concat = concatenate([flatten_new , flatten_2 , flatten_3 ,flatten_4 , flatten_5 , flatten_6 , numeric_dense])\n",
    "\n",
    "\n",
    "\n",
    "\n",
    "\n",
    "\n",
    "\n",
    "model = Dense(50, activation=\"relu\", kernel_initializer=\"he_normal\" ,kernel_regularizer=regularizers.l2(0.001))(X_concat)\n",
    "\n",
    "model = Dropout(0.25)(model)\n",
    "\n",
    "model = Dense(200,activation=\"relu\",kernel_initializer=\"glorot_normal\" ,kernel_regularizer=regularizers.l2(0.001))(model)\n",
    "\n",
    "model = BatchNormalization()(model)\n",
    "\n",
    "model = Dropout(0.5)(model)\n",
    "\n",
    "model = Dense(80,activation=\"sigmoid\", kernel_initializer=\"glorot_normal\" ,kernel_regularizer=regularizers.l2(0.001))(model)\n",
    "\n",
    "\n",
    "output = Dense(2, activation='softmax', name='output')(model)\n",
    "\n",
    "model2_1 = Model(inputs=[essay1, school_state ,teacher_prefix,clean_categories,\n",
    "                       clean_subcategories ,project_grade_category ,numeric_features ],outputs=[output])\n",
    "\n",
    "\n",
    "\n",
    "print(model2_1.summary())"
   ]
  },
  {
   "cell_type": "code",
   "execution_count": 0,
   "metadata": {
    "colab": {},
    "colab_type": "code",
    "id": "tl1hBqGlbSru"
   },
   "outputs": [],
   "source": [
    "checkpoint2_1 = ModelCheckpoint(\"model_2.1.h5\",\n",
    "                             monitor=\"val_auroc\",\n",
    "                             mode=\"max\",\n",
    "                             save_best_only = True,\n",
    "                             verbose=1)\n",
    "earlystop2_1 = EarlyStopping(monitor = 'val_auroc', \n",
    "                            mode=\"max\",\n",
    "                            min_delta = 0, \n",
    "                            patience = 2,\n",
    "                            verbose = 1)\n",
    "\n",
    "tensorboard2_1 = TensorBoard(log_dir='Model2.1_visualization')\n",
    "\n",
    "callbacks_2_1 = [checkpoint2_1,earlystop2_1,tensorboard2_1]"
   ]
  },
  {
   "cell_type": "code",
   "execution_count": 0,
   "metadata": {
    "colab": {},
    "colab_type": "code",
    "id": "7OquyOcJeVYD"
   },
   "outputs": [],
   "source": [
    "train_all = [X_train_pad1,X_train_school_state,X_train_teacher_prefix,X_train_clean_categories,X_train_clean_subcategories,X_train_project_grade_category,X_train_numeric_features]\n",
    "test_all = [X_test_pad1,X_test_school_state,X_test_teacher_prefix,X_test_clean_categories,X_test_clean_subcategories,X_test_project_grade_category,X_test_numeric_features]"
   ]
  },
  {
   "cell_type": "code",
   "execution_count": 0,
   "metadata": {
    "colab": {
     "base_uri": "https://localhost:8080/",
     "height": 582
    },
    "colab_type": "code",
    "id": "ZeJjNye9dut1",
    "outputId": "f9924779-c0d8-4f34-cd25-a2578ef95444"
   },
   "outputs": [
    {
     "name": "stdout",
     "output_type": "stream",
     "text": [
      "Train on 81936 samples, validate on 27312 samples\n",
      "Epoch 1/10\n",
      "81936/81936 [==============================] - 111s 1ms/step - loss: 1.0984 - auroc: 0.5226 - val_loss: 0.6734 - val_auroc: 0.6720\n",
      "\n",
      "Epoch 00001: val_auroc improved from -inf to 0.67200, saving model to model_2.1.h5\n",
      "Epoch 2/10\n",
      "81936/81936 [==============================] - 108s 1ms/step - loss: 0.5848 - auroc: 0.6899 - val_loss: 0.5325 - val_auroc: 0.7238\n",
      "\n",
      "Epoch 00002: val_auroc improved from 0.67200 to 0.72379, saving model to model_2.1.h5\n",
      "Epoch 3/10\n",
      "81936/81936 [==============================] - 109s 1ms/step - loss: 0.4870 - auroc: 0.7441 - val_loss: 0.4756 - val_auroc: 0.7397\n",
      "\n",
      "Epoch 00003: val_auroc improved from 0.72379 to 0.73974, saving model to model_2.1.h5\n",
      "Epoch 4/10\n",
      "81936/81936 [==============================] - 109s 1ms/step - loss: 0.4374 - auroc: 0.7716 - val_loss: 0.4490 - val_auroc: 0.7459\n",
      "\n",
      "Epoch 00004: val_auroc improved from 0.73974 to 0.74590, saving model to model_2.1.h5\n",
      "Epoch 5/10\n",
      "81936/81936 [==============================] - 109s 1ms/step - loss: 0.4060 - auroc: 0.7922 - val_loss: 0.4381 - val_auroc: 0.7461\n",
      "\n",
      "Epoch 00005: val_auroc improved from 0.74590 to 0.74612, saving model to model_2.1.h5\n",
      "Epoch 6/10\n",
      "81936/81936 [==============================] - 109s 1ms/step - loss: 0.3794 - auroc: 0.8164 - val_loss: 0.4361 - val_auroc: 0.7429\n",
      "\n",
      "Epoch 00006: val_auroc did not improve from 0.74612\n",
      "Epoch 7/10\n",
      "81936/81936 [==============================] - 109s 1ms/step - loss: 0.3561 - auroc: 0.8369 - val_loss: 0.4427 - val_auroc: 0.7293\n",
      "\n",
      "Epoch 00007: val_auroc did not improve from 0.74612\n",
      "Epoch 00007: early stopping\n"
     ]
    }
   ],
   "source": [
    "model2_1.compile(optimizer=optimizers.Adam(0.0005, decay=1e-6), loss='binary_crossentropy', metrics=[auroc])\n",
    "history2_1= model2_1.fit(train_all, y_train, batch_size=850, epochs=10, verbose=1,callbacks=callbacks_2_1, validation_data=(test_all, y_test))"
   ]
  },
  {
   "cell_type": "code",
   "execution_count": 0,
   "metadata": {
    "colab": {
     "base_uri": "https://localhost:8080/",
     "height": 283
    },
    "colab_type": "code",
    "id": "cOc6VmEQhmJX",
    "outputId": "be718de8-a429-4b95-cd46-8b8c0104d597"
   },
   "outputs": [
    {
     "data": {
      "image/png": "[encoded data removed]",
      "text/plain": [
       "<Figure size 432x288 with 1 Axes>"
      ]
     },
     "metadata": {
      "tags": []
     },
     "output_type": "display_data"
    }
   ],
   "source": [
    "%matplotlib inline\n",
    "fig,ax = plt.subplots(1,1)\n",
    "ax.set_xlabel('epoch') ; ax.set_ylabel('Binary Crossentropy Loss')\n",
    "x = list(range(1,8))\n",
    "vy = history2_1.history['val_loss']\n",
    "ty = history2_1.history['loss']\n",
    "plt_dynamic(x, vy, ty, ax)"
   ]
  },
  {
   "cell_type": "markdown",
   "metadata": {},
   "source": [
    "## MODEL 3:"
   ]
  },
  {
   "cell_type": "code",
   "execution_count": 0,
   "metadata": {
    "colab": {
     "base_uri": "https://localhost:8080/",
     "height": 53
    },
    "colab_type": "code",
    "id": "nOZwhurrUDA0",
    "outputId": "96ff0811-4943-45b0-bea7-bc328cc39254"
   },
   "outputs": [
    {
     "name": "stdout",
     "output_type": "stream",
     "text": [
      "(81936, 51) (81936, 2)\n",
      "(27312, 51) (27312, 2)\n"
     ]
    }
   ],
   "source": [
    "vectorizer = CountVectorizer()\n",
    "vectorizer.fit(X_train['school_state'].values)\n",
    "x_train_state_one_hot = vectorizer.transform(X_train['school_state'].values)\n",
    "x_test_state_one_hot = vectorizer.transform(X_test['school_state'].values)\n",
    "\n",
    "\n",
    "\n",
    "print(x_train_state_one_hot.shape, y_train.shape)\n",
    "print(x_test_state_one_hot.shape, y_test.shape)"
   ]
  },
  {
   "cell_type": "code",
   "execution_count": 0,
   "metadata": {
    "colab": {
     "base_uri": "https://localhost:8080/",
     "height": 92
    },
    "colab_type": "code",
    "id": "K1mSodSDcV_3",
    "outputId": "47695932-ddb8-4eb0-f18d-6705ef507d71"
   },
   "outputs": [
    {
     "name": "stdout",
     "output_type": "stream",
     "text": [
      "['appliedlearning', 'care_hunger', 'health_sports', 'history_civics', 'literacy_language', 'math_science', 'music_arts', 'specialneeds', 'warmth']\n",
      "(81936, 9) (81936, 2)\n",
      "(27312, 9) (27312, 2)\n"
     ]
    }
   ],
   "source": [
    "vectorizer = CountVectorizer()\n",
    "vectorizer.fit(X_train['clean_categories'].values)\n",
    "\n",
    "x_train_categories_one_hot = vectorizer.transform(X_train['clean_categories'].values)\n",
    "x_test_categories_one_hot = vectorizer.transform(X_test['clean_categories'].values)\n",
    "\n",
    "\n",
    "\n",
    "print(vectorizer.get_feature_names())\n",
    "\n",
    "\n",
    "print(x_train_categories_one_hot.shape, y_train.shape)\n",
    "print(x_test_categories_one_hot.shape, y_test.shape)"
   ]
  },
  {
   "cell_type": "code",
   "execution_count": 0,
   "metadata": {
    "colab": {
     "base_uri": "https://localhost:8080/",
     "height": 92
    },
    "colab_type": "code",
    "id": "P6-4KdPGTmVB",
    "outputId": "dfbfe7f8-50c8-46b7-a06b-3429bd2ed2aa"
   },
   "outputs": [
    {
     "name": "stdout",
     "output_type": "stream",
     "text": [
      "['appliedsciences', 'care_hunger', 'charactereducation', 'civics_government', 'college_careerprep', 'communityservice', 'earlydevelopment', 'economics', 'environmentalscience', 'esl', 'extracurricular', 'financialliteracy', 'foreignlanguages', 'gym_fitness', 'health_lifescience', 'health_wellness', 'history_geography', 'literacy', 'literature_writing', 'mathematics', 'music', 'nutritioneducation', 'other', 'parentinvolvement', 'performingarts', 'socialsciences', 'specialneeds', 'teamsports', 'visualarts', 'warmth']\n",
      "(81936, 30) (81936, 2)\n",
      "(27312, 30) (27312, 2)\n"
     ]
    }
   ],
   "source": [
    "vectorizer = CountVectorizer()\n",
    "vectorizer.fit(X_train['clean_subcategories'].values)\n",
    "\n",
    "x_train_subcategories_one_hot = vectorizer.transform(X_train['clean_subcategories'].values)\n",
    "x_test_subcategories_one_hot = vectorizer.transform(X_test['clean_subcategories'].values)\n",
    "print(vectorizer.get_feature_names())\n",
    "\n",
    "print(x_train_subcategories_one_hot.shape, y_train.shape)\n",
    "print(x_test_subcategories_one_hot.shape, y_test.shape)"
   ]
  },
  {
   "cell_type": "code",
   "execution_count": 0,
   "metadata": {
    "colab": {
     "base_uri": "https://localhost:8080/",
     "height": 53
    },
    "colab_type": "code",
    "id": "2511wmloT9FE",
    "outputId": "e0931270-6f3b-4e02-bdb9-e8409dd7c8be"
   },
   "outputs": [
    {
     "name": "stdout",
     "output_type": "stream",
     "text": [
      "(81936, 5) (81936, 2)\n",
      "(27312, 5) (27312, 2)\n"
     ]
    }
   ],
   "source": [
    "vectorizer = CountVectorizer()\n",
    "vectorizer.fit(X_train['teacher_prefix'].values)\n",
    "x_train_teacher_prefix_one_hot = vectorizer.transform(X_train['teacher_prefix'].values)\n",
    "x_test_teacher_prefix_one_hot = vectorizer.transform(X_test['teacher_prefix'].values)\n",
    "\n",
    "print(x_train_teacher_prefix_one_hot.shape, y_train.shape)\n",
    "print(x_test_teacher_prefix_one_hot.shape, y_test.shape)"
   ]
  },
  {
   "cell_type": "code",
   "execution_count": 0,
   "metadata": {
    "colab": {
     "base_uri": "https://localhost:8080/",
     "height": 72
    },
    "colab_type": "code",
    "id": "j0DBH751ZkCI",
    "outputId": "8c6d59fd-f36a-471a-c320-22244a39b3a5"
   },
   "outputs": [
    {
     "name": "stdout",
     "output_type": "stream",
     "text": [
      "['grades_3_5', 'grades_6_8', 'grades_9_12', 'grades_prek_2']\n",
      "(81936, 4) (81936, 2)\n",
      "(27312, 4) (27312, 2)\n"
     ]
    }
   ],
   "source": [
    "vectorizer = CountVectorizer()\n",
    "vectorizer.fit(X_train['project_grade_category'].values)\n",
    "x_train_project_grade_one_hot = vectorizer.transform(X_train['project_grade_category'].values)\n",
    "x_test_project_grade_one_hot = vectorizer.transform(X_test['project_grade_category'].values)\n",
    "print(vectorizer.get_feature_names())\n",
    "\n",
    "print(x_train_project_grade_one_hot.shape, y_train.shape)\n",
    "print(x_test_project_grade_one_hot.shape, y_test.shape)"
   ]
  },
  {
   "cell_type": "code",
   "execution_count": 0,
   "metadata": {
    "colab": {},
    "colab_type": "code",
    "id": "0awcWkYVZyg-"
   },
   "outputs": [],
   "source": [
    "train_features_withouttext= hstack((x_train_project_grade_one_hot,x_train_teacher_prefix_one_hot,x_train_categories_one_hot,x_train_subcategories_one_hot,x_train_state_one_hot,X_train_price,X_train_num_projects)).todense()\n",
    "test_features_withouttext = hstack((x_test_project_grade_one_hot,x_test_teacher_prefix_one_hot,x_test_categories_one_hot,x_test_subcategories_one_hot,x_test_state_one_hot,X_test_price,X_test_num_projects)).todense()"
   ]
  },
  {
   "cell_type": "code",
   "execution_count": 0,
   "metadata": {
    "colab": {},
    "colab_type": "code",
    "id": "LrHHu4J1bMnC"
   },
   "outputs": [],
   "source": [
    "rest_features_train = np.expand_dims(train_features_withouttext,2)\n",
    "rest_features_test = np.expand_dims(test_features_withouttext,2)"
   ]
  },
  {
   "cell_type": "code",
   "execution_count": 0,
   "metadata": {
    "colab": {
     "base_uri": "https://localhost:8080/",
     "height": 53
    },
    "colab_type": "code",
    "id": "yA2WYaVybc2O",
    "outputId": "bdf42cad-14df-4737-8c74-3c6483bab160"
   },
   "outputs": [
    {
     "name": "stdout",
     "output_type": "stream",
     "text": [
      "Final Train data shape (81936, 101, 1)\n",
      "Final Test data shape (27312, 101, 1)\n"
     ]
    }
   ],
   "source": [
    "print(\"Final Train data shape\",rest_features_train.shape)\n",
    "print(\"Final Test data shape\",rest_features_test.shape)"
   ]
  },
  {
   "cell_type": "code",
   "execution_count": 0,
   "metadata": {
    "colab": {
     "base_uri": "https://localhost:8080/",
     "height": 836
    },
    "colab_type": "code",
    "id": "UeEMJGH9bgGJ",
    "outputId": "ffec1938-d7a6-455a-fc04-b7655c9f2c3d"
   },
   "outputs": [
    {
     "name": "stdout",
     "output_type": "stream",
     "text": [
      "WARNING:tensorflow:From /usr/local/lib/python3.6/dist-packages/keras/backend/tensorflow_backend.py:4479: The name tf.truncated_normal is deprecated. Please use tf.random.truncated_normal instead.\n",
      "\n",
      "Model: \"model_1\"\n",
      "__________________________________________________________________________________________________\n",
      "Layer (type)                    Output Shape         Param #     Connected to                     \n",
      "==================================================================================================\n",
      "essay_input (InputLayer)        (None, 300)          0                                            \n",
      "__________________________________________________________________________________________________\n",
      "without_text (InputLayer)       (None, 101, 1)       0                                            \n",
      "__________________________________________________________________________________________________\n",
      "embedding_3 (Embedding)         (None, 300, 300)     15075000    essay_input[0][0]                \n",
      "__________________________________________________________________________________________________\n",
      "conv1d_1 (Conv1D)               (None, 99, 300)      1200        without_text[0][0]               \n",
      "__________________________________________________________________________________________________\n",
      "lstm_2 (LSTM)                   (None, 300, 100)     160400      embedding_3[0][0]                \n",
      "__________________________________________________________________________________________________\n",
      "conv1d_2 (Conv1D)               (None, 97, 150)      135150      conv1d_1[0][0]                   \n",
      "__________________________________________________________________________________________________\n",
      "flatten_2 (Flatten)             (None, 30000)        0           lstm_2[0][0]                     \n",
      "__________________________________________________________________________________________________\n",
      "flatten_3 (Flatten)             (None, 14550)        0           conv1d_2[0][0]                   \n",
      "__________________________________________________________________________________________________\n",
      "concatenate_1 (Concatenate)     (None, 44550)        0           flatten_2[0][0]                  \n",
      "                                                                 flatten_3[0][0]                  \n",
      "__________________________________________________________________________________________________\n",
      "dense_1 (Dense)                 (None, 120)          5346120     concatenate_1[0][0]              \n",
      "__________________________________________________________________________________________________\n",
      "dropout_1 (Dropout)             (None, 120)          0           dense_1[0][0]                    \n",
      "__________________________________________________________________________________________________\n",
      "dense_2 (Dense)                 (None, 200)          24200       dropout_1[0][0]                  \n",
      "__________________________________________________________________________________________________\n",
      "batch_normalization_1 (BatchNor (None, 200)          800         dense_2[0][0]                    \n",
      "__________________________________________________________________________________________________\n",
      "dropout_2 (Dropout)             (None, 200)          0           batch_normalization_1[0][0]      \n",
      "__________________________________________________________________________________________________\n",
      "dense_3 (Dense)                 (None, 70)           14070       dropout_2[0][0]                  \n",
      "__________________________________________________________________________________________________\n",
      "output (Dense)                  (None, 2)            142         dense_3[0][0]                    \n",
      "==================================================================================================\n",
      "Total params: 20,757,082\n",
      "Trainable params: 20,756,682\n",
      "Non-trainable params: 400\n",
      "__________________________________________________________________________________________________\n",
      "None\n"
     ]
    }
   ],
   "source": [
    "from keras.layers import Conv1D\n",
    "from keras.initializers import he_normal\n",
    "\n",
    "\n",
    "\n",
    "essay = Input(shape=(300,), name='essay_input')\n",
    "\n",
    "X = Embedding(output_dim=300, input_dim=max_vocabulary+1, input_length=300 , weights=[embedding_matrix])(essay)\n",
    "lstm_essay = LSTM(100,recurrent_dropout=0.5,kernel_regularizer=regularizers.l2(0.001),return_sequences=True)(X)\n",
    "flatten_1 = Flatten()(lstm_essay)\n",
    "\n",
    "\n",
    "\n",
    "\n",
    "\n",
    "input_without_text  = Input(shape=(101,1), name='without_text')\n",
    "\n",
    "convo = Conv1D(300 , 3 , activation='relu' ,  kernel_initializer=he_normal(seed=None) , padding='valid')(input_without_text)\n",
    "\n",
    "convo = Conv1D(150 , 3 , activation='relu' ,  kernel_initializer=he_normal(seed=None) , padding='valid')(convo)\n",
    "\n",
    "flatten_without_text = Flatten()(convo)\n",
    "\n",
    "\n",
    "\n",
    "x_concat = concatenate([flatten_1  , flatten_without_text])\n",
    "\n",
    "x = Dense(120, activation=\"relu\", kernel_initializer=\"he_normal\" ,kernel_regularizer=regularizers.l2(0.001))(x_concat)\n",
    "\n",
    "x=Dropout(0.5)(x)\n",
    "\n",
    "x = Dense(200,activation=\"sigmoid\",kernel_initializer=\"glorot_normal\" ,kernel_regularizer=regularizers.l2(0.001))(x)\n",
    "\n",
    "x = BatchNormalization()(x)\n",
    "\n",
    "x=Dropout(0.5)(x)\n",
    "\n",
    "x = Dense(70,activation=\"relu\", kernel_initializer=\"he_normal\" ,kernel_regularizer=regularizers.l2(0.001))(x)\n",
    "\n",
    "\n",
    "\n",
    "output = Dense(2, activation='softmax', name='output')(x)\n",
    "\n",
    "model_3_1 = Model(inputs=[essay, input_without_text],outputs=[output])\n",
    "\n",
    "\n",
    "\n",
    "print(model_3_1.summary())"
   ]
  },
  {
   "cell_type": "code",
   "execution_count": 0,
   "metadata": {
    "colab": {},
    "colab_type": "code",
    "id": "Wm-sPuyXcW97"
   },
   "outputs": [],
   "source": [
    "checkpoint3_1 = ModelCheckpoint(\"model_3_1.h5\",\n",
    "                             monitor=\"val_auroc\",\n",
    "                             mode=\"max\",\n",
    "                             save_best_only = True,\n",
    "                             verbose=1)\n",
    "earlystop3_1 = EarlyStopping(monitor = 'val_auroc', \n",
    "                            mode=\"max\",\n",
    "                            min_delta = 0, \n",
    "                            patience = 2,\n",
    "                            verbose = 1)\n",
    "\n",
    "tensorboard3_1 = TensorBoard(log_dir='Model3_1_visualization')\n",
    "\n",
    "callbacks_3_1 = [checkpoint3_1,earlystop3_1,tensorboard3_1]"
   ]
  },
  {
   "cell_type": "code",
   "execution_count": 0,
   "metadata": {
    "colab": {},
    "colab_type": "code",
    "id": "RB5I3Agjeq0q"
   },
   "outputs": [],
   "source": [
    "train_3_1 = [X_train_pad,rest_features_train]\n",
    "test_3_1 = [X_test_pad,rest_features_test]"
   ]
  },
  {
   "cell_type": "code",
   "execution_count": 0,
   "metadata": {
    "colab": {
     "base_uri": "https://localhost:8080/",
     "height": 1000
    },
    "colab_type": "code",
    "id": "vOI1CVF9eLhx",
    "outputId": "27e30c05-917a-4959-b949-b0071d40aa70"
   },
   "outputs": [
    {
     "name": "stdout",
     "output_type": "stream",
     "text": [
      "WARNING:tensorflow:From /usr/local/lib/python3.6/dist-packages/keras/optimizers.py:793: The name tf.train.Optimizer is deprecated. Please use tf.compat.v1.train.Optimizer instead.\n",
      "\n",
      "WARNING:tensorflow:From /usr/local/lib/python3.6/dist-packages/keras/backend/tensorflow_backend.py:3576: The name tf.log is deprecated. Please use tf.math.log instead.\n",
      "\n",
      "WARNING:tensorflow:From <ipython-input-31-5611ee7c481f>:8: py_func (from tensorflow.python.ops.script_ops) is deprecated and will be removed in a future version.\n",
      "Instructions for updating:\n",
      "tf.py_func is deprecated in TF V2. Instead, there are two\n",
      "    options available in V2.\n",
      "    - tf.py_function takes a python function which manipulates tf eager\n",
      "    tensors instead of numpy arrays. It's easy to convert a tf eager tensor to\n",
      "    an ndarray (just call tensor.numpy()) but having access to eager tensors\n",
      "    means `tf.py_function`s can use accelerators such as GPUs as well as\n",
      "    being differentiable using a gradient tape.\n",
      "    - tf.numpy_function maintains the semantics of the deprecated tf.py_func\n",
      "    (it is not differentiable, and manipulates numpy arrays). It drops the\n",
      "    stateful argument making all functions stateful.\n",
      "    \n",
      "WARNING:tensorflow:From /usr/local/lib/python3.6/dist-packages/tensorflow_core/python/ops/math_grad.py:1424: where (from tensorflow.python.ops.array_ops) is deprecated and will be removed in a future version.\n",
      "Instructions for updating:\n",
      "Use tf.where in 2.0, which has the same broadcast rule as np.where\n",
      "WARNING:tensorflow:From /usr/local/lib/python3.6/dist-packages/keras/backend/tensorflow_backend.py:1033: The name tf.assign_add is deprecated. Please use tf.compat.v1.assign_add instead.\n",
      "\n",
      "WARNING:tensorflow:From /usr/local/lib/python3.6/dist-packages/keras/backend/tensorflow_backend.py:1020: The name tf.assign is deprecated. Please use tf.compat.v1.assign instead.\n",
      "\n",
      "Train on 81936 samples, validate on 27312 samples\n",
      "WARNING:tensorflow:From /usr/local/lib/python3.6/dist-packages/keras/callbacks.py:1122: The name tf.summary.merge_all is deprecated. Please use tf.compat.v1.summary.merge_all instead.\n",
      "\n",
      "WARNING:tensorflow:From /usr/local/lib/python3.6/dist-packages/keras/callbacks.py:1125: The name tf.summary.FileWriter is deprecated. Please use tf.compat.v1.summary.FileWriter instead.\n",
      "\n",
      "Epoch 1/25\n",
      "81936/81936 [==============================] - 127s 2ms/step - loss: 1.0239 - auroc: 0.5405 - val_loss: 0.8725 - val_auroc: 0.7022\n",
      "\n",
      "Epoch 00001: val_auroc improved from -inf to 0.70222, saving model to model_3_1.h5\n",
      "WARNING:tensorflow:From /usr/local/lib/python3.6/dist-packages/keras/callbacks.py:1265: The name tf.Summary is deprecated. Please use tf.compat.v1.Summary instead.\n",
      "\n",
      "Epoch 2/25\n",
      "81936/81936 [==============================] - 120s 1ms/step - loss: 0.6481 - auroc: 0.6904 - val_loss: 0.6332 - val_auroc: 0.7416\n",
      "\n",
      "Epoch 00002: val_auroc improved from 0.70222 to 0.74160, saving model to model_3_1.h5\n",
      "Epoch 3/25\n",
      "81936/81936 [==============================] - 120s 1ms/step - loss: 0.5463 - auroc: 0.7434 - val_loss: 0.5814 - val_auroc: 0.7416\n",
      "\n",
      "Epoch 00003: val_auroc improved from 0.74160 to 0.74160, saving model to model_3_1.h5\n",
      "Epoch 4/25\n",
      "81936/81936 [==============================] - 120s 1ms/step - loss: 0.4885 - auroc: 0.7732 - val_loss: 0.5727 - val_auroc: 0.7588\n",
      "\n",
      "Epoch 00004: val_auroc improved from 0.74160 to 0.75880, saving model to model_3_1.h5\n",
      "Epoch 5/25\n",
      "81936/81936 [==============================] - 121s 1ms/step - loss: 0.4487 - auroc: 0.7982 - val_loss: 0.5442 - val_auroc: 0.7365\n",
      "\n",
      "Epoch 00005: val_auroc did not improve from 0.75880\n",
      "Epoch 6/25\n",
      "81936/81936 [==============================] - 120s 1ms/step - loss: 0.4143 - auroc: 0.8258 - val_loss: 0.5310 - val_auroc: 0.7347\n",
      "\n",
      "Epoch 00006: val_auroc did not improve from 0.75880\n",
      "Epoch 00006: early stopping\n"
     ]
    }
   ],
   "source": [
    "model_3_1.compile(optimizer='adam', loss='categorical_crossentropy', metrics=[auroc])\n",
    "history_3_1= model_3_1.fit(train_3_1, y_train, batch_size=800, epochs=25, verbose=1,callbacks=callbacks_3_1, validation_data=(test_3_1, y_test))"
   ]
  },
  {
   "cell_type": "markdown",
   "metadata": {
    "colab": {},
    "colab_type": "code",
    "id": "DrhuxPJTn26t"
   },
   "source": [
    "## MODEL 3.1"
   ]
  },
  {
   "cell_type": "code",
   "execution_count": 0,
   "metadata": {
    "colab": {},
    "colab_type": "code",
    "id": "8lNj44HYFuYj"
   },
   "outputs": [],
   "source": [
    "essay1 = Input(shape=(300,), name='essay_input')\n",
    "\n",
    "X1 = Embedding(output_dim=300, input_dim=max_vocabulary1+1, input_length=300 , weights=[embedding_matrix1])(essay1)\n",
    "lstm_essay1 = LSTM(100,recurrent_dropout=0.5,kernel_regularizer=regularizers.l2(0.001),return_sequences=True)(X1)\n",
    "flatten_new = Flatten()(lstm_essay1)\n"
   ]
  },
  {
   "cell_type": "code",
   "execution_count": 0,
   "metadata": {
    "colab": {
     "base_uri": "https://localhost:8080/",
     "height": 944
    },
    "colab_type": "code",
    "id": "F8E5ru-QIAkf",
    "outputId": "adfafb2d-fa8e-4945-fcba-9afd00c7015c"
   },
   "outputs": [
    {
     "name": "stdout",
     "output_type": "stream",
     "text": [
      "Model: \"model_6\"\n",
      "__________________________________________________________________________________________________\n",
      "Layer (type)                    Output Shape         Param #     Connected to                     \n",
      "==================================================================================================\n",
      "essay_input (InputLayer)        (None, 300)          0                                            \n",
      "__________________________________________________________________________________________________\n",
      "essay_input1 (InputLayer)       (None, 300)          0                                            \n",
      "__________________________________________________________________________________________________\n",
      "without_text (InputLayer)       (None, 101, 1)       0                                            \n",
      "__________________________________________________________________________________________________\n",
      "embedding_15 (Embedding)        (None, 300, 300)     15089700    essay_input[0][0]                \n",
      "__________________________________________________________________________________________________\n",
      "embedding_16 (Embedding)        (None, 300, 300)     7473300     essay_input1[0][0]               \n",
      "__________________________________________________________________________________________________\n",
      "conv1d_11 (Conv1D)              (None, 99, 500)      2000        without_text[0][0]               \n",
      "__________________________________________________________________________________________________\n",
      "lstm_14 (LSTM)                  (None, 300, 100)     160400      embedding_15[0][0]               \n",
      "__________________________________________________________________________________________________\n",
      "lstm_15 (LSTM)                  (None, 300, 100)     160400      embedding_16[0][0]               \n",
      "__________________________________________________________________________________________________\n",
      "conv1d_12 (Conv1D)              (None, 97, 250)      375250      conv1d_11[0][0]                  \n",
      "__________________________________________________________________________________________________\n",
      "flatten_19 (Flatten)            (None, 30000)        0           lstm_14[0][0]                    \n",
      "__________________________________________________________________________________________________\n",
      "flatten_20 (Flatten)            (None, 30000)        0           lstm_15[0][0]                    \n",
      "__________________________________________________________________________________________________\n",
      "flatten_21 (Flatten)            (None, 24250)        0           conv1d_12[0][0]                  \n",
      "__________________________________________________________________________________________________\n",
      "concatenate_6 (Concatenate)     (None, 84250)        0           flatten_19[0][0]                 \n",
      "                                                                 flatten_20[0][0]                 \n",
      "                                                                 flatten_21[0][0]                 \n",
      "__________________________________________________________________________________________________\n",
      "dense_16 (Dense)                (None, 200)          16850200    concatenate_6[0][0]              \n",
      "__________________________________________________________________________________________________\n",
      "dropout_11 (Dropout)            (None, 200)          0           dense_16[0][0]                   \n",
      "__________________________________________________________________________________________________\n",
      "dense_17 (Dense)                (None, 120)          24120       dropout_11[0][0]                 \n",
      "__________________________________________________________________________________________________\n",
      "batch_normalization_6 (BatchNor (None, 120)          480         dense_17[0][0]                   \n",
      "__________________________________________________________________________________________________\n",
      "dropout_12 (Dropout)            (None, 120)          0           batch_normalization_6[0][0]      \n",
      "__________________________________________________________________________________________________\n",
      "dense_18 (Dense)                (None, 70)           8470        dropout_12[0][0]                 \n",
      "__________________________________________________________________________________________________\n",
      "output (Dense)                  (None, 2)            142         dense_18[0][0]                   \n",
      "==================================================================================================\n",
      "Total params: 40,144,462\n",
      "Trainable params: 40,144,222\n",
      "Non-trainable params: 240\n",
      "__________________________________________________________________________________________________\n",
      "None\n"
     ]
    }
   ],
   "source": [
    "from keras.layers import Conv1D\n",
    "from keras.initializers import he_normal\n",
    "\n",
    "\n",
    "\n",
    "essay = Input(shape=(300,), name='essay_input')\n",
    "\n",
    "X = Embedding(output_dim=300, input_dim=max_vocabulary+1, input_length=300 , weights=[embedding_matrix])(essay)\n",
    "lstm_essay = LSTM(100,recurrent_dropout=0.5,kernel_regularizer=regularizers.l2(0.001),return_sequences=True)(X)\n",
    "flatten_1 = Flatten()(lstm_essay)\n",
    "\n",
    "\n",
    "\n",
    "essay1 = Input(shape=(300,), name='essay_input1')\n",
    "\n",
    "X1 = Embedding(output_dim=300, input_dim=max_vocabulary1+1, input_length=300 , weights=[embedding_matrix1])(essay1)\n",
    "lstm_essay1 = LSTM(100,recurrent_dropout=0.5,kernel_regularizer=regularizers.l2(0.001),return_sequences=True)(X1)\n",
    "flatten_new = Flatten()(lstm_essay1)\n",
    "\n",
    "\n",
    "\n",
    "\n",
    "\n",
    "input_without_text  = Input(shape=(101,1), name='without_text')\n",
    "\n",
    "convo = Conv1D(500 , 3 , activation='relu' ,  kernel_initializer=he_normal(seed=None) , padding='valid')(input_without_text)\n",
    "\n",
    "convo = Conv1D(250 , 3 , activation='relu' ,  kernel_initializer=he_normal(seed=None) , padding='valid')(convo)\n",
    "\n",
    "flatten_without_text = Flatten()(convo)\n",
    "\n",
    "\n",
    "\n",
    "x_concat = concatenate([flatten_1  ,flatten_new, flatten_without_text])\n",
    "\n",
    "x = Dense(200, activation=\"relu\", kernel_initializer=\"he_normal\" ,kernel_regularizer=regularizers.l2(0.001))(x_concat)\n",
    "\n",
    "x=Dropout(0.5)(x)\n",
    "\n",
    "x = Dense(120,activation=\"sigmoid\",kernel_initializer=\"glorot_normal\" ,kernel_regularizer=regularizers.l2(0.001))(x)\n",
    "\n",
    "x = BatchNormalization()(x)\n",
    "\n",
    "x=Dropout(0.5)(x)\n",
    "\n",
    "x = Dense(70,activation=\"relu\", kernel_initializer=\"he_normal\" ,kernel_regularizer=regularizers.l2(0.001))(x)\n",
    "\n",
    "\n",
    "\n",
    "output = Dense(2, activation='softmax', name='output')(x)\n",
    "\n",
    "model_3_2 = Model(inputs=[essay,essay1, input_without_text],outputs=[output])\n",
    "\n",
    "\n",
    "\n",
    "print(model_3_2.summary())"
   ]
  },
  {
   "cell_type": "code",
   "execution_count": 0,
   "metadata": {
    "colab": {},
    "colab_type": "code",
    "id": "mZh1DIYUIkwU"
   },
   "outputs": [],
   "source": [
    "train_3_2 = [X_train_pad,X_train_pad1,rest_features_train]\n",
    "test_3_2 = [X_test_pad,X_test_pad1,rest_features_test]"
   ]
  },
  {
   "cell_type": "code",
   "execution_count": 0,
   "metadata": {
    "colab": {},
    "colab_type": "code",
    "id": "7wpr0MpFIKc_"
   },
   "outputs": [],
   "source": [
    "checkpoint3_2 = ModelCheckpoint(\"model_3_2.h5\",\n",
    "                             monitor=\"val_auroc\",\n",
    "                             mode=\"max\",\n",
    "                             save_best_only = True,\n",
    "                             verbose=1)\n",
    "earlystop3_2 = EarlyStopping(monitor = 'val_auroc', \n",
    "                            mode=\"max\",\n",
    "                            min_delta = 0, \n",
    "                            patience = 2,\n",
    "                            verbose = 1)\n",
    "\n",
    "tensorboard3_2 = TensorBoard(log_dir='Model3_2_visualization')\n",
    "\n",
    "callbacks_3_2 = [checkpoint3_2,earlystop3_2,tensorboard3_2]\n"
   ]
  },
  {
   "cell_type": "code",
   "execution_count": 0,
   "metadata": {
    "colab": {
     "base_uri": "https://localhost:8080/",
     "height": 1000
    },
    "colab_type": "code",
    "id": "20S02j8EIfE_",
    "outputId": "ef1222b3-8380-48e6-b50e-d6f0f68b0005"
   },
   "outputs": [
    {
     "name": "stdout",
     "output_type": "stream",
     "text": [
      "Train on 81936 samples, validate on 27312 samples\n",
      "Epoch 1/25\n",
      "81936/81936 [==============================] - 235s 3ms/step - loss: 1.1661 - auroc: 0.5223 - val_loss: 0.7637 - val_auroc: 0.5954\n",
      "\n",
      "Epoch 00001: val_auroc improved from -inf to 0.59537, saving model to model_3_2.h5\n",
      "Epoch 2/25\n",
      "81936/81936 [==============================] - 230s 3ms/step - loss: 0.7045 - auroc: 0.5444 - val_loss: 0.6433 - val_auroc: 0.6066\n",
      "\n",
      "Epoch 00002: val_auroc improved from 0.59537 to 0.60662, saving model to model_3_2.h5\n",
      "Epoch 3/25\n",
      "81936/81936 [==============================] - 231s 3ms/step - loss: 0.6226 - auroc: 0.5583 - val_loss: 0.6011 - val_auroc: 0.6142\n",
      "\n",
      "Epoch 00003: val_auroc improved from 0.60662 to 0.61416, saving model to model_3_2.h5\n",
      "Epoch 4/25\n",
      "81936/81936 [==============================] - 233s 3ms/step - loss: 0.5798 - auroc: 0.5740 - val_loss: 0.5637 - val_auroc: 0.6240\n",
      "\n",
      "Epoch 00004: val_auroc improved from 0.61416 to 0.62398, saving model to model_3_2.h5\n",
      "Epoch 5/25\n",
      "81936/81936 [==============================] - 237s 3ms/step - loss: 0.5506 - auroc: 0.5870 - val_loss: 0.5278 - val_auroc: 0.6321\n",
      "\n",
      "Epoch 00005: val_auroc improved from 0.62398 to 0.63210, saving model to model_3_2.h5\n",
      "Epoch 6/25\n",
      "81936/81936 [==============================] - 238s 3ms/step - loss: 0.5233 - auroc: 0.5964 - val_loss: 0.5147 - val_auroc: 0.6356\n",
      "\n",
      "Epoch 00006: val_auroc improved from 0.63210 to 0.63562, saving model to model_3_2.h5\n",
      "Epoch 7/25\n",
      "81936/81936 [==============================] - 237s 3ms/step - loss: 0.5036 - auroc: 0.6069 - val_loss: 0.5287 - val_auroc: 0.6364\n",
      "\n",
      "Epoch 00007: val_auroc improved from 0.63562 to 0.63639, saving model to model_3_2.h5\n",
      "Epoch 8/25\n",
      "81936/81936 [==============================] - 237s 3ms/step - loss: 0.4918 - auroc: 0.6072 - val_loss: 0.4979 - val_auroc: 0.6389\n",
      "\n",
      "Epoch 00008: val_auroc improved from 0.63639 to 0.63889, saving model to model_3_2.h5\n",
      "Epoch 9/25\n",
      "81936/81936 [==============================] - 236s 3ms/step - loss: 0.4763 - auroc: 0.6210 - val_loss: 0.5191 - val_auroc: 0.6146\n",
      "\n",
      "Epoch 00009: val_auroc did not improve from 0.63889\n",
      "Epoch 10/25\n",
      "81936/81936 [==============================] - 228s 3ms/step - loss: 0.4604 - auroc: 0.6870 - val_loss: 0.4688 - val_auroc: 0.7388\n",
      "\n",
      "Epoch 00010: val_auroc improved from 0.63889 to 0.73884, saving model to model_3_2.h5\n",
      "Epoch 11/25\n",
      "81936/81936 [==============================] - 222s 3ms/step - loss: 0.4306 - auroc: 0.7474 - val_loss: 0.4845 - val_auroc: 0.7456\n",
      "\n",
      "Epoch 00011: val_auroc improved from 0.73884 to 0.74565, saving model to model_3_2.h5\n",
      "Epoch 12/25\n",
      "81936/81936 [==============================] - 222s 3ms/step - loss: 0.4125 - auroc: 0.7748 - val_loss: 0.4305 - val_auroc: 0.7380\n",
      "\n",
      "Epoch 00012: val_auroc did not improve from 0.74565\n",
      "Epoch 13/25\n",
      "81936/81936 [==============================] - 221s 3ms/step - loss: 0.3918 - auroc: 0.7939 - val_loss: 0.4238 - val_auroc: 0.7399\n",
      "\n",
      "Epoch 00013: val_auroc did not improve from 0.74565\n",
      "Epoch 00013: early stopping\n"
     ]
    }
   ],
   "source": [
    "model_3_2.compile(optimizer='adam', loss='categorical_crossentropy', metrics=[auroc])\n",
    "history_3_2= model_3_2.fit(train_3_2, y_train, batch_size=1200, epochs=25, verbose=1,callbacks=callbacks_3_2, validation_data=(test_3_2, y_test))"
   ]
  },
  {
   "cell_type": "markdown",
   "metadata": {
    "colab": {},
    "colab_type": "code",
    "id": "_1LJXGU3KCy8"
   },
   "source": [
    "## MODEL 3.2"
   ]
  },
  {
   "cell_type": "code",
   "execution_count": 73,
   "metadata": {
    "colab": {
     "base_uri": "https://localhost:8080/",
     "height": 1000
    },
    "colab_type": "code",
    "id": "PUEZEue7uTbN",
    "outputId": "55d50a84-de43-4633-e2f8-d25a8378b112"
   },
   "outputs": [
    {
     "name": "stdout",
     "output_type": "stream",
     "text": [
      "WARNING:tensorflow:From /usr/local/lib/python3.6/dist-packages/keras/backend/tensorflow_backend.py:4479: The name tf.truncated_normal is deprecated. Please use tf.random.truncated_normal instead.\n",
      "\n",
      "Model: \"model_1\"\n",
      "__________________________________________________________________________________________________\n",
      "Layer (type)                    Output Shape         Param #     Connected to                     \n",
      "==================================================================================================\n",
      "essay_input (InputLayer)        (None, 300)          0                                            \n",
      "__________________________________________________________________________________________________\n",
      "embedding_7 (Embedding)         (None, 300, 300)     15095100    essay_input[0][0]                \n",
      "__________________________________________________________________________________________________\n",
      "spatial_dropout1d_1 (SpatialDro (None, 300, 300)     0           embedding_7[0][0]                \n",
      "__________________________________________________________________________________________________\n",
      "spatial_dropout1d_2 (SpatialDro (None, 300, 300)     0           embedding_7[0][0]                \n",
      "__________________________________________________________________________________________________\n",
      "school_state (InputLayer)       (None, 1)            0                                            \n",
      "__________________________________________________________________________________________________\n",
      "teacher_prefix (InputLayer)     (None, 1)            0                                            \n",
      "__________________________________________________________________________________________________\n",
      "clean_categories (InputLayer)   (None, 1)            0                                            \n",
      "__________________________________________________________________________________________________\n",
      "clean_subcategories (InputLayer (None, 1)            0                                            \n",
      "__________________________________________________________________________________________________\n",
      "project_grade_category (InputLa (None, 1)            0                                            \n",
      "__________________________________________________________________________________________________\n",
      "bidirectional_1 (Bidirectional) (None, 300, 200)     241200      spatial_dropout1d_1[0][0]        \n",
      "__________________________________________________________________________________________________\n",
      "bidirectional_2 (Bidirectional) (None, 300, 200)     241200      spatial_dropout1d_2[0][0]        \n",
      "__________________________________________________________________________________________________\n",
      "embedding_9 (Embedding)         (None, 1, 26)        1326        school_state[0][0]               \n",
      "__________________________________________________________________________________________________\n",
      "embedding_10 (Embedding)        (None, 1, 3)         15          teacher_prefix[0][0]             \n",
      "__________________________________________________________________________________________________\n",
      "embedding_11 (Embedding)        (None, 1, 25)        1250        clean_categories[0][0]           \n",
      "__________________________________________________________________________________________________\n",
      "embedding_12 (Embedding)        (None, 1, 50)        19800       clean_subcategories[0][0]        \n",
      "__________________________________________________________________________________________________\n",
      "embedding_13 (Embedding)        (None, 1, 2)         8           project_grade_category[0][0]     \n",
      "__________________________________________________________________________________________________\n",
      "numerical_features (InputLayer) (None, 2)            0                                            \n",
      "__________________________________________________________________________________________________\n",
      "flatten_2 (Flatten)             (None, 60000)        0           bidirectional_1[0][0]            \n",
      "__________________________________________________________________________________________________\n",
      "flatten_3 (Flatten)             (None, 60000)        0           bidirectional_2[0][0]            \n",
      "__________________________________________________________________________________________________\n",
      "flatten_4 (Flatten)             (None, 26)           0           embedding_9[0][0]                \n",
      "__________________________________________________________________________________________________\n",
      "flatten_5 (Flatten)             (None, 3)            0           embedding_10[0][0]               \n",
      "__________________________________________________________________________________________________\n",
      "flatten_6 (Flatten)             (None, 25)           0           embedding_11[0][0]               \n",
      "__________________________________________________________________________________________________\n",
      "flatten_7 (Flatten)             (None, 50)           0           embedding_12[0][0]               \n",
      "__________________________________________________________________________________________________\n",
      "flatten_8 (Flatten)             (None, 2)            0           embedding_13[0][0]               \n",
      "__________________________________________________________________________________________________\n",
      "dense_1 (Dense)                 (None, 50)           150         numerical_features[0][0]         \n",
      "__________________________________________________________________________________________________\n",
      "concatenate_1 (Concatenate)     (None, 120156)       0           flatten_2[0][0]                  \n",
      "                                                                 flatten_3[0][0]                  \n",
      "                                                                 flatten_4[0][0]                  \n",
      "                                                                 flatten_5[0][0]                  \n",
      "                                                                 flatten_6[0][0]                  \n",
      "                                                                 flatten_7[0][0]                  \n",
      "                                                                 flatten_8[0][0]                  \n",
      "                                                                 dense_1[0][0]                    \n",
      "__________________________________________________________________________________________________\n",
      "dense_2 (Dense)                 (None, 50)           6007850     concatenate_1[0][0]              \n",
      "__________________________________________________________________________________________________\n",
      "dropout_1 (Dropout)             (None, 50)           0           dense_2[0][0]                    \n",
      "__________________________________________________________________________________________________\n",
      "dense_3 (Dense)                 (None, 200)          10200       dropout_1[0][0]                  \n",
      "__________________________________________________________________________________________________\n",
      "batch_normalization_1 (BatchNor (None, 200)          800         dense_3[0][0]                    \n",
      "__________________________________________________________________________________________________\n",
      "dropout_2 (Dropout)             (None, 200)          0           batch_normalization_1[0][0]      \n",
      "__________________________________________________________________________________________________\n",
      "dense_4 (Dense)                 (None, 80)           16080       dropout_2[0][0]                  \n",
      "__________________________________________________________________________________________________\n",
      "output (Dense)                  (None, 2)            162         dense_4[0][0]                    \n",
      "==================================================================================================\n",
      "Total params: 21,635,141\n",
      "Trainable params: 21,634,741\n",
      "Non-trainable params: 400\n",
      "__________________________________________________________________________________________________\n",
      "None\n"
     ]
    }
   ],
   "source": [
    "from keras.models import Model\n",
    "from keras.layers import Input\n",
    "from keras.layers import LSTM\n",
    "from keras.layers.embeddings import Embedding\n",
    "from keras import regularizers\n",
    "from keras.regularizers import l2\n",
    "from keras.layers import Flatten\n",
    "from keras.layers import Dense, Input , Dropout\n",
    "from keras.layers import concatenate\n",
    "from keras.layers.normalization import BatchNormalization\n",
    "from keras.layers import Input, Dense, Embedding, Flatten, concatenate, Dropout, Convolution1D, \\\n",
    "    GlobalMaxPool1D, SpatialDropout1D, CuDNNGRU, Bidirectional, PReLU, GRU,LSTM\n",
    "from keras.models import Model\n",
    "from keras import optimizers\n",
    "\n",
    "\n",
    "essay = Input(shape=(300,), name='essay_input')\n",
    "\n",
    "X = Embedding(output_dim=300, input_dim=max_vocabulary+1, input_length=300 , weights=[embedding_matrix])(essay)\n",
    "x_words = SpatialDropout1D(0.3)(X)\n",
    "x_words = Bidirectional(CuDNNGRU(100, return_sequences=True))(x_words)\n",
    "\n",
    "flatten_1 = Flatten()(x_words)\n",
    "\n",
    "\n",
    "\n",
    "\n",
    "\n",
    "essay1 = Input(shape=(300,), name='essay_input1')\n",
    "\n",
    "X1 = Embedding(output_dim=300, input_dim=max_vocabulary1+1, input_length=300 , weights=[embedding_matrix1])(essay1)\n",
    "x_words1 = SpatialDropout1D(0.3)(X)\n",
    "x_words1 = Bidirectional(CuDNNGRU(100, return_sequences=True))(x_words1)\n",
    "flatten_new = Flatten()(x_words1)\n",
    "\n",
    "\n",
    "\n",
    "\n",
    "\n",
    "\n",
    "\n",
    "\n",
    "school_state = Input(shape=(1,), name='school_state')\n",
    "X_school_state = Embedding(output_dim=embedding_size_school_state , input_dim=no_of_unique_states,trainable=True)(school_state)\n",
    "flatten_2 = Flatten()(X_school_state)\n",
    "\n",
    "\n",
    "\n",
    "teacher_prefix = Input(shape=(1,), name='teacher_prefix')\n",
    "X_teacher_prefix = Embedding(output_dim=embedding_size_teacher_prefix , input_dim=no_of_unique_teacher_prefix, trainable=True)(teacher_prefix)\n",
    "flatten_3 = Flatten()(X_teacher_prefix)\n",
    "\n",
    "\n",
    "\n",
    "clean_categories = Input(shape=(1,), name='clean_categories')\n",
    "X_clean_categories = Embedding(output_dim=embedding_size_clean_categories, input_dim=no_of_unique_clean_categories, trainable=True)(clean_categories)\n",
    "flatten_4 = Flatten()(X_clean_categories)\n",
    "\n",
    "\n",
    "\n",
    "clean_subcategories = Input(shape=(1,), name='clean_subcategories')\n",
    "X_clean_subcategories = Embedding(output_dim=embedding_size_clean_subcategories, input_dim=no_of_unique_clean_subcategories, trainable=True)(clean_subcategories)\n",
    "flatten_5 = Flatten()(X_clean_subcategories)\n",
    "\n",
    "\n",
    "\n",
    "\n",
    "project_grade_category = Input(shape=(1,), name='project_grade_category')\n",
    "X_project_grade_category = Embedding(output_dim=embedding_size_project_grade_category, input_dim=no_of_unique_project_grade_category,trainable=True)(project_grade_category)\n",
    "flatten_6 = Flatten()(X_project_grade_category)\n",
    "\n",
    "\n",
    "numeric_features = Input(shape=(2,) , name=\"numerical_features\")\n",
    "numeric_dense = Dense(50, activation='relu' , kernel_initializer='he_normal',kernel_regularizer=l2(0.001))(numeric_features )\n",
    "\n",
    "\n",
    "X_concat = concatenate([flatten_1 ,flatten_new, flatten_2 , flatten_3 ,flatten_4 , flatten_5 , flatten_6 , numeric_dense])\n",
    "model = Dense(50, activation=\"relu\", kernel_initializer=\"he_normal\" ,kernel_regularizer=regularizers.l2(0.001))(X_concat)\n",
    "\n",
    "model = Dropout(0.25)(model)\n",
    "\n",
    "model = Dense(200,activation=\"relu\",kernel_initializer=\"glorot_normal\" ,kernel_regularizer=regularizers.l2(0.001))(model)\n",
    "\n",
    "model = BatchNormalization()(model)\n",
    "\n",
    "model = Dropout(0.5)(model)\n",
    "\n",
    "model = Dense(80,activation=\"sigmoid\", kernel_initializer=\"glorot_normal\" ,kernel_regularizer=regularizers.l2(0.001))(model)\n",
    "\n",
    "\n",
    "output = Dense(2, activation='softmax', name='output')(model)\n",
    "\n",
    "model1_new = Model(inputs=[essay,essay1, school_state ,teacher_prefix,clean_categories,\n",
    "                       clean_subcategories ,project_grade_category ,numeric_features ],outputs=[output])\n",
    "\n",
    "\n",
    "\n",
    "print(model1_new.summary())\n"
   ]
  },
  {
   "cell_type": "code",
   "execution_count": 0,
   "metadata": {
    "colab": {},
    "colab_type": "code",
    "id": "DE0J9QFyuTlo"
   },
   "outputs": [],
   "source": [
    "checkpoint1_new = ModelCheckpoint(\"model_1.new.h5\",\n",
    "                             monitor=\"val_auroc\",\n",
    "                             mode=\"max\",\n",
    "                             save_best_only = True,\n",
    "                             verbose=1)\n",
    "earlystop1_new = EarlyStopping(monitor = 'val_auroc', \n",
    "                            mode=\"max\",\n",
    "                            min_delta = 0, \n",
    "                            patience = 2,\n",
    "                            verbose = 1)\n",
    "\n",
    "tensorboard1_new = TensorBoard(log_dir='Model1.new_visualization')\n",
    "\n",
    "callbacks_1_new = [checkpoint1_new,earlystop1_new,tensorboard1_new]"
   ]
  },
  {
   "cell_type": "code",
   "execution_count": 0,
   "metadata": {
    "colab": {},
    "colab_type": "code",
    "id": "DtKirdocveXp"
   },
   "outputs": [],
   "source": [
    "train_all = [X_train_pad,X_train_pad1,X_train_school_state,X_train_teacher_prefix,X_train_clean_categories,X_train_clean_subcategories,X_train_project_grade_category,X_train_numeric_features]\n",
    "\n",
    "test_all = [X_test_pad,X_test_pad1,X_test_school_state,X_test_teacher_prefix,X_test_clean_categories,X_test_clean_subcategories,X_test_project_grade_category,X_test_numeric_features]"
   ]
  },
  {
   "cell_type": "code",
   "execution_count": 78,
   "metadata": {
    "colab": {
     "base_uri": "https://localhost:8080/",
     "height": 764
    },
    "colab_type": "code",
    "id": "q8esFEMbuThi",
    "outputId": "34b4810d-bc76-48b2-a2e3-7d8d344ac0df"
   },
   "outputs": [
    {
     "name": "stdout",
     "output_type": "stream",
     "text": [
      "WARNING:tensorflow:From /usr/local/lib/python3.6/dist-packages/keras/backend/tensorflow_backend.py:1033: The name tf.assign_add is deprecated. Please use tf.compat.v1.assign_add instead.\n",
      "\n",
      "WARNING:tensorflow:From /usr/local/lib/python3.6/dist-packages/keras/backend/tensorflow_backend.py:1020: The name tf.assign is deprecated. Please use tf.compat.v1.assign instead.\n",
      "\n",
      "Train on 81936 samples, validate on 27312 samples\n",
      "WARNING:tensorflow:From /usr/local/lib/python3.6/dist-packages/keras/callbacks.py:1122: The name tf.summary.merge_all is deprecated. Please use tf.compat.v1.summary.merge_all instead.\n",
      "\n",
      "WARNING:tensorflow:From /usr/local/lib/python3.6/dist-packages/keras/callbacks.py:1125: The name tf.summary.FileWriter is deprecated. Please use tf.compat.v1.summary.FileWriter instead.\n",
      "\n",
      "Epoch 1/10\n",
      "81936/81936 [==============================] - 125s 2ms/step - loss: 0.7509 - auroc: 0.5470 - val_loss: 0.6634 - val_auroc: 0.6707\n",
      "\n",
      "Epoch 00001: val_auroc improved from -inf to 0.67074, saving model to model_1.new.h5\n",
      "WARNING:tensorflow:From /usr/local/lib/python3.6/dist-packages/keras/callbacks.py:1265: The name tf.Summary is deprecated. Please use tf.compat.v1.Summary instead.\n",
      "\n",
      "Epoch 2/10\n",
      "81936/81936 [==============================] - 121s 1ms/step - loss: 0.6169 - auroc: 0.6955 - val_loss: 0.5724 - val_auroc: 0.7414\n",
      "\n",
      "Epoch 00002: val_auroc improved from 0.67074 to 0.74136, saving model to model_1.new.h5\n",
      "Epoch 3/10\n",
      "81936/81936 [==============================] - 120s 1ms/step - loss: 0.5519 - auroc: 0.7474 - val_loss: 0.5356 - val_auroc: 0.7534\n",
      "\n",
      "Epoch 00003: val_auroc improved from 0.74136 to 0.75336, saving model to model_1.new.h5\n",
      "Epoch 4/10\n",
      "81936/81936 [==============================] - 120s 1ms/step - loss: 0.5134 - auroc: 0.7709 - val_loss: 0.5134 - val_auroc: 0.7540\n",
      "\n",
      "Epoch 00004: val_auroc improved from 0.75336 to 0.75403, saving model to model_1.new.h5\n",
      "Epoch 5/10\n",
      "81936/81936 [==============================] - 121s 1ms/step - loss: 0.4910 - auroc: 0.7849 - val_loss: 0.4993 - val_auroc: 0.7643\n",
      "\n",
      "Epoch 00005: val_auroc improved from 0.75403 to 0.76426, saving model to model_1.new.h5\n",
      "Epoch 6/10\n",
      "81936/81936 [==============================] - 121s 1ms/step - loss: 0.4711 - auroc: 0.8032 - val_loss: 0.4943 - val_auroc: 0.7628\n",
      "\n",
      "Epoch 00006: val_auroc did not improve from 0.76426\n",
      "Epoch 7/10\n",
      "81936/81936 [==============================] - 120s 1ms/step - loss: 0.4541 - auroc: 0.8221 - val_loss: 0.4973 - val_auroc: 0.7604\n",
      "\n",
      "Epoch 00007: val_auroc did not improve from 0.76426\n",
      "Epoch 00007: early stopping\n"
     ]
    }
   ],
   "source": [
    "\n",
    "model1_new.compile(optimizer=optimizers.Adam(0.0005, decay=1e-6), loss='binary_crossentropy', metrics=[auroc])\n",
    "history1_new= model1_new.fit(train_all, y_train, batch_size=850, epochs=10, verbose=1,callbacks=callbacks_1_new, validation_data=(test_all, y_test))"
   ]
  },
  {
   "cell_type": "code",
   "execution_count": 79,
   "metadata": {
    "colab": {
     "base_uri": "https://localhost:8080/",
     "height": 283
    },
    "colab_type": "code",
    "id": "LQu57g8DuTV6",
    "outputId": "fb2c8b4f-3cc0-4118-cf0e-978a3c4eddb9"
   },
   "outputs": [
    {
     "data": {
      "image/png": "[encoded data removed]",
      "text/plain": [
       "<Figure size 432x288 with 1 Axes>"
      ]
     },
     "metadata": {
      "tags": []
     },
     "output_type": "display_data"
    }
   ],
   "source": [
    "%matplotlib inline\n",
    "fig,ax = plt.subplots(1,1)\n",
    "ax.set_xlabel('epoch') ; ax.set_ylabel('Binary Crossentropy Loss')\n",
    "x = list(range(1,8))\n",
    "vy = history1_new.history['val_loss']\n",
    "ty = history1_new.history['loss']\n",
    "plt_dynamic(x, vy, ty, ax)"
   ]
  },
  {
   "cell_type": "markdown",
   "metadata": {},
   "source": [
    "## MODEL 3.3"
   ]
  },
  {
   "cell_type": "markdown",
   "metadata": {},
   "source": [
    "#### Removing features like teacher_prefix,project_grade_category,numeric_features"
   ]
  },
  {
   "cell_type": "code",
   "execution_count": 80,
   "metadata": {
    "colab": {
     "base_uri": "https://localhost:8080/",
     "height": 1000
    },
    "colab_type": "code",
    "id": "9YwHp2jBzYvd",
    "outputId": "b9b397ab-1067-4922-f380-3dc26fc9bb63"
   },
   "outputs": [
    {
     "name": "stdout",
     "output_type": "stream",
     "text": [
      "Model: \"model_2\"\n",
      "__________________________________________________________________________________________________\n",
      "Layer (type)                    Output Shape         Param #     Connected to                     \n",
      "==================================================================================================\n",
      "essay_input (InputLayer)        (None, 300)          0                                            \n",
      "__________________________________________________________________________________________________\n",
      "embedding_14 (Embedding)        (None, 300, 300)     15095100    essay_input[0][0]                \n",
      "__________________________________________________________________________________________________\n",
      "spatial_dropout1d_3 (SpatialDro (None, 300, 300)     0           embedding_14[0][0]               \n",
      "__________________________________________________________________________________________________\n",
      "spatial_dropout1d_4 (SpatialDro (None, 300, 300)     0           embedding_14[0][0]               \n",
      "__________________________________________________________________________________________________\n",
      "school_state (InputLayer)       (None, 1)            0                                            \n",
      "__________________________________________________________________________________________________\n",
      "clean_categories (InputLayer)   (None, 1)            0                                            \n",
      "__________________________________________________________________________________________________\n",
      "clean_subcategories (InputLayer (None, 1)            0                                            \n",
      "__________________________________________________________________________________________________\n",
      "bidirectional_3 (Bidirectional) (None, 300, 200)     241200      spatial_dropout1d_3[0][0]        \n",
      "__________________________________________________________________________________________________\n",
      "bidirectional_4 (Bidirectional) (None, 300, 200)     241200      spatial_dropout1d_4[0][0]        \n",
      "__________________________________________________________________________________________________\n",
      "embedding_16 (Embedding)        (None, 1, 26)        1326        school_state[0][0]               \n",
      "__________________________________________________________________________________________________\n",
      "embedding_17 (Embedding)        (None, 1, 25)        1250        clean_categories[0][0]           \n",
      "__________________________________________________________________________________________________\n",
      "embedding_18 (Embedding)        (None, 1, 50)        19800       clean_subcategories[0][0]        \n",
      "__________________________________________________________________________________________________\n",
      "flatten_9 (Flatten)             (None, 60000)        0           bidirectional_3[0][0]            \n",
      "__________________________________________________________________________________________________\n",
      "flatten_10 (Flatten)            (None, 60000)        0           bidirectional_4[0][0]            \n",
      "__________________________________________________________________________________________________\n",
      "flatten_11 (Flatten)            (None, 26)           0           embedding_16[0][0]               \n",
      "__________________________________________________________________________________________________\n",
      "flatten_12 (Flatten)            (None, 25)           0           embedding_17[0][0]               \n",
      "__________________________________________________________________________________________________\n",
      "flatten_13 (Flatten)            (None, 50)           0           embedding_18[0][0]               \n",
      "__________________________________________________________________________________________________\n",
      "concatenate_2 (Concatenate)     (None, 120101)       0           flatten_9[0][0]                  \n",
      "                                                                 flatten_10[0][0]                 \n",
      "                                                                 flatten_11[0][0]                 \n",
      "                                                                 flatten_12[0][0]                 \n",
      "                                                                 flatten_13[0][0]                 \n",
      "__________________________________________________________________________________________________\n",
      "dense_5 (Dense)                 (None, 50)           6005100     concatenate_2[0][0]              \n",
      "__________________________________________________________________________________________________\n",
      "dropout_3 (Dropout)             (None, 50)           0           dense_5[0][0]                    \n",
      "__________________________________________________________________________________________________\n",
      "dense_6 (Dense)                 (None, 200)          10200       dropout_3[0][0]                  \n",
      "__________________________________________________________________________________________________\n",
      "batch_normalization_2 (BatchNor (None, 200)          800         dense_6[0][0]                    \n",
      "__________________________________________________________________________________________________\n",
      "dropout_4 (Dropout)             (None, 200)          0           batch_normalization_2[0][0]      \n",
      "__________________________________________________________________________________________________\n",
      "dense_7 (Dense)                 (None, 80)           16080       dropout_4[0][0]                  \n",
      "__________________________________________________________________________________________________\n",
      "output (Dense)                  (None, 2)            162         dense_7[0][0]                    \n",
      "==================================================================================================\n",
      "Total params: 21,632,218\n",
      "Trainable params: 21,631,818\n",
      "Non-trainable params: 400\n",
      "__________________________________________________________________________________________________\n",
      "None\n"
     ]
    }
   ],
   "source": [
    "from keras.models import Model\n",
    "from keras.layers import Input\n",
    "from keras.layers import LSTM\n",
    "from keras.layers.embeddings import Embedding\n",
    "from keras import regularizers\n",
    "from keras.regularizers import l2\n",
    "from keras.layers import Flatten\n",
    "from keras.layers import Dense, Input , Dropout\n",
    "from keras.layers import concatenate\n",
    "from keras.layers.normalization import BatchNormalization\n",
    "from keras.layers import Input, Dense, Embedding, Flatten, concatenate, Dropout, Convolution1D, \\\n",
    "    GlobalMaxPool1D, SpatialDropout1D, CuDNNGRU, Bidirectional, PReLU, GRU,LSTM\n",
    "from keras.models import Model\n",
    "from keras import optimizers\n",
    "\n",
    "\n",
    "essay = Input(shape=(300,), name='essay_input')\n",
    "\n",
    "X = Embedding(output_dim=300, input_dim=max_vocabulary+1, input_length=300 , weights=[embedding_matrix])(essay)\n",
    "x_words = SpatialDropout1D(0.3)(X)\n",
    "x_words = Bidirectional(CuDNNGRU(100, return_sequences=True))(x_words)\n",
    "\n",
    "flatten_1 = Flatten()(x_words)\n",
    "\n",
    "\n",
    "\n",
    "\n",
    "\n",
    "essay1 = Input(shape=(300,), name='essay_input1')\n",
    "\n",
    "X1 = Embedding(output_dim=300, input_dim=max_vocabulary1+1, input_length=300 , weights=[embedding_matrix1])(essay1)\n",
    "x_words1 = SpatialDropout1D(0.3)(X)\n",
    "x_words1 = Bidirectional(CuDNNGRU(100, return_sequences=True))(x_words1)\n",
    "flatten_new = Flatten()(x_words1)\n",
    "\n",
    "\n",
    "\n",
    "\n",
    "\n",
    "\n",
    "\n",
    "\n",
    "school_state = Input(shape=(1,), name='school_state')\n",
    "X_school_state = Embedding(output_dim=embedding_size_school_state , input_dim=no_of_unique_states,trainable=True)(school_state)\n",
    "flatten_2 = Flatten()(X_school_state)\n",
    "\n",
    "\n",
    "\n",
    "#teacher_prefix = Input(shape=(1,), name='teacher_prefix')\n",
    "#X_teacher_prefix = Embedding(output_dim=embedding_size_teacher_prefix , input_dim=no_of_unique_teacher_prefix, trainable=True)(teacher_prefix)\n",
    "#flatten_3 = Flatten()(X_teacher_prefix)\n",
    "\n",
    "\n",
    "\n",
    "clean_categories = Input(shape=(1,), name='clean_categories')\n",
    "X_clean_categories = Embedding(output_dim=embedding_size_clean_categories, input_dim=no_of_unique_clean_categories, trainable=True)(clean_categories)\n",
    "flatten_4 = Flatten()(X_clean_categories)\n",
    "\n",
    "\n",
    "\n",
    "clean_subcategories = Input(shape=(1,), name='clean_subcategories')\n",
    "X_clean_subcategories = Embedding(output_dim=embedding_size_clean_subcategories, input_dim=no_of_unique_clean_subcategories, trainable=True)(clean_subcategories)\n",
    "flatten_5 = Flatten()(X_clean_subcategories)\n",
    "\n",
    "\n",
    "\n",
    "\n",
    "#project_grade_category = Input(shape=(1,), name='project_grade_category')\n",
    "#X_project_grade_category = Embedding(output_dim=embedding_size_project_grade_category, input_dim=no_of_unique_project_grade_category,trainable=True)(project_grade_category)\n",
    "#flatten_6 = Flatten()(X_project_grade_category)\n",
    "\n",
    "\n",
    "#numeric_features = Input(shape=(2,) , name=\"numerical_features\")\n",
    "#numeric_dense = Dense(50, activation='relu' , kernel_initializer='he_normal',kernel_regularizer=l2(0.001))(numeric_features )\n",
    "\n",
    "\n",
    "X_concat = concatenate([flatten_1 ,flatten_new, flatten_2  ,flatten_4 , flatten_5  ])\n",
    "model = Dense(50, activation=\"relu\", kernel_initializer=\"he_normal\" ,kernel_regularizer=regularizers.l2(0.001))(X_concat)\n",
    "\n",
    "model = Dropout(0.25)(model)\n",
    "\n",
    "model = Dense(200,activation=\"relu\",kernel_initializer=\"glorot_normal\" ,kernel_regularizer=regularizers.l2(0.001))(model)\n",
    "\n",
    "model = BatchNormalization()(model)\n",
    "\n",
    "model = Dropout(0.5)(model)\n",
    "\n",
    "model = Dense(80,activation=\"sigmoid\", kernel_initializer=\"glorot_normal\" ,kernel_regularizer=regularizers.l2(0.001))(model)\n",
    "\n",
    "\n",
    "output = Dense(2, activation='softmax', name='output')(model)\n",
    "\n",
    "model1_new1 = Model(inputs=[essay,essay1, school_state ,clean_categories,\n",
    "                       clean_subcategories ],outputs=[output])\n",
    "\n",
    "\n",
    "\n",
    "print(model1_new1.summary())\n"
   ]
  },
  {
   "cell_type": "code",
   "execution_count": 0,
   "metadata": {
    "colab": {},
    "colab_type": "code",
    "id": "2ro5VHrB1HFF"
   },
   "outputs": [],
   "source": [
    "checkpoint1_new1 = ModelCheckpoint(\"model_1.new1.h5\",\n",
    "                             monitor=\"val_auroc\",\n",
    "                             mode=\"max\",\n",
    "                             save_best_only = True,\n",
    "                             verbose=1)\n",
    "earlystop1_new1 = EarlyStopping(monitor = 'val_auroc', \n",
    "                            mode=\"max\",\n",
    "                            min_delta = 0, \n",
    "                            patience = 2,\n",
    "                            verbose = 1)\n",
    "\n",
    "tensorboard1_new1 = TensorBoard(log_dir='Model1.new1_visualization')\n",
    "\n",
    "callbacks_1_new1 = [checkpoint1_new1,earlystop1_new1,tensorboard1_new1]"
   ]
  },
  {
   "cell_type": "code",
   "execution_count": 0,
   "metadata": {
    "colab": {},
    "colab_type": "code",
    "id": "TnBrljtM1Rho"
   },
   "outputs": [],
   "source": [
    "train_all = [X_train_pad,X_train_pad1,X_train_school_state,X_train_clean_categories,X_train_clean_subcategories]\n",
    "\n",
    "test_all = [X_test_pad,X_test_pad1,X_test_school_state,X_test_clean_categories,X_test_clean_subcategories]"
   ]
  },
  {
   "cell_type": "code",
   "execution_count": 83,
   "metadata": {
    "colab": {
     "base_uri": "https://localhost:8080/",
     "height": 582
    },
    "colab_type": "code",
    "id": "muaorm9K1dhJ",
    "outputId": "478ed1e6-9d2a-46d6-c5f2-c127130e5a77"
   },
   "outputs": [
    {
     "name": "stdout",
     "output_type": "stream",
     "text": [
      "Train on 81936 samples, validate on 27312 samples\n",
      "Epoch 1/10\n",
      "81936/81936 [==============================] - 122s 1ms/step - loss: 0.7269 - auroc: 0.5196 - val_loss: 0.5822 - val_auroc: 0.5809\n",
      "\n",
      "Epoch 00001: val_auroc improved from -inf to 0.58094, saving model to model_1.new1.h5\n",
      "Epoch 2/10\n",
      "81936/81936 [==============================] - 120s 1ms/step - loss: 0.5371 - auroc: 0.6235 - val_loss: 0.4882 - val_auroc: 0.7212\n",
      "\n",
      "Epoch 00002: val_auroc improved from 0.58094 to 0.72118, saving model to model_1.new1.h5\n",
      "Epoch 3/10\n",
      "81936/81936 [==============================] - 121s 1ms/step - loss: 0.4648 - auroc: 0.7283 - val_loss: 0.4460 - val_auroc: 0.7486\n",
      "\n",
      "Epoch 00003: val_auroc improved from 0.72118 to 0.74862, saving model to model_1.new1.h5\n",
      "Epoch 4/10\n",
      "81936/81936 [==============================] - 120s 1ms/step - loss: 0.4277 - auroc: 0.7579 - val_loss: 0.4357 - val_auroc: 0.7560\n",
      "\n",
      "Epoch 00004: val_auroc improved from 0.74862 to 0.75598, saving model to model_1.new1.h5\n",
      "Epoch 5/10\n",
      "81936/81936 [==============================] - 121s 1ms/step - loss: 0.4068 - auroc: 0.7749 - val_loss: 0.4131 - val_auroc: 0.7613\n",
      "\n",
      "Epoch 00005: val_auroc improved from 0.75598 to 0.76126, saving model to model_1.new1.h5\n",
      "Epoch 6/10\n",
      "81936/81936 [==============================] - 120s 1ms/step - loss: 0.3912 - auroc: 0.7911 - val_loss: 0.4103 - val_auroc: 0.7575\n",
      "\n",
      "Epoch 00006: val_auroc did not improve from 0.76126\n",
      "Epoch 7/10\n",
      "81936/81936 [==============================] - 120s 1ms/step - loss: 0.3780 - auroc: 0.8035 - val_loss: 0.4154 - val_auroc: 0.7577\n",
      "\n",
      "Epoch 00007: val_auroc did not improve from 0.76126\n",
      "Epoch 00007: early stopping\n"
     ]
    }
   ],
   "source": [
    "\n",
    "model1_new1.compile(optimizer=optimizers.Adam(0.0005, decay=1e-6), loss='binary_crossentropy', metrics=[auroc])\n",
    "history1_new1= model1_new1.fit(train_all, y_train, batch_size=850, epochs=10, verbose=1,callbacks=callbacks_1_new1, validation_data=(test_all, y_test))"
   ]
  },
  {
   "cell_type": "markdown",
   "metadata": {},
   "source": [
    "## OBSERVATIONS:"
   ]
  },
  {
   "cell_type": "code",
   "execution_count": 29,
   "metadata": {},
   "outputs": [
    {
     "name": "stdout",
     "output_type": "stream",
     "text": [
      "+-------------------------------------------+\n",
      "|           LSTM ON DONORS CHOOSE           |\n",
      "+-------+------------+-----------+----------+\n",
      "| sr_no | MODEL      | Train AUC | Test AUC |\n",
      "+-------+------------+-----------+----------+\n",
      "|   1   | Model 1    |   0.7420  |  0.7591  |\n",
      "|       |            |           |          |\n",
      "|       | Model 1.1  |   0.7801  |  0.7632  |\n",
      "|       |            |           |          |\n",
      "|       | Model 1.2  |   0.7809  | 0.76785  |\n",
      "|       |            |           |          |\n",
      "|       | Model 1.3  |   0.7877  |  0.7625  |\n",
      "| ----- | ---------- | --------- | -------- |\n",
      "|   2   | Model 2    |   0.7354  | 0.75177  |\n",
      "|       |            |           |          |\n",
      "|       | Model 2.1  |   0.7922  | 0.74612  |\n",
      "| ----- | ---------- | --------- | -------- |\n",
      "|   3   | Model 3    |   0.7732  | 0.75880  |\n",
      "|       |            |           |          |\n",
      "|       | Model 3.1  |   0.7474  | 0.74565  |\n",
      "|       |            |           |          |\n",
      "|       | Model 3.2  |   0.7849  | 0.76426  |\n",
      "|       |            |           |          |\n",
      "|       | Model 3.3  |   0.7749  | 0.76126  |\n",
      "|       |            |           |          |\n",
      "+-------+------------+-----------+----------+\n"
     ]
    }
   ],
   "source": [
    "from prettytable import PrettyTable\n",
    "    \n",
    "x = PrettyTable([\"sr_no\",\"MODEL\", \"Train AUC\",\"Test AUC\"])\n",
    "x.align[\"MODEL\"] = \"l\"\n",
    "x.add_row([\"1\",\"Model 1\",\"0.7420\\n\",\"0.7591\"])\n",
    "x.add_row([\"\",\"Model 1.1\",\"0.7801\\n\",\"0.7632\"])\n",
    "x.add_row([\"\",\"Model 1.2\",\"0.7809\\n\",\"0.76785\"])\n",
    "x.add_row([\"\\n-----\",\"Model 1.3\\n----------\",\"0.7877\\n---------\",\"0.7625\\n--------\"])\n",
    "x.add_row([\"2\",\"Model 2\",\"0.7354\\n\",\"0.75177\"])\n",
    "x.add_row([\"\\n-----\",\"Model 2.1\\n----------\",\"0.7922\\n---------\",\"0.74612\\n--------\"])\n",
    "x.add_row([\"3\",\"Model 3\",\"0.7732\\n\",\"0.75880\"])\n",
    "x.add_row([\"\",\"Model 3.1\",\"0.7474\\n\",\"0.74565\"])\n",
    "x.add_row([\"\",\"Model 3.2\",\"0.7849\\n\",\"0.76426\"])\n",
    "x.add_row([\"\",\"Model 3.3\",\"0.7749\\n\",\"0.76126\"])\n",
    "\n",
    "\n",
    "\n",
    "print(x.get_string(title=\"LSTM ON DONORS CHOOSE\"))"
   ]
  },
  {
   "cell_type": "markdown",
   "metadata": {},
   "source": [
    "### Model 1:"
   ]
  },
  {
   "cell_type": "code",
   "execution_count": 30,
   "metadata": {
    "scrolled": true
   },
   "outputs": [
    {
     "data": {
      "image/png": "[encoded data removed]",
      "text/plain": [
       "<IPython.core.display.Image object>"
      ]
     },
     "metadata": {},
     "output_type": "display_data"
    }
   ],
   "source": [
    "from IPython.display import Image, display\n",
    "display(Image(\"model1.png\"))\n",
    "\n"
   ]
  },
  {
   "cell_type": "markdown",
   "metadata": {},
   "source": [
    "### Model 3:"
   ]
  },
  {
   "cell_type": "code",
   "execution_count": 31,
   "metadata": {},
   "outputs": [
    {
     "data": {
      "image/png": "[encoded data removed]",
      "text/plain": [
       "<IPython.core.display.Image object>"
      ]
     },
     "metadata": {},
     "output_type": "display_data"
    }
   ],
   "source": [
    "display(Image('model3.png'))"
   ]
  },
  {
   "cell_type": "markdown",
   "metadata": {},
   "source": [
    "## PROCEDURE:"
   ]
  },
  {
   "cell_type": "markdown",
   "metadata": {},
   "source": [
    "1] Firstly we are tokenizing the text data and then applying padding.<br>\n",
    "2] Then we are encoding the categorical features and standerdizing the numerical features.<br>\n",
    "#### Model 1:\n",
    "1] We are applying the architecture as given above with loss as categorical cross entropy and batch size = 512<br>\n",
    "2] On Model 1.1 we increased the batch size to 850 and loss as binary cross entropy.<br>\n",
    "3] In Model 1.2 we used CUDNNGRU with spatial dropout and loss = binary cross entropy.<br>\n",
    "4] In Model 1.3 we are again using CUDNNGRU with no spatial dropout.<br>\n",
    "5] The best AUC is for model 1.2 with AUC of 0.76785.<br>\n",
    "#### Model 2:\n",
    "1] Here we are applying TfidfVectorizer on the text features and removing the top and the low idf score features.<br>\n",
    "2] Then we are tokenizing and padding.<br>\n",
    "3] We are then applying the architecture same as model 1 with loss= categorical cross entropy.<br>\n",
    "4] On Model 2.1 we are using loss= binary cross entropy.<br>\n",
    "#### Model 3:\n",
    "1] We are one hot encoding the categorical features.<br>\n",
    "2] Applying architecture as given above with batch size = 800 and loss = categorical cross entropy.<br>\n",
    "3] The train and test data is a combination of the padded text feature of model 1 and the categorical onehot encoded features.<br>\n",
    "4] For Model 3.1 the train and test data is a combination of the padded text feature of model 1 ,model 2 and the categorical onehot encoded features with batch size of 1200.<br>\n",
    "5] For Model 3.2 we are using CUDNNGRU with spatial dropout and loss= binary cross entropy.<br>\n",
    "6] For Model 3.3 we are removing features like teacher_prefix, numerical_features, project_grade.<br>\n",
    "7] The best AUC is for model 3.2 with AUC of 0.76426 .<br>\n",
    "\n"
   ]
  },
  {
   "cell_type": "code",
   "execution_count": null,
   "metadata": {},
   "outputs": [],
   "source": []
  }
 ],
 "metadata": {
  "accelerator": "GPU",
  "colab": {
   "name": "Untitled10.ipynb",
   "provenance": []
  },
  "kernelspec": {
   "display_name": "Python 3",
   "language": "python",
   "name": "python3"
  },
  "language_info": {
   "codemirror_mode": {
    "name": "ipython",
    "version": 3
   },
   "file_extension": ".py",
   "mimetype": "text/x-python",
   "name": "python",
   "nbconvert_exporter": "python",
   "pygments_lexer": "ipython3",
   "version": "3.6.5"
  }
 },
 "nbformat": 4,
 "nbformat_minor": 1
}
